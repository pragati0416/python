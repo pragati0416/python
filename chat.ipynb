{
 "cells": [
  {
   "cell_type": "code",
   "execution_count": 5,
   "metadata": {},
   "outputs": [],
   "source": [
    "import socket"
   ]
  },
  {
   "cell_type": "code",
   "execution_count": 9,
   "metadata": {},
   "outputs": [
    {
     "data": {
      "text/plain": [
       "('LAPTOP-FTTE7GSQ', [], ['192.168.43.242'])"
      ]
     },
     "execution_count": 9,
     "metadata": {},
     "output_type": "execute_result"
    }
   ],
   "source": [
    "socket.gethostbyaddr(\"192.168.43.64\")"
   ]
  },
  {
   "cell_type": "code",
   "execution_count": 10,
   "metadata": {},
   "outputs": [
    {
     "name": "stdout",
     "output_type": "stream",
     "text": [
      "Got a connection from client  192.168.43.64 51473\n",
      "Here is what client has requested \n",
      "GET / HTTP/1.1\r\n",
      "Host: 192.168.43.242:12345\r\n",
      "Connection: keep-alive\r\n",
      "Upgrade-Insecure-Requests: 1\r\n",
      "User-Agent: Mozilla/5.0 (Windows NT 10.0; Win64; x64) AppleWebKit/537.36 (KHTML, like Gecko) Chrome/75.0.3770.80 Safari/537.36\r\n",
      "Accept: text/html,application/xhtml+xml,application/xml;q=0.9,image/webp,image/apng,*/*;q=0.8,application/signed-exchange;v=b3\r\n",
      "Accept-Encoding: gzip, deflate\r\n",
      "Accept-Language: en-US,en;q=0.9\r\n",
      "\r\n",
      "\n"
     ]
    }
   ],
   "source": [
    "server = socket.socket()\n",
    "server.bind((\"192.168.43.242\",12345))\n",
    "server.listen()\n",
    "\n",
    "\n",
    "client,addr = server.accept()\n",
    "\n",
    "print(\"Got a connection from client \",*addr)\n",
    "\n",
    "req = client.recv(1024).decode()\n",
    "\n",
    "print(\"Here is what client has requested \")\n",
    "\n",
    "print(req)\n",
    "\n",
    "resp = \"\"\"HTTP 200 OK\n",
    "Content-type:text/html\n",
    "\n",
    "\n",
    "<h1 style='color:red'>This is how internet works</h1>\"\"\"\n",
    "client.send(resp.encode())\n",
    "client.close()\n",
    "server.close()"
   ]
  },
  {
   "cell_type": "code",
   "execution_count": 1,
   "metadata": {},
   "outputs": [
    {
     "name": "stdout",
     "output_type": "stream",
     "text": [
      "Server is Listning at 192.168.43.242:12345 \n",
      "Got a Connection from 192.168.43.64:51833\n",
      "Enter message: hii\n",
      "                                                        Client-->hello\n",
      "Enter message: txtfile\n"
     ]
    },
    {
     "ename": "AttributeError",
     "evalue": "'_io.TextIOWrapper' object has no attribute 'encode'",
     "output_type": "error",
     "traceback": [
      "\u001b[1;31m---------------------------------------------------------------------------\u001b[0m",
      "\u001b[1;31mAttributeError\u001b[0m                            Traceback (most recent call last)",
      "\u001b[1;32m<ipython-input-1-07664150174e>\u001b[0m in \u001b[0;36m<module>\u001b[1;34m()\u001b[0m\n\u001b[0;32m     15\u001b[0m     \u001b[1;32mif\u001b[0m \u001b[0mmsg\u001b[0m \u001b[1;33m==\u001b[0m\u001b[1;34m\"txtfile\"\u001b[0m\u001b[1;33m:\u001b[0m\u001b[1;33m\u001b[0m\u001b[0m\n\u001b[0;32m     16\u001b[0m         \u001b[0mmsg\u001b[0m \u001b[1;33m=\u001b[0m\u001b[0mopen\u001b[0m\u001b[1;33m(\u001b[0m\u001b[1;34m\"txtfile\"\u001b[0m\u001b[1;33m,\u001b[0m\u001b[1;34m\"r\"\u001b[0m\u001b[1;33m)\u001b[0m\u001b[1;33m\u001b[0m\u001b[0m\n\u001b[1;32m---> 17\u001b[1;33m         \u001b[0mclient\u001b[0m\u001b[1;33m.\u001b[0m\u001b[0msend\u001b[0m\u001b[1;33m(\u001b[0m\u001b[0mmsg\u001b[0m\u001b[1;33m.\u001b[0m\u001b[0mencode\u001b[0m\u001b[1;33m(\u001b[0m\u001b[1;33m)\u001b[0m\u001b[1;33m)\u001b[0m\u001b[1;33m\u001b[0m\u001b[0m\n\u001b[0m\u001b[0;32m     18\u001b[0m \u001b[1;33m\u001b[0m\u001b[0m\n\u001b[0;32m     19\u001b[0m     \u001b[1;32melif\u001b[0m \u001b[0mmsg\u001b[0m\u001b[1;33m.\u001b[0m\u001b[0mstrip\u001b[0m\u001b[1;33m(\u001b[0m\u001b[1;33m)\u001b[0m\u001b[1;33m.\u001b[0m\u001b[0mlower\u001b[0m\u001b[1;33m(\u001b[0m\u001b[1;33m)\u001b[0m \u001b[1;33m==\u001b[0m \u001b[1;34m'bye'\u001b[0m \u001b[1;33m:\u001b[0m\u001b[1;33m\u001b[0m\u001b[0m\n",
      "\u001b[1;31mAttributeError\u001b[0m: '_io.TextIOWrapper' object has no attribute 'encode'"
     ]
    }
   ],
   "source": [
    "# server script \n",
    "import socket \n",
    "server = socket.socket()\n",
    "server.bind((\"192.168.43.242\",12345))\n",
    "server.listen()\n",
    "\n",
    "print(\"Server is Listning at 192.168.43.242:12345 \")\n",
    "client, addr = server.accept()\n",
    "print(f\"Got a Connection from {addr[0]}:{addr[1]}\")\n",
    "\n",
    "while True : \n",
    "    msg = input(\"Enter message: \")\n",
    "\n",
    "    client.send(msg.encode())\n",
    "    if msg ==\"txtfile\":\n",
    "        msg =open(\"txtfile\",\"r\")\n",
    "        client.send(msg.encode())\n",
    "\n",
    "    elif msg.strip().lower() == 'bye' : \n",
    "        print(\"Connection Closed by Server\")\n",
    "        client.close()\n",
    "        server.close()\n",
    "        break\n",
    "    msg = client.recv(1024).decode()\n",
    "    print(f\"Client-->{msg}\".rjust(70))\n",
    "    if msg.lower().strip() == 'bye' : \n",
    "        print(\"Connection Closed by Client\")\n",
    "        client.close()\n",
    "        server.close()\n",
    "        break\n"
   ]
  },
  {
   "cell_type": "code",
   "execution_count": null,
   "metadata": {},
   "outputs": [],
   "source": []
  },
  {
   "cell_type": "code",
   "execution_count": null,
   "metadata": {},
   "outputs": [],
   "source": []
  }
 ],
 "metadata": {
  "kernelspec": {
   "display_name": "Python 3",
   "language": "python",
   "name": "python3"
  },
  "language_info": {
   "codemirror_mode": {
    "name": "ipython",
    "version": 3
   },
   "file_extension": ".py",
   "mimetype": "text/x-python",
   "name": "python",
   "nbconvert_exporter": "python",
   "pygments_lexer": "ipython3",
   "version": "3.6.5"
  }
 },
 "nbformat": 4,
 "nbformat_minor": 2
}
