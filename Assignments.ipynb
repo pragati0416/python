{
 "cells": [
  {
   "cell_type": "markdown",
   "metadata": {},
   "source": [
    "# Assignment1"
   ]
  },
  {
   "cell_type": "code",
   "execution_count": 8,
   "metadata": {},
   "outputs": [
    {
     "name": "stdout",
     "output_type": "stream",
     "text": [
      "<class 'str'>\n",
      "<class 'float'>\n",
      "<class 'int'>\n",
      "<class 'str'>\n"
     ]
    }
   ],
   "source": [
    "print(type(\"hello\"))\n",
    "print(type(-45.66))\n",
    "print(type(4))\n",
    "print(type('spam'))"
   ]
  },
  {
   "cell_type": "code",
   "execution_count": 10,
   "metadata": {},
   "outputs": [
    {
     "name": "stdout",
     "output_type": "stream",
     "text": [
      "21\n"
     ]
    }
   ],
   "source": [
    "bacon=20\n",
    "bacon+=1\n",
    "print(bacon)"
   ]
  },
  {
   "cell_type": "code",
   "execution_count": 11,
   "metadata": {},
   "outputs": [
    {
     "name": "stdout",
     "output_type": "stream",
     "text": [
      "spamspamspam\n",
      "spamspamspam\n"
     ]
    }
   ],
   "source": [
    "print('spam'+'spamspam')\n",
    "print('spam'*3)"
   ]
  },
  {
   "cell_type": "markdown",
   "metadata": {},
   "source": [
    "# Assignment2"
   ]
  },
  {
   "cell_type": "code",
   "execution_count": 12,
   "metadata": {},
   "outputs": [
    {
     "name": "stdout",
     "output_type": "stream",
     "text": [
      "<class 'list'>\n"
     ]
    }
   ],
   "source": [
    "l=[]\n",
    "print(type(l))"
   ]
  },
  {
   "cell_type": "code",
   "execution_count": 13,
   "metadata": {},
   "outputs": [
    {
     "data": {
      "text/plain": [
       "[2, 4, 6, 'hello', 10]"
      ]
     },
     "execution_count": 13,
     "metadata": {},
     "output_type": "execute_result"
    }
   ],
   "source": [
    "spam=[2,4,6,8,10]\n",
    "spam[3]=\"hello\"\n",
    "spam"
   ]
  },
  {
   "cell_type": "code",
   "execution_count": 18,
   "metadata": {},
   "outputs": [
    {
     "data": {
      "text/plain": [
       "'d'"
      ]
     },
     "execution_count": 18,
     "metadata": {},
     "output_type": "execute_result"
    }
   ],
   "source": [
    "spam=['a','b','c','d']\n",
    "spam[int(int('3' * 2) // 11)] "
   ]
  },
  {
   "cell_type": "code",
   "execution_count": 19,
   "metadata": {},
   "outputs": [
    {
     "data": {
      "text/plain": [
       "'d'"
      ]
     },
     "execution_count": 19,
     "metadata": {},
     "output_type": "execute_result"
    }
   ],
   "source": [
    "spam[-1]"
   ]
  },
  {
   "cell_type": "code",
   "execution_count": 20,
   "metadata": {},
   "outputs": [
    {
     "data": {
      "text/plain": [
       "['a', 'b']"
      ]
     },
     "execution_count": 20,
     "metadata": {},
     "output_type": "execute_result"
    }
   ],
   "source": [
    "spam[:2]"
   ]
  },
  {
   "cell_type": "code",
   "execution_count": 26,
   "metadata": {},
   "outputs": [
    {
     "name": "stdout",
     "output_type": "stream",
     "text": [
      "1\n"
     ]
    },
    {
     "data": {
      "text/plain": [
       "[3.14, 'cat', 11, 'cat', True, 99]"
      ]
     },
     "execution_count": 26,
     "metadata": {},
     "output_type": "execute_result"
    }
   ],
   "source": [
    "bacon=[3.14, 'cat', 11, 'cat', True]\n",
    "print(bacon.index('cat'))\n",
    "bacon.append(99)\n",
    "bacon"
   ]
  },
  {
   "cell_type": "code",
   "execution_count": 28,
   "metadata": {},
   "outputs": [
    {
     "data": {
      "text/plain": [
       "[3.14, 11, True, 99]"
      ]
     },
     "execution_count": 28,
     "metadata": {},
     "output_type": "execute_result"
    }
   ],
   "source": [
    "bacon.remove('cat')\n",
    "bacon"
   ]
  },
  {
   "cell_type": "code",
   "execution_count": 33,
   "metadata": {},
   "outputs": [
    {
     "name": "stdout",
     "output_type": "stream",
     "text": [
      "<class 'tuple'>\n"
     ]
    }
   ],
   "source": [
    "t=tuple('42')\n",
    "print(type(t))"
   ]
  },
  {
   "cell_type": "code",
   "execution_count": 5,
   "metadata": {},
   "outputs": [
    {
     "name": "stdout",
     "output_type": "stream",
     "text": [
      "<class 'int'>\n"
     ]
    }
   ],
   "source": [
    "x=(42)  #expression y=x+(y+z*2)\n",
    "print(type(x))"
   ]
  },
  {
   "cell_type": "code",
   "execution_count": 6,
   "metadata": {},
   "outputs": [
    {
     "data": {
      "text/plain": [
       "2253"
      ]
     },
     "execution_count": 6,
     "metadata": {},
     "output_type": "execute_result"
    }
   ],
   "source": [
    "#type conversion\n",
    "int('2253')"
   ]
  },
  {
   "cell_type": "code",
   "execution_count": 7,
   "metadata": {},
   "outputs": [
    {
     "data": {
      "text/plain": [
       "4235.546"
      ]
     },
     "execution_count": 7,
     "metadata": {},
     "output_type": "execute_result"
    }
   ],
   "source": [
    "float(\"4235.546\") #only float value should pass"
   ]
  },
  {
   "cell_type": "code",
   "execution_count": null,
   "metadata": {},
   "outputs": [],
   "source": []
  },
  {
   "cell_type": "markdown",
   "metadata": {},
   "source": [
    "# Assignment3"
   ]
  },
  {
   "cell_type": "code",
   "execution_count": 34,
   "metadata": {},
   "outputs": [
    {
     "name": "stdout",
     "output_type": "stream",
     "text": [
      "<class 'dict'>\n"
     ]
    }
   ],
   "source": [
    "d={}\n",
    "print(type(d))"
   ]
  },
  {
   "cell_type": "code",
   "execution_count": 36,
   "metadata": {},
   "outputs": [
    {
     "data": {
      "text/plain": [
       "'42'"
      ]
     },
     "execution_count": 36,
     "metadata": {},
     "output_type": "execute_result"
    }
   ],
   "source": [
    "d={'foo':'42'}\n",
    "d['foo']"
   ]
  },
  {
   "cell_type": "code",
   "execution_count": 39,
   "metadata": {},
   "outputs": [
    {
     "ename": "KeyError",
     "evalue": "'foo'",
     "output_type": "error",
     "traceback": [
      "\u001b[1;31m---------------------------------------------------------------------------\u001b[0m",
      "\u001b[1;31mKeyError\u001b[0m                                  Traceback (most recent call last)",
      "\u001b[1;32m<ipython-input-39-587bec0a991e>\u001b[0m in \u001b[0;36m<module>\u001b[1;34m()\u001b[0m\n\u001b[0;32m      1\u001b[0m \u001b[0mspam\u001b[0m\u001b[1;33m=\u001b[0m\u001b[1;33m{\u001b[0m\u001b[1;34m'bar'\u001b[0m\u001b[1;33m:\u001b[0m\u001b[1;34m'100'\u001b[0m\u001b[1;33m}\u001b[0m\u001b[1;33m\u001b[0m\u001b[0m\n\u001b[1;32m----> 2\u001b[1;33m \u001b[0mspam\u001b[0m\u001b[1;33m[\u001b[0m\u001b[1;34m'foo'\u001b[0m\u001b[1;33m]\u001b[0m\u001b[1;33m\u001b[0m\u001b[0m\n\u001b[0m",
      "\u001b[1;31mKeyError\u001b[0m: 'foo'"
     ]
    }
   ],
   "source": [
    "spam={'bar':'100'}\n",
    "spam['foo']"
   ]
  },
  {
   "cell_type": "code",
   "execution_count": 40,
   "metadata": {},
   "outputs": [
    {
     "data": {
      "text/plain": [
       "dict_keys(['bar'])"
      ]
     },
     "execution_count": 40,
     "metadata": {},
     "output_type": "execute_result"
    }
   ],
   "source": [
    "spam.keys()"
   ]
  },
  {
   "cell_type": "code",
   "execution_count": 41,
   "metadata": {},
   "outputs": [
    {
     "data": {
      "text/plain": [
       "dict_values(['100'])"
      ]
     },
     "execution_count": 41,
     "metadata": {},
     "output_type": "execute_result"
    }
   ],
   "source": [
    "spam.values()"
   ]
  },
  {
   "cell_type": "code",
   "execution_count": 45,
   "metadata": {},
   "outputs": [],
   "source": [
    "if 'color' not in spam:\n",
    "    spam['color']='black'"
   ]
  },
  {
   "cell_type": "code",
   "execution_count": 46,
   "metadata": {},
   "outputs": [
    {
     "name": "stdout",
     "output_type": "stream",
     "text": [
      "['__class__', '__contains__', '__delattr__', '__delitem__', '__dir__', '__doc__', '__eq__', '__format__', '__ge__', '__getattribute__', '__getitem__', '__gt__', '__hash__', '__init__', '__init_subclass__', '__iter__', '__le__', '__len__', '__lt__', '__ne__', '__new__', '__reduce__', '__reduce_ex__', '__repr__', '__setattr__', '__setitem__', '__sizeof__', '__str__', '__subclasshook__', 'clear', 'copy', 'fromkeys', 'get', 'items', 'keys', 'pop', 'popitem', 'setdefault', 'update', 'values']\n"
     ]
    }
   ],
   "source": [
    "print(dir(spam))"
   ]
  },
  {
   "cell_type": "markdown",
   "metadata": {},
   "source": [
    "# Assignment4"
   ]
  },
  {
   "cell_type": "code",
   "execution_count": 55,
   "metadata": {},
   "outputs": [
    {
     "name": "stdout",
     "output_type": "stream",
     "text": [
      "this is \\ backshlash\n"
     ]
    }
   ],
   "source": [
    "print(\"this is \\\\ backshlash\")"
   ]
  },
  {
   "cell_type": "code",
   "execution_count": 56,
   "metadata": {},
   "outputs": [
    {
     "name": "stdout",
     "output_type": "stream",
     "text": [
      "Howl's Moving Castle\n"
     ]
    }
   ],
   "source": [
    "print(\"Howl's Moving Castle\")"
   ]
  },
  {
   "cell_type": "code",
   "execution_count": 58,
   "metadata": {},
   "outputs": [
    {
     "name": "stdout",
     "output_type": "stream",
     "text": [
      " Howl's isn’t escaped\n"
     ]
    }
   ],
   "source": [
    "print(\" Howl's isn’t escaped\")"
   ]
  },
  {
   "cell_type": "code",
   "execution_count": 59,
   "metadata": {},
   "outputs": [
    {
     "name": "stdout",
     "output_type": "stream",
     "text": [
      "hello \\n world \n",
      "pragati\n"
     ]
    }
   ],
   "source": [
    "print(\"hello \\\\n world \",\"pragati\",sep='\\n')"
   ]
  },
  {
   "cell_type": "code",
   "execution_count": 60,
   "metadata": {},
   "outputs": [
    {
     "data": {
      "text/plain": [
       "'e'"
      ]
     },
     "execution_count": 60,
     "metadata": {},
     "output_type": "execute_result"
    }
   ],
   "source": [
    "'Hello world!'[1]"
   ]
  },
  {
   "cell_type": "code",
   "execution_count": 61,
   "metadata": {},
   "outputs": [
    {
     "data": {
      "text/plain": [
       "'Hello'"
      ]
     },
     "execution_count": 61,
     "metadata": {},
     "output_type": "execute_result"
    }
   ],
   "source": [
    "'Hello world!'[0:5]"
   ]
  },
  {
   "cell_type": "code",
   "execution_count": 62,
   "metadata": {},
   "outputs": [
    {
     "data": {
      "text/plain": [
       "'Hello'"
      ]
     },
     "execution_count": 62,
     "metadata": {},
     "output_type": "execute_result"
    }
   ],
   "source": [
    "'Hello world!'[:5]"
   ]
  },
  {
   "cell_type": "code",
   "execution_count": 63,
   "metadata": {},
   "outputs": [
    {
     "data": {
      "text/plain": [
       "'lo world!'"
      ]
     },
     "execution_count": 63,
     "metadata": {},
     "output_type": "execute_result"
    }
   ],
   "source": [
    "'Hello world!'[3:]"
   ]
  },
  {
   "cell_type": "code",
   "execution_count": 64,
   "metadata": {},
   "outputs": [
    {
     "data": {
      "text/plain": [
       "'HELLO'"
      ]
     },
     "execution_count": 64,
     "metadata": {},
     "output_type": "execute_result"
    }
   ],
   "source": [
    "'Hello'.upper()"
   ]
  },
  {
   "cell_type": "code",
   "execution_count": 65,
   "metadata": {},
   "outputs": [
    {
     "data": {
      "text/plain": [
       "True"
      ]
     },
     "execution_count": 65,
     "metadata": {},
     "output_type": "execute_result"
    }
   ],
   "source": [
    "'Hello'.upper().isupper()"
   ]
  },
  {
   "cell_type": "code",
   "execution_count": 66,
   "metadata": {},
   "outputs": [
    {
     "data": {
      "text/plain": [
       "'hello'"
      ]
     },
     "execution_count": 66,
     "metadata": {},
     "output_type": "execute_result"
    }
   ],
   "source": [
    "'Hello'.upper().lower()"
   ]
  },
  {
   "cell_type": "code",
   "execution_count": 67,
   "metadata": {},
   "outputs": [
    {
     "data": {
      "text/plain": [
       "['Remember,', 'remember,', 'the', 'fifth', 'of', 'November.']"
      ]
     },
     "execution_count": 67,
     "metadata": {},
     "output_type": "execute_result"
    }
   ],
   "source": [
    "'Remember, remember, the fifth of November.'.split()"
   ]
  },
  {
   "cell_type": "code",
   "execution_count": 68,
   "metadata": {},
   "outputs": [
    {
     "data": {
      "text/plain": [
       "'There-can-be-only-one.'"
      ]
     },
     "execution_count": 68,
     "metadata": {},
     "output_type": "execute_result"
    }
   ],
   "source": [
    "'-'.join('There can be only one.'.split())"
   ]
  },
  {
   "cell_type": "code",
   "execution_count": 70,
   "metadata": {},
   "outputs": [
    {
     "data": {
      "text/plain": [
       "'hello'"
      ]
     },
     "execution_count": 70,
     "metadata": {},
     "output_type": "execute_result"
    }
   ],
   "source": [
    "'       hello           '.strip()"
   ]
  },
  {
   "cell_type": "markdown",
   "metadata": {},
   "source": [
    "# Assignment5"
   ]
  },
  {
   "cell_type": "code",
   "execution_count": 71,
   "metadata": {},
   "outputs": [
    {
     "data": {
      "text/plain": [
       "False"
      ]
     },
     "execution_count": 71,
     "metadata": {},
     "output_type": "execute_result"
    }
   ],
   "source": [
    "(5 > 4) and (3 == 5)"
   ]
  },
  {
   "cell_type": "code",
   "execution_count": 72,
   "metadata": {},
   "outputs": [
    {
     "data": {
      "text/plain": [
       "False"
      ]
     },
     "execution_count": 72,
     "metadata": {},
     "output_type": "execute_result"
    }
   ],
   "source": [
    "not (5 > 4)"
   ]
  },
  {
   "cell_type": "code",
   "execution_count": 73,
   "metadata": {},
   "outputs": [
    {
     "data": {
      "text/plain": [
       "True"
      ]
     },
     "execution_count": 73,
     "metadata": {},
     "output_type": "execute_result"
    }
   ],
   "source": [
    "(5 > 4) or (3 == 5)"
   ]
  },
  {
   "cell_type": "code",
   "execution_count": 74,
   "metadata": {},
   "outputs": [
    {
     "data": {
      "text/plain": [
       "False"
      ]
     },
     "execution_count": 74,
     "metadata": {},
     "output_type": "execute_result"
    }
   ],
   "source": [
    "not ((5 > 4) or (3 == 5))"
   ]
  },
  {
   "cell_type": "code",
   "execution_count": 75,
   "metadata": {},
   "outputs": [
    {
     "data": {
      "text/plain": [
       "False"
      ]
     },
     "execution_count": 75,
     "metadata": {},
     "output_type": "execute_result"
    }
   ],
   "source": [
    "(True and True) and (True == False)"
   ]
  },
  {
   "cell_type": "code",
   "execution_count": 79,
   "metadata": {},
   "outputs": [
    {
     "data": {
      "text/plain": [
       "True"
      ]
     },
     "execution_count": 79,
     "metadata": {},
     "output_type": "execute_result"
    }
   ],
   "source": [
    "(not False) or (not True)"
   ]
  },
  {
   "cell_type": "markdown",
   "metadata": {},
   "source": [
    "# Assignment6"
   ]
  },
  {
   "cell_type": "code",
   "execution_count": 77,
   "metadata": {},
   "outputs": [
    {
     "name": "stdout",
     "output_type": "stream",
     "text": [
      "list1 = [10, 'a']\n",
      "list2 = [123]\n",
      "list3 = [10, 'a']\n"
     ]
    }
   ],
   "source": [
    "def extendList(val, list=[]):\n",
    "    list.append(val)\n",
    "    return list\n",
    "\n",
    "list1 = extendList(10)\n",
    "list2 = extendList(123,[])\n",
    "list3 = extendList('a')\n",
    "\n",
    "print(\"list1 = %s\" % list1)\n",
    "print(\"list2 = %s\" % list2)\n",
    "print(\"list3 = %s\" % list3)\n"
   ]
  },
  {
   "cell_type": "code",
   "execution_count": 78,
   "metadata": {},
   "outputs": [
    {
     "name": "stdout",
     "output_type": "stream",
     "text": [
      "[6, 6, 6, 6]\n"
     ]
    }
   ],
   "source": [
    "def multipliers():\n",
    "  return [lambda x : i * x for i in range(4)]\n",
    "    \n",
    "print([m(2) for m in multipliers()])\n"
   ]
  },
  {
   "cell_type": "code",
   "execution_count": 80,
   "metadata": {},
   "outputs": [
    {
     "ename": "SyntaxError",
     "evalue": "Missing parentheses in call to 'print'. Did you mean print(Parent.x, Child1.x, Child2.x)? (<ipython-input-80-40c223afecd6>, line 10)",
     "output_type": "error",
     "traceback": [
      "\u001b[1;36m  File \u001b[1;32m\"<ipython-input-80-40c223afecd6>\"\u001b[1;36m, line \u001b[1;32m10\u001b[0m\n\u001b[1;33m    print Parent.x, Child1.x, Child2.x\u001b[0m\n\u001b[1;37m               ^\u001b[0m\n\u001b[1;31mSyntaxError\u001b[0m\u001b[1;31m:\u001b[0m Missing parentheses in call to 'print'. Did you mean print(Parent.x, Child1.x, Child2.x)?\n"
     ]
    }
   ],
   "source": [
    "class Parent(object):\n",
    "    x = 1\n",
    "\n",
    "class Child1(Parent):\n",
    "    pass\n",
    "\n",
    "class Child2(Parent):\n",
    "    pass\n",
    "\n",
    "print Parent.x, Child1.x, Child2.x\n",
    "Child1.x = 2\n",
    "print Parent.x, Child1.x, Child2.x\n",
    "Parent.x = 3\n",
    "print Parent.x, Child1.x, Child2.x\n"
   ]
  },
  {
   "cell_type": "markdown",
   "metadata": {},
   "source": [
    "### doubt"
   ]
  },
  {
   "cell_type": "code",
   "execution_count": 81,
   "metadata": {},
   "outputs": [
    {
     "ename": "SyntaxError",
     "evalue": "invalid syntax (<ipython-input-81-6885ef45b802>, line 2)",
     "output_type": "error",
     "traceback": [
      "\u001b[1;36m  File \u001b[1;32m\"<ipython-input-81-6885ef45b802>\"\u001b[1;36m, line \u001b[1;32m2\u001b[0m\n\u001b[1;33m    print \"%s/%s = %s\" % (x, y, x/y)\u001b[0m\n\u001b[1;37m                     ^\u001b[0m\n\u001b[1;31mSyntaxError\u001b[0m\u001b[1;31m:\u001b[0m invalid syntax\n"
     ]
    }
   ],
   "source": [
    "def div1(x,y):\n",
    "    print \"%s/%s = %s\" % (x, y, x/y)\n",
    "    \n",
    "def div2(x,y):\n",
    "    print \"%s//%s = %s\" % (x, y, x//y)\n",
    "\n",
    "div1(5,2)\n",
    "div1(5.,2)\n",
    "div2(5,2)\n",
    "div2(5.,2.)\n"
   ]
  },
  {
   "cell_type": "code",
   "execution_count": 83,
   "metadata": {},
   "outputs": [
    {
     "data": {
      "text/plain": [
       "[[], [], [], [], []]"
      ]
     },
     "execution_count": 83,
     "metadata": {},
     "output_type": "execute_result"
    }
   ],
   "source": [
    "list = [ [ ] ] * 5\n",
    "list"
   ]
  },
  {
   "cell_type": "code",
   "execution_count": 85,
   "metadata": {},
   "outputs": [
    {
     "data": {
      "text/plain": [
       "[[10], [10], [10], [10], [10]]"
      ]
     },
     "execution_count": 85,
     "metadata": {},
     "output_type": "execute_result"
    }
   ],
   "source": [
    "list[0].append(10)\n",
    "list"
   ]
  },
  {
   "cell_type": "code",
   "execution_count": 87,
   "metadata": {},
   "outputs": [
    {
     "data": {
      "text/plain": [
       "[[10, 20, 20], [10, 20, 20], [10, 20, 20], [10, 20, 20], [10, 20, 20]]"
      ]
     },
     "execution_count": 87,
     "metadata": {},
     "output_type": "execute_result"
    }
   ],
   "source": [
    "list[1].append(20)\n",
    "list"
   ]
  },
  {
   "cell_type": "code",
   "execution_count": 89,
   "metadata": {},
   "outputs": [
    {
     "data": {
      "text/plain": [
       "[[10, 20, 20], [10, 20, 20], [10, 20, 20], [10, 20, 20], [10, 20, 20], 30, 30]"
      ]
     },
     "execution_count": 89,
     "metadata": {},
     "output_type": "execute_result"
    }
   ],
   "source": [
    "list.append(30)\n",
    "list"
   ]
  },
  {
   "cell_type": "markdown",
   "metadata": {},
   "source": [
    "## doubt  not Clear"
   ]
  },
  {
   "cell_type": "code",
   "execution_count": 2,
   "metadata": {},
   "outputs": [],
   "source": [
    "l = [ \n",
    "    [ 0,1,2,3],\n",
    "    [4,5,6,7],\n",
    "    [8,9,10,11]\n",
    "]"
   ]
  },
  {
   "cell_type": "code",
   "execution_count": 7,
   "metadata": {},
   "outputs": [],
   "source": [
    "l[0][2] = 5"
   ]
  },
  {
   "cell_type": "code",
   "execution_count": 8,
   "metadata": {},
   "outputs": [
    {
     "data": {
      "text/plain": [
       "[[0, 1, 5, 3], [4, 5, 6, 7], [8, 9, 10, 11]]"
      ]
     },
     "execution_count": 8,
     "metadata": {},
     "output_type": "execute_result"
    }
   ],
   "source": [
    "l"
   ]
  },
  {
   "cell_type": "markdown",
   "metadata": {},
   "source": [
    "# Doubts"
   ]
  },
  {
   "cell_type": "code",
   "execution_count": 15,
   "metadata": {},
   "outputs": [
    {
     "name": "stdout",
     "output_type": "stream",
     "text": [
      "enter the m x n matrix:  2 2\n",
      "2\n",
      "3\n",
      "[[...], 2, 3]\n",
      "4\n",
      "5\n",
      "[[...], [...], 2, 3, 4, 5]\n"
     ]
    }
   ],
   "source": [
    "i,j=map(int,input(\"enter the m x n matrix:  \").split())\n",
    "l=[]\n",
    "a=0\n",
    "while a<i:\n",
    "    b=0\n",
    "    while b<j:\n",
    "        n=int(input())\n",
    "        l.append(n)\n",
    "        b+=1\n",
    "    l.insert(a,l)\n",
    "    print(l)\n",
    "    a+=1"
   ]
  },
  {
   "cell_type": "code",
   "execution_count": 1,
   "metadata": {},
   "outputs": [
    {
     "name": "stdout",
     "output_type": "stream",
     "text": [
      "enter the m x n array1 values: dlfajklds\n"
     ]
    },
    {
     "ename": "ValueError",
     "evalue": "invalid literal for int() with base 10: 'dlfajklds'",
     "output_type": "error",
     "traceback": [
      "\u001b[1;31m---------------------------------------------------------------------------\u001b[0m",
      "\u001b[1;31mValueError\u001b[0m                                Traceback (most recent call last)",
      "\u001b[1;32m<ipython-input-1-ef6be990be4d>\u001b[0m in \u001b[0;36m<module>\u001b[1;34m()\u001b[0m\n\u001b[1;32m----> 1\u001b[1;33m \u001b[0mi\u001b[0m\u001b[1;33m,\u001b[0m\u001b[0mj\u001b[0m\u001b[1;33m=\u001b[0m\u001b[0mmap\u001b[0m\u001b[1;33m(\u001b[0m\u001b[0mint\u001b[0m\u001b[1;33m,\u001b[0m\u001b[1;33m(\u001b[0m\u001b[0minput\u001b[0m\u001b[1;33m(\u001b[0m\u001b[1;34m\"enter the m x n array1 values: \"\u001b[0m\u001b[1;33m)\u001b[0m\u001b[1;33m.\u001b[0m\u001b[0msplit\u001b[0m\u001b[1;33m(\u001b[0m\u001b[1;33m)\u001b[0m\u001b[1;33m)\u001b[0m\u001b[1;33m)\u001b[0m   \u001b[1;31m#matrix addtion\u001b[0m\u001b[1;33m\u001b[0m\u001b[0m\n\u001b[0m\u001b[0;32m      2\u001b[0m \u001b[0mm\u001b[0m\u001b[1;33m,\u001b[0m\u001b[0mn\u001b[0m\u001b[1;33m=\u001b[0m\u001b[0mmap\u001b[0m\u001b[1;33m(\u001b[0m\u001b[0mint\u001b[0m\u001b[1;33m,\u001b[0m\u001b[1;33m(\u001b[0m\u001b[0minput\u001b[0m\u001b[1;33m(\u001b[0m\u001b[1;34m\"enter the m x n array1 values: \"\u001b[0m\u001b[1;33m)\u001b[0m\u001b[1;33m.\u001b[0m\u001b[0msplit\u001b[0m\u001b[1;33m(\u001b[0m\u001b[1;33m)\u001b[0m\u001b[1;33m)\u001b[0m\u001b[1;33m)\u001b[0m\u001b[1;33m\u001b[0m\u001b[0m\n\u001b[0;32m      3\u001b[0m \u001b[1;32mif\u001b[0m \u001b[0mi\u001b[0m\u001b[1;33m==\u001b[0m\u001b[0mm\u001b[0m \u001b[1;32mand\u001b[0m \u001b[0mj\u001b[0m\u001b[1;33m==\u001b[0m\u001b[0mn\u001b[0m\u001b[1;33m:\u001b[0m\u001b[1;33m\u001b[0m\u001b[0m\n\u001b[0;32m      4\u001b[0m     \u001b[0ma\u001b[0m\u001b[1;33m=\u001b[0m\u001b[1;36m0\u001b[0m\u001b[1;33m\u001b[0m\u001b[0m\n\u001b[0;32m      5\u001b[0m     \u001b[0ml1\u001b[0m\u001b[1;33m=\u001b[0m\u001b[1;33m[\u001b[0m\u001b[1;33m]\u001b[0m\u001b[1;33m\u001b[0m\u001b[0m\n",
      "\u001b[1;31mValueError\u001b[0m: invalid literal for int() with base 10: 'dlfajklds'"
     ]
    }
   ],
   "source": [
    "i,j=map(int,(input(\"enter the m x n array1 values: \").split()))   #matrix addtion\n",
    "m,n=map(int,(input(\"enter the m x n array1 values: \").split()))\n",
    "if i==m and j==n:\n",
    "    a=0\n",
    "    l1=[]\n",
    "    l2=[]\n",
    "    m1=[]\n",
    "    m2=[]\n",
    "    while a<i:\n",
    "        b=0\n",
    "        while b<j:\n",
    "            n1,n2=map(int,input().split())\n",
    "            l1.append(n1)\n",
    "            m1.append(n2)\n",
    "            b+=1\n",
    "        l2.append(l1)\n",
    "        m2.append(m1)\n",
    "        l1=[]\n",
    "        m1=[]\n",
    "        a+=1\n",
    "    a=0\n",
    "    while a<i:\n",
    "        b=0\n",
    "        while b<j:\n",
    "            n=l2[a][b]+m2[a][b]\n",
    "            l1.append(n)\n",
    "            b+=1\n",
    "        m1.append(l1)\n",
    "        l1=[]\n",
    "        a+=1\n",
    "    print(m1)"
   ]
  },
  {
   "cell_type": "markdown",
   "metadata": {},
   "source": [
    "# Doubts"
   ]
  },
  {
   "cell_type": "code",
   "execution_count": 48,
   "metadata": {},
   "outputs": [
    {
     "name": "stdout",
     "output_type": "stream",
     "text": [
      "enter the order of matrix:   2 3\n",
      "2\n",
      "3\n",
      "4\n",
      "5\n",
      "6\n",
      "7\n"
     ]
    },
    {
     "ename": "IndexError",
     "evalue": "list index out of range",
     "output_type": "error",
     "traceback": [
      "\u001b[1;31m---------------------------------------------------------------------------\u001b[0m",
      "\u001b[1;31mIndexError\u001b[0m                                Traceback (most recent call last)",
      "\u001b[1;32m<ipython-input-48-75466c3ec427>\u001b[0m in \u001b[0;36m<module>\u001b[1;34m()\u001b[0m\n\u001b[0;32m     18\u001b[0m     \u001b[1;32mwhile\u001b[0m \u001b[0mb\u001b[0m\u001b[1;33m<\u001b[0m\u001b[0mi\u001b[0m\u001b[1;33m:\u001b[0m\u001b[1;33m\u001b[0m\u001b[0m\n\u001b[0;32m     19\u001b[0m         \u001b[1;32mif\u001b[0m \u001b[0ma\u001b[0m\u001b[1;33m==\u001b[0m\u001b[0mb\u001b[0m\u001b[1;33m:\u001b[0m\u001b[1;33m\u001b[0m\u001b[0m\n\u001b[1;32m---> 20\u001b[1;33m             \u001b[0mm\u001b[0m\u001b[1;33m[\u001b[0m\u001b[0ma\u001b[0m\u001b[1;33m]\u001b[0m\u001b[1;33m[\u001b[0m\u001b[0mb\u001b[0m\u001b[1;33m]\u001b[0m\u001b[1;33m.\u001b[0m\u001b[0minsert\u001b[0m\u001b[1;33m(\u001b[0m\u001b[0mb\u001b[0m\u001b[1;33m,\u001b[0m\u001b[0ml2\u001b[0m\u001b[1;33m)\u001b[0m\u001b[1;33m\u001b[0m\u001b[0m\n\u001b[0m\u001b[0;32m     21\u001b[0m         \u001b[0mm\u001b[0m\u001b[1;33m[\u001b[0m\u001b[0mb\u001b[0m\u001b[1;33m]\u001b[0m\u001b[1;33m[\u001b[0m\u001b[0ma\u001b[0m\u001b[1;33m]\u001b[0m\u001b[1;33m.\u001b[0m\u001b[0minsert\u001b[0m\u001b[1;33m(\u001b[0m\u001b[0mb\u001b[0m\u001b[1;33m,\u001b[0m\u001b[0ml2\u001b[0m\u001b[1;33m)\u001b[0m\u001b[1;33m\u001b[0m\u001b[0m\n\u001b[0;32m     22\u001b[0m         \u001b[0mb\u001b[0m\u001b[1;33m+=\u001b[0m\u001b[1;36m1\u001b[0m\u001b[1;33m\u001b[0m\u001b[0m\n",
      "\u001b[1;31mIndexError\u001b[0m: list index out of range"
     ]
    }
   ],
   "source": [
    "i,j=map(int,input(\"enter the order of matrix:   \").split())\n",
    "a=0\n",
    "l1=[]\n",
    "l2=[]\n",
    "while a<i:\n",
    "    b=0\n",
    "    while b<j:\n",
    "        n=int(input())\n",
    "        l1.append(n)\n",
    "        b+=1\n",
    "    l2.append(l1)\n",
    "    l1=[]\n",
    "    a+=1\n",
    "a=0\n",
    "m=[[]]\n",
    "while a<j:\n",
    "    b=0\n",
    "    while b<i:\n",
    "        if a==b:\n",
    "            m[a][b].insert(b,l2)\n",
    "        m[b][a].insert(b,l2)        \n",
    "        b+=1\n",
    "    a+=1\n",
    "print(m)"
   ]
  },
  {
   "cell_type": "code",
   "execution_count": 43,
   "metadata": {},
   "outputs": [
    {
     "name": "stdout",
     "output_type": "stream",
     "text": [
      "[[2, 3, 4], [5, 6, 7]]\n"
     ]
    },
    {
     "data": {
      "text/plain": [
       "(2, 5)"
      ]
     },
     "execution_count": 43,
     "metadata": {},
     "output_type": "execute_result"
    }
   ],
   "source": [
    "print(l2)\n",
    "next(zip(*l2))"
   ]
  },
  {
   "cell_type": "code",
   "execution_count": null,
   "metadata": {},
   "outputs": [],
   "source": [
    "### l=[1,2,3,4]\n",
    "l1=[]\n",
    "l2=[]\n",
    "l1.insert(0,[1,2,3,4])\n",
    "n=l1[0][1]+l[0]\n",
    "l2.append(n)\n",
    "print(l)\n",
    "print(l1)\n",
    "print(l2)"
   ]
  },
  {
   "cell_type": "code",
   "execution_count": 7,
   "metadata": {},
   "outputs": [
    {
     "ename": "IndexError",
     "evalue": "list index out of range",
     "output_type": "error",
     "traceback": [
      "\u001b[1;31m---------------------------------------------------------------------------\u001b[0m",
      "\u001b[1;31mIndexError\u001b[0m                                Traceback (most recent call last)",
      "\u001b[1;32m<ipython-input-7-0ef6834abaab>\u001b[0m in \u001b[0;36m<module>\u001b[1;34m()\u001b[0m\n\u001b[0;32m      8\u001b[0m         \u001b[0mj\u001b[0m\u001b[1;33m+=\u001b[0m\u001b[1;36m1\u001b[0m\u001b[1;33m\u001b[0m\u001b[0m\n\u001b[0;32m      9\u001b[0m     \u001b[0mc\u001b[0m\u001b[1;33m+=\u001b[0m\u001b[1;36m1\u001b[0m\u001b[1;33m\u001b[0m\u001b[0m\n\u001b[1;32m---> 10\u001b[1;33m     \u001b[0ml\u001b[0m\u001b[1;33m[\u001b[0m\u001b[0mc\u001b[0m\u001b[1;33m]\u001b[0m\u001b[1;33m.\u001b[0m\u001b[0mappend\u001b[0m\u001b[1;33m(\u001b[0m\u001b[0mn\u001b[0m\u001b[1;33m)\u001b[0m\u001b[1;33m\u001b[0m\u001b[0m\n\u001b[0m\u001b[0;32m     11\u001b[0m \u001b[0mprint\u001b[0m\u001b[1;33m(\u001b[0m\u001b[0mn\u001b[0m\u001b[1;33m)\u001b[0m\u001b[1;33m\u001b[0m\u001b[0m\n\u001b[0;32m     12\u001b[0m \u001b[0mprint\u001b[0m\u001b[1;33m(\u001b[0m\u001b[0ml\u001b[0m\u001b[1;33m)\u001b[0m\u001b[1;33m\u001b[0m\u001b[0m\n",
      "\u001b[1;31mIndexError\u001b[0m: list index out of range"
     ]
    }
   ],
   "source": [
    "l=[]\n",
    "c=0\n",
    "while c<5:\n",
    "    n=[]\n",
    "    j=1\n",
    "    while j<=5:\n",
    "        n.append(j)\n",
    "        j+=1\n",
    "    c+=1\n",
    "    l[c].append(n)\n",
    "print(n)\n",
    "print(l)"
   ]
  },
  {
   "cell_type": "code",
   "execution_count": null,
   "metadata": {},
   "outputs": [],
   "source": [
    "#### l=[]\n",
    "l.append(2)\n",
    "print(type(l[0]))"
   ]
  },
  {
   "cell_type": "markdown",
   "metadata": {},
   "source": [
    "### doubt"
   ]
  },
  {
   "cell_type": "code",
   "execution_count": 10,
   "metadata": {},
   "outputs": [
    {
     "data": {
      "text/plain": [
       "[[4]]"
      ]
     },
     "execution_count": 10,
     "metadata": {},
     "output_type": "execute_result"
    }
   ],
   "source": [
    "l=[[]]\n",
    "l[0].insert(2,4)\n",
    "l"
   ]
  },
  {
   "cell_type": "code",
   "execution_count": 1,
   "metadata": {},
   "outputs": [
    {
     "name": "stdout",
     "output_type": "stream",
     "text": [
      "enter two values: \n",
      "3\n",
      "4\n",
      "3\n"
     ]
    },
    {
     "data": {
      "text/plain": [
       "[[...], [...], [...], '3', '4', '3']"
      ]
     },
     "execution_count": 1,
     "metadata": {},
     "output_type": "execute_result"
    }
   ],
   "source": [
    "l=[]\n",
    "k=0\n",
    "print(\"enter two values: \")\n",
    "while k<3:\n",
    "    l.append(input())\n",
    "    l.insert(k,l)\n",
    "    k+=1\n",
    "l"
   ]
  },
  {
   "cell_type": "code",
   "execution_count": 3,
   "metadata": {},
   "outputs": [
    {
     "name": "stdout",
     "output_type": "stream",
     "text": [
      "['hello', 'welcome', 'to', 'python', 'test', 'your', 'knowledge']\n"
     ]
    }
   ],
   "source": [
    "list1,list2,list3=['hello','welcome','to','python'],['test','your','knowledge'],[\"let's\",'see','how','far','you','can','think']\n",
    "print(list1+list2)"
   ]
  },
  {
   "cell_type": "markdown",
   "metadata": {},
   "source": [
    "# Assignment7"
   ]
  },
  {
   "cell_type": "code",
   "execution_count": 8,
   "metadata": {},
   "outputs": [
    {
     "name": "stdout",
     "output_type": "stream",
     "text": [
      "4 3\n",
      "4 is gratest number\n"
     ]
    }
   ],
   "source": [
    "num1,num2=map(int,input().split()) #program to find max between two numbers\n",
    "if num1>num2:\n",
    "    f=num1\n",
    "else:\n",
    "    f=num2\n",
    "print(f\"{f} is gratest number\")"
   ]
  },
  {
   "cell_type": "code",
   "execution_count": 12,
   "metadata": {},
   "outputs": [
    {
     "name": "stdout",
     "output_type": "stream",
     "text": [
      "2 4 3\n",
      "4 is the greatest number\n"
     ]
    }
   ],
   "source": [
    "num1,num2,num3=map(int,input().split()) #prgram to find max between three numbers\n",
    "if num1>num2 and num1>num3:\n",
    "    f=num1\n",
    "elif num2>num3:\n",
    "    f=num2\n",
    "else:\n",
    "    f=num3\n",
    "print(f\"{f} is the greatest number\")"
   ]
  },
  {
   "cell_type": "markdown",
   "metadata": {},
   "source": [
    "### doubt Clear"
   ]
  },
  {
   "cell_type": "code",
   "execution_count": 12,
   "metadata": {},
   "outputs": [
    {
     "name": "stdout",
     "output_type": "stream",
     "text": [
      "5\n",
      "positive\n"
     ]
    }
   ],
   "source": [
    "num=next(map(int,input())) #doubt\n",
    "if num > 0:\n",
    "    print(\"positive\")\n",
    "elif num < 0:\n",
    "    print(\"negative\")\n",
    "else:\n",
    "    print(\"zero\")"
   ]
  },
  {
   "cell_type": "code",
   "execution_count": 17,
   "metadata": {},
   "outputs": [
    {
     "name": "stdout",
     "output_type": "stream",
     "text": [
      "0\n",
      "zero\n"
     ]
    }
   ],
   "source": [
    "num=int(input()) #number is positive,negative or zero \n",
    "if num > 0:\n",
    "    print(\"positive\")\n",
    "elif num < 0:\n",
    "    print(\"negative\")\n",
    "else:\n",
    "    print(\"zero\")"
   ]
  },
  {
   "cell_type": "code",
   "execution_count": 19,
   "metadata": {},
   "outputs": [
    {
     "name": "stdout",
     "output_type": "stream",
     "text": [
      "34\n",
      "34 is not divisible by 5 and 11\n"
     ]
    }
   ],
   "source": [
    "num=int(input())   #program to find number divisible by 5 and 11 or not\n",
    "if num%5==0 and num%11==0:\n",
    "    print(f\"{num} is divisible by 5 and 11\")\n",
    "else:\n",
    "    print(f\"{num} is not divisible by 5 and 11\")"
   ]
  },
  {
   "cell_type": "code",
   "execution_count": 22,
   "metadata": {},
   "outputs": [
    {
     "name": "stdout",
     "output_type": "stream",
     "text": [
      "45\n",
      "odd\n"
     ]
    }
   ],
   "source": [
    "num=int(input()) #odd or even number\n",
    "if num%2:\n",
    "    print(\"odd\")\n",
    "else:\n",
    "    print(\"even\")"
   ]
  },
  {
   "cell_type": "code",
   "execution_count": 43,
   "metadata": {},
   "outputs": [
    {
     "name": "stdout",
     "output_type": "stream",
     "text": [
      "200\n",
      "not leap year\n"
     ]
    }
   ],
   "source": [
    "year=int(input()) #leap year or not\n",
    "if year%4==0:\n",
    "    if year%400==0:\n",
    "        print(\"leap year\")\n",
    "    elif year%100==0:\n",
    "        print(\"not leap year\")\n",
    "    else:\n",
    "        print(\"leap year\")\n",
    "else:\n",
    "    print(\"not leap year\")"
   ]
  },
  {
   "cell_type": "code",
   "execution_count": 50,
   "metadata": {},
   "outputs": [
    {
     "name": "stdout",
     "output_type": "stream",
     "text": [
      "K\n",
      "alphabet\n"
     ]
    }
   ],
   "source": [
    "n=input().lower() #program is alphabet or not\n",
    "if n>'a' and n<'z':\n",
    "    print(\"alphabet\")\n",
    "else:\n",
    "    print(\"not alphabet\")"
   ]
  },
  {
   "cell_type": "code",
   "execution_count": 54,
   "metadata": {},
   "outputs": [
    {
     "name": "stdout",
     "output_type": "stream",
     "text": [
      "o\n",
      "vowel\n"
     ]
    }
   ],
   "source": [
    "n=input().lower() #vowel or consonent\n",
    "if n>'a' and n<'z':\n",
    "    if n=='a'or n=='e'or n=='i'or n=='o'or n=='u':\n",
    "        print(\"vowel\")\n",
    "    else:\n",
    "        print(\"consonent\")\n",
    "else:\n",
    "    print(\"not alphabet\")"
   ]
  },
  {
   "cell_type": "code",
   "execution_count": 57,
   "metadata": {},
   "outputs": [
    {
     "name": "stdout",
     "output_type": "stream",
     "text": [
      "U\n",
      "alphabet\n"
     ]
    }
   ],
   "source": [
    "n=input().lower()   #alphabet ,digit or special character \n",
    "if n>'a'and n<'z':\n",
    "    print(\"alphabet\")\n",
    "elif n>'0' and n<'9':\n",
    "    print(\"digit\")\n",
    "else:\n",
    "    print(\"special character\")"
   ]
  },
  {
   "cell_type": "code",
   "execution_count": 60,
   "metadata": {},
   "outputs": [
    {
     "name": "stdout",
     "output_type": "stream",
     "text": [
      "f\n",
      "lower case letter\n"
     ]
    }
   ],
   "source": [
    "n=input()       #lower case and upper case \n",
    "if n>'A'and n<'Z':\n",
    "    print(\"upper case letter\")\n",
    "elif n>'a'and n<'z':\n",
    "    print(\"lower case letter\")\n",
    "else:\n",
    "    print(\"not alphabet\")"
   ]
  },
  {
   "cell_type": "code",
   "execution_count": 64,
   "metadata": {},
   "outputs": [
    {
     "name": "stdout",
     "output_type": "stream",
     "text": [
      "0\n",
      "!!!!!warning!!!!  not correct number\n"
     ]
    }
   ],
   "source": [
    "n=int(input())  #day if day number is given\n",
    "if n==1:\n",
    "    print(\"monday\")\n",
    "elif n==2:\n",
    "    print(\"tuesday\")\n",
    "elif n==3:\n",
    "    print(\"wednesday\")\n",
    "elif n==4:\n",
    "    print(\"thursday\")\n",
    "elif n==5:\n",
    "    print(\"friday\")\n",
    "elif n==6:\n",
    "    print(\"saturday\")\n",
    "elif n==7:\n",
    "    print(\"sunday\")\n",
    "else:\n",
    "    print(\"!!!!!warning!!!!  not correct number\")"
   ]
  },
  {
   "cell_type": "code",
   "execution_count": 69,
   "metadata": {},
   "outputs": [
    {
     "name": "stdout",
     "output_type": "stream",
     "text": [
      "enter the number !!!  1-12   10\n",
      "number of days are 31\n"
     ]
    }
   ],
   "source": [
    "n=int(input(\"enter the number !!!  1-12   \")) # number of days in a month according to month number\n",
    "if n==1 or n==3 or n==5 or n==7 or n==8 or n==10 or n==12:\n",
    "    print(\"number of days are 31\")\n",
    "elif n==4 or n==6 or n==9 or n==11:\n",
    "    print(\"number of days are 30\")\n",
    "else:\n",
    "    print(\"number of days are either 28 or 29\")"
   ]
  },
  {
   "cell_type": "code",
   "execution_count": 72,
   "metadata": {},
   "outputs": [
    {
     "name": "stdout",
     "output_type": "stream",
     "text": [
      "enter the three angles of triangle:  60 60 60\n",
      "valid\n"
     ]
    }
   ],
   "source": [
    "a,b,c=map(int,input(\"enter the three angles of triangle:  \").split()) #validity of triangle on the basis of angles\n",
    "if (a+b+c)==180:\n",
    "    print(\"valid\")\n",
    "else:\n",
    "    print(\"invalid\")"
   ]
  },
  {
   "cell_type": "code",
   "execution_count": 8,
   "metadata": {},
   "outputs": [
    {
     "name": "stdout",
     "output_type": "stream",
     "text": [
      "enter the three sides of triangle:  45 56 1\n",
      "valid\n"
     ]
    }
   ],
   "source": [
    "a,b,c=map(int,input(\"enter the three sides of triangle:  \").split()) #validity of triangle on the basis of side length\n",
    "if (a+b)>c or (b+c)>a or (a+c)>b:\n",
    "    print(\"valid\")\n",
    "else:\n",
    "    print(\"invalid\")"
   ]
  },
  {
   "cell_type": "code",
   "execution_count": 7,
   "metadata": {},
   "outputs": [
    {
     "name": "stdout",
     "output_type": "stream",
     "text": [
      "enter the three angles of triangle:  60 60 60\n",
      "equilateral\n"
     ]
    }
   ],
   "source": [
    "a,b,c=map(int,input(\"enter the three angles of triangle:  \").split()) #triangle type\n",
    "if (a+b+c)>180:\n",
    "    print(\"isosceles triangle\")\n",
    "elif (a+b+c)<180:\n",
    "    print(\"scalene triangle\")\n",
    "else:\n",
    "    print(\"equilateral\")"
   ]
  },
  {
   "cell_type": "code",
   "execution_count": 86,
   "metadata": {},
   "outputs": [
    {
     "name": "stdout",
     "output_type": "stream",
     "text": [
      "enter the value of a,b,c :  1 4 4\n",
      "2.0\n",
      "2.0\n"
     ]
    }
   ],
   "source": [
    "a,b,c=map(int,input(\"enter the value of a,b,c :  \").split()) #quardatic equation\n",
    "s=(b*b)-(4*a*c)\n",
    "t=0.5\n",
    "print((s**t)/(2*a)+b/(2*a))\n",
    "print(b/(2*a)-(s**t)/(2*a))"
   ]
  },
  {
   "cell_type": "code",
   "execution_count": 17,
   "metadata": {},
   "outputs": [
    {
     "name": "stdout",
     "output_type": "stream",
     "text": [
      "enter two numbers:  400 400\n",
      "no profit no loss\n"
     ]
    }
   ],
   "source": [
    "m,n=map(int,input(\"enter two numbers:  \").split()) #profit and loss\n",
    "if (m-n)>0:\n",
    "    print(\"profit\")\n",
    "elif (m-n)<0:\n",
    "    print(\"loss\")\n",
    "else:\n",
    "    print(\"no profit no loss\")"
   ]
  },
  {
   "cell_type": "code",
   "execution_count": 1,
   "metadata": {},
   "outputs": [
    {
     "name": "stdout",
     "output_type": "stream",
     "text": [
      "maximum marks of each subject is 100: \n",
      "\n",
      "enter the marks of five subjects:  100 100 100 90 100\n",
      "grade A\n"
     ]
    }
   ],
   "source": [
    "print(\"maximum marks of each subject is 100: \\n\")  #grades according to marks\n",
    "m1,m2,m3,m4,m5=map(int,input(\"enter the marks of five subjects:  \").split())\n",
    "if m1<=100 and m2<=100 and m3<=100 and m4<=100 and m5<=100:\n",
    "    if ((m1+m2+m3+m4+m5)/500*100) >=90:\n",
    "        print(\"grade A\")\n",
    "    elif ((m1+m2+m3+m4+m5)/500*100) >=80:\n",
    "        print(\"grade B\")\n",
    "    elif ((m1+m2+m3+m4+m5)/500*100) >=70:\n",
    "        print(\"grade C\")\n",
    "    elif ((m1+m2+m3+m4+m5)/500*100) >=60:\n",
    "        print(\"grade D\")\n",
    "    elif ((m1+m2+m3+m4+m5)/500*100) >=40:\n",
    "        print(\"grade E\")\n",
    "    else:\n",
    "        print(\"grade F\")\n",
    "else:\n",
    "    print(\"invalid input,please enter valid input \")"
   ]
  },
  {
   "cell_type": "code",
   "execution_count": 2,
   "metadata": {},
   "outputs": [
    {
     "name": "stdout",
     "output_type": "stream",
     "text": [
      "enter the basic salary of employee:  30000\n",
      "67500.0\n"
     ]
    }
   ],
   "source": [
    "basic_salary=int(input(\"enter the basic salary of employee:  \")) #salary of employee\n",
    "if basic_salary<=10000:\n",
    "    hra=basic_salary * .2\n",
    "    da=basic_salary * .8\n",
    "    print(basic_salary+hra+da)\n",
    "elif basic_salary<=20000:\n",
    "    hra=basic_salary * .25\n",
    "    da=basic_salary * .9\n",
    "    print(basic_salary+hra+da)\n",
    "else:\n",
    "    hra=basic_salary * .3\n",
    "    da=basic_salary * .95\n",
    "    print(basic_salary+hra+da)\n",
    "    "
   ]
  },
  {
   "cell_type": "code",
   "execution_count": 2,
   "metadata": {},
   "outputs": [
    {
     "name": "stdout",
     "output_type": "stream",
     "text": [
      "enter the eletricity unit:   275\n",
      "467.5\n"
     ]
    }
   ],
   "source": [
    "unit=int(input(\"enter the eletricity unit:   \")) #calculate electricity bill\n",
    "if unit<=50:\n",
    "    print(unit*.50)\n",
    "elif unit<=100:\n",
    "    print(unit*.75)\n",
    "elif unit<=200:\n",
    "    print(unit*1.20)\n",
    "else:\n",
    "    print((unit*1.5)+(unit*.2))"
   ]
  },
  {
   "cell_type": "code",
   "execution_count": 13,
   "metadata": {},
   "outputs": [
    {
     "name": "stdout",
     "output_type": "stream",
     "text": [
      "enter the amount in indian currency: 30000\n",
      "no of notes of 10 in 30000 is 3000\n",
      "no of notes of 20 in 30000 is 1500\n",
      "no of notes of 50 in 30000 is 600\n",
      "no of notes of 100 in 30000 is 300\n",
      "no of notes of 200 in 30000 is 150\n",
      "no of notes of 500 in 30000 is 60\n",
      "no of notes of 2000 in 30000 is 15\n"
     ]
    }
   ],
   "source": [
    "n=int(input(\"enter the amount in indian currency: \")) #program to calculate no. of notes in amount\n",
    "if n>=10:\n",
    "    print(f\"no of notes of 10 in {n} is {n//10}\")\n",
    "    if n>=20:\n",
    "        print(f\"no of notes of 20 in {n} is {n//20}\")\n",
    "        if n>=50:\n",
    "            print(f\"no of notes of 50 in {n} is {n//50}\")\n",
    "            if n>=100:\n",
    "                print(f\"no of notes of 100 in {n} is {n//100}\")\n",
    "                if n>=200:\n",
    "                    print(f\"no of notes of 200 in {n} is {n//200}\")\n",
    "                    if n>=500:\n",
    "                        print(f\"no of notes of 500 in {n} is {n//500}\")\n",
    "                        if n>=2000:\n",
    "                            print(f\"no of notes of 2000 in {n} is {n//2000}\")\n",
    "else:\n",
    "    print(\"no notes are available\")"
   ]
  },
  {
   "cell_type": "markdown",
   "metadata": {},
   "source": [
    "# Assignment8"
   ]
  },
  {
   "cell_type": "code",
   "execution_count": 3,
   "metadata": {},
   "outputs": [
    {
     "name": "stdout",
     "output_type": "stream",
     "text": [
      "Hello World!\n"
     ]
    }
   ],
   "source": [
    "print(\"Hello World!\")"
   ]
  },
  {
   "cell_type": "code",
   "execution_count": 5,
   "metadata": {},
   "outputs": [
    {
     "name": "stdout",
     "output_type": "stream",
     "text": [
      "enter two numbers:   2 3\n",
      "5\n"
     ]
    }
   ],
   "source": [
    "n1,n2=map(int,input(\"enter two numbers:   \").split())#additon of two numbers\n",
    "print(n1+n2)"
   ]
  },
  {
   "cell_type": "code",
   "execution_count": 14,
   "metadata": {},
   "outputs": [
    {
     "name": "stdout",
     "output_type": "stream",
     "text": [
      "enter the base and height of triangle:  2 3\n",
      "3.0\n"
     ]
    }
   ],
   "source": [
    "b,h=map(int,input(\"enter the base and height of triangle:  \").split())#calculate area of triangle\n",
    "print(0.5*b*h)"
   ]
  },
  {
   "cell_type": "code",
   "execution_count": 17,
   "metadata": {},
   "outputs": [
    {
     "name": "stdout",
     "output_type": "stream",
     "text": [
      "enter the number: 49\n",
      "7.0\n"
     ]
    }
   ],
   "source": [
    "import math\n",
    "n=int(input(\"enter the number: \")) #square root of given number\n",
    "print(math.sqrt(n))"
   ]
  },
  {
   "cell_type": "code",
   "execution_count": 16,
   "metadata": {},
   "outputs": [
    {
     "name": "stdout",
     "output_type": "stream",
     "text": [
      "enter two numbers:  3 5\n",
      "numbers are after swapping 5 and 3\n"
     ]
    }
   ],
   "source": [
    "n1,n2=map(int,input(\"enter two numbers:  \").split()) #swapping by using third variable\n",
    "t=n1\n",
    "n1=n2\n",
    "n2=t\n",
    "print(f\"numbers are after swapping {n1} and {n2}\")"
   ]
  },
  {
   "cell_type": "code",
   "execution_count": 21,
   "metadata": {},
   "outputs": [
    {
     "name": "stdout",
     "output_type": "stream",
     "text": [
      "enter two numbers:  3 4\n",
      "numbers are after swapping 4 and 3\n"
     ]
    }
   ],
   "source": [
    "n1,n2=map(int,input(\"enter two numbers:  \").split()) #swapping without using third variable\n",
    "n1=n1+n2\n",
    "n2=n1-n2\n",
    "n1=n1-n2\n",
    "print(f\"numbers are after swapping {n1} and {n2}\")"
   ]
  },
  {
   "cell_type": "code",
   "execution_count": 26,
   "metadata": {},
   "outputs": [
    {
     "name": "stdout",
     "output_type": "stream",
     "text": [
      "generate random no between 1 to 50: 30\n"
     ]
    }
   ],
   "source": [
    "from random import randint     #generation of random number\n",
    "p1=randint(1,50)\n",
    "print(f\"generate random no between 1 to 50: {p1}\")"
   ]
  },
  {
   "cell_type": "code",
   "execution_count": 28,
   "metadata": {},
   "outputs": [
    {
     "name": "stdout",
     "output_type": "stream",
     "text": [
      "enter the number in kilometers: 2\n",
      "2 kilometer into miles are 1.242742\n"
     ]
    }
   ],
   "source": [
    "num=int(input(\"enter the number in kilometers: \")) #kilometer into miles \n",
    "print(f\"{num} kilometer into miles are {num*0.621371}\")"
   ]
  },
  {
   "cell_type": "code",
   "execution_count": 30,
   "metadata": {},
   "outputs": [
    {
     "name": "stdout",
     "output_type": "stream",
     "text": [
      "enter the temperature in celcius:   1\n",
      "33.8\n"
     ]
    }
   ],
   "source": [
    "temp=int(input(\"enter the temperature in celcius:   \"))  #celcius into fahrenheit\n",
    "f=(9/5*temp)+32\n",
    "print(f)"
   ]
  },
  {
   "cell_type": "code",
   "execution_count": 39,
   "metadata": {},
   "outputs": [
    {
     "name": "stdout",
     "output_type": "stream",
     "text": [
      "enter the number:  4\n",
      " not prime\n"
     ]
    }
   ],
   "source": [
    "n=int(input(\"enter the number:  \"))   #calculate no is prime or not \n",
    "k=2\n",
    "f=0\n",
    "while k<=n//2:\n",
    "    if n%k==0:\n",
    "        f=0\n",
    "        break\n",
    "    else:\n",
    "        f=1\n",
    "    k+=1\n",
    "if f==1:\n",
    "    print(\"prime\")\n",
    "else:\n",
    "    print(\" not prime\")"
   ]
  },
  {
   "cell_type": "markdown",
   "metadata": {},
   "source": [
    "# Doubt  Not Clear"
   ]
  },
  {
   "cell_type": "code",
   "execution_count": 16,
   "metadata": {},
   "outputs": [
    {
     "name": "stdout",
     "output_type": "stream",
     "text": [
      "enter the interval:  1 23\n",
      "the no. is neither composite or prime\n",
      "the prime number is 5\n",
      "the prime number is 7\n",
      "the prime number is 11\n",
      "the prime number is 13\n",
      "the prime number is 17\n",
      "the prime number is 19\n"
     ]
    }
   ],
   "source": [
    "n1,n2=map(int,input(\"enter the interval:  \").split())    #doubts\n",
    "f  = 0\n",
    "\n",
    "while n1<n2:\n",
    "    k=2\n",
    "    if n1==1:\n",
    "        print(f\"the no. is neither composite or prime\")\n",
    "    while k<=n1//2:\n",
    "        if n1%k==0:\n",
    "            f=0\n",
    "            break\n",
    "        else:\n",
    "            f=1\n",
    "        k+=1\n",
    "    if f==1:\n",
    "        print(f\"the prime number is {n1}\")\n",
    "    n1+=1"
   ]
  },
  {
   "cell_type": "code",
   "execution_count": 23,
   "metadata": {},
   "outputs": [
    {
     "name": "stdout",
     "output_type": "stream",
     "text": [
      "enter the number: 5\n",
      "120\n"
     ]
    }
   ],
   "source": [
    "num=int(input(\"enter the number: \"))  #factorial of number\n",
    "f=1\n",
    "while num>0:\n",
    "    f*=num\n",
    "    num-=1\n",
    "print(f)    "
   ]
  },
  {
   "cell_type": "code",
   "execution_count": 25,
   "metadata": {},
   "outputs": [
    {
     "name": "stdout",
     "output_type": "stream",
     "text": [
      "enter the number:  4\n",
      "4 x 1 = 4\n",
      "4 x 2 = 8\n",
      "4 x 3 = 12\n",
      "4 x 4 = 16\n",
      "4 x 5 = 20\n",
      "4 x 6 = 24\n",
      "4 x 7 = 28\n",
      "4 x 8 = 32\n",
      "4 x 9 = 36\n",
      "4 x 10 = 40\n"
     ]
    }
   ],
   "source": [
    "num=int(input(\"enter the number:  \"))  #table of certain number\n",
    "f=1\n",
    "while f<=10:\n",
    "    print(f\"{num} x {f} = {num*f}\")\n",
    "    f+=1"
   ]
  },
  {
   "cell_type": "code",
   "execution_count": 20,
   "metadata": {},
   "outputs": [
    {
     "name": "stdout",
     "output_type": "stream",
     "text": [
      "enter the num at which you want to print series:   9\n",
      "0\n",
      "1\n",
      "1\n",
      "2\n",
      "3\n",
      "5\n",
      "8\n",
      "13\n",
      "21\n"
     ]
    }
   ],
   "source": [
    "num=int(input(\"enter the num at which you want to print series:   \"))    #fabonacci sequence\n",
    "k=0\n",
    "while k<num:\n",
    "    if k==0:\n",
    "        print(k)\n",
    "        s=k\n",
    "    elif k==1:\n",
    "        print(k)\n",
    "        t=k\n",
    "    else:\n",
    "        l=s+t\n",
    "        print(l)\n",
    "        s=t\n",
    "        t=l\n",
    "    k+=1"
   ]
  },
  {
   "cell_type": "code",
   "execution_count": 26,
   "metadata": {},
   "outputs": [
    {
     "name": "stdout",
     "output_type": "stream",
     "text": [
      "enter the number:  2\n",
      "the sum of natural number n is 3\n"
     ]
    }
   ],
   "source": [
    "n=int(input(\"enter the number:  \"))   #sum of natural number\n",
    "if n > 0:\n",
    "    s=0\n",
    "    while n>0:\n",
    "        s+=n\n",
    "        n-=1\n",
    "    print(f\"the sum of natural number n is {s}\")"
   ]
  },
  {
   "cell_type": "markdown",
   "metadata": {},
   "source": [
    "# Doubt Clear"
   ]
  },
  {
   "cell_type": "code",
   "execution_count": 31,
   "metadata": {},
   "outputs": [
    {
     "name": "stdout",
     "output_type": "stream",
     "text": [
      "enter the number:  11\n",
      "not armstrong number\n"
     ]
    }
   ],
   "source": [
    "num=int(input(\"enter the number:  \")) #armstrong number\n",
    "t=num\n",
    "s=0\n",
    "f=0\n",
    "while num>0:\n",
    "    rem=num%10\n",
    "    num//=10\n",
    "    s+=1\n",
    "num=t\n",
    "n=0\n",
    "while t>0:\n",
    "    rem=t%10\n",
    "    n+=(rem**s)\n",
    "    if n==num:\n",
    "        f=1\n",
    "    t//=10\n",
    "if f==1:\n",
    "    print(\"armstrong number\")\n",
    "else:\n",
    "    print(\"not armstrong number\")"
   ]
  },
  {
   "cell_type": "code",
   "execution_count": 36,
   "metadata": {},
   "outputs": [
    {
     "name": "stdout",
     "output_type": "stream",
     "text": [
      "enter the interval:  1 30\n",
      "1 is armstrong number\n",
      "2 is armstrong number\n",
      "3 is armstrong number\n",
      "4 is armstrong number\n",
      "5 is armstrong number\n",
      "6 is armstrong number\n",
      "7 is armstrong number\n",
      "8 is armstrong number\n",
      "9 is armstrong number\n",
      "25 is armstrong number\n"
     ]
    }
   ],
   "source": [
    "num1,num2=map(int,input(\"enter the interval:  \").split()) #armstrong in interval \n",
    "while num1<num2:                                            \n",
    "    l=num1\n",
    "    s=0\n",
    "    f=0\n",
    "    while num1>0:\n",
    "        rem=num1%10\n",
    "        num1//=10\n",
    "        s+=1\n",
    "    num1=l\n",
    "    n=0\n",
    "    while l>0:\n",
    "        rem=l%10\n",
    "        n+=(rem**s)\n",
    "        if n == num1 :\n",
    "            f=1\n",
    "        l//=10\n",
    "    if f==1:\n",
    "        print(f\"{num1} is armstrong number\")\n",
    "    num1+=1"
   ]
  },
  {
   "cell_type": "code",
   "execution_count": 35,
   "metadata": {},
   "outputs": [
    {
     "name": "stdout",
     "output_type": "stream",
     "text": [
      "enter the numbers:  2 3\n",
      "number not divisible by another number\n"
     ]
    }
   ],
   "source": [
    "n1,n2=map(int,input(\"enter the numbers:  \").split()) # number divisible by another number or not\n",
    "if n1%n2==0:\n",
    "    print(\"number divisible by another number\")\n",
    "else :\n",
    "    print(\"number not divisible by another number\")"
   ]
  },
  {
   "cell_type": "markdown",
   "metadata": {},
   "source": [
    "## Python lambada(anonymous functions) | filter,map,reduce\n",
    "\n",
    "\n",
    "In python ,anonymous function means that a function is without a name.As we already know that def keyword is used to define the normal functions and the lambda keyword is used to create anonymous functions. \n",
    "\n",
    "syntex:\n",
    "        lambda arguments:expression\n",
    "* this function can have any number of arguments but only one expression which is evaluated and returned\n",
    "* one is free to use lambda functions whenever function objects are required\n",
    "* you need to keep in your knowledge that lambda functions are syntactically restricted to a single expression \n",
    "* it has various uses in particular fields of programming besides other types of expression in functions.\n",
    "\n",
    "\n",
    "\n",
    "Lambda functions can be used along with built in functions like filter(),map(),reduce()\n",
    "\n",
    "### use of lambda () with filter()\n",
    "\n",
    "this filter function in python takes in a function and a list as arguments.this offers an elegant way to filter out all the elements of a \"sequence\" , for which the function returns True.\n",
    "\n",
    "### use of lambda() with map()\n",
    "\n",
    "The map() function in python takes in a function and list as argument.the function is called with a lambda function and a list and a new list returned which contains all the lambda modified items returned by that function for each item.\n",
    "\n",
    "### use  of lambda() with reduce()\n",
    "\n",
    "the reduce() function in python takes in a function and a list as argument.the function is called with a lambda function and  a list and a new reduced result is returned .this performs a repetitive operation over the pairs of the list.this is a part of functools module'"
   ]
  },
  {
   "cell_type": "code",
   "execution_count": 42,
   "metadata": {},
   "outputs": [
    {
     "name": "stdout",
     "output_type": "stream",
     "text": [
      "27\n",
      "64\n"
     ]
    }
   ],
   "source": [
    "def cube(y):\n",
    "    return y*y*y\n",
    "g=lambda x:x*x*x\n",
    "print(g(3))\n",
    "\n",
    "print(cube(4))"
   ]
  },
  {
   "cell_type": "code",
   "execution_count": 45,
   "metadata": {},
   "outputs": [
    {
     "name": "stdout",
     "output_type": "stream",
     "text": [
      "[5, 7, 97, 77, 23, 73, 61]\n"
     ]
    }
   ],
   "source": [
    "li=[5,7,22,97,54,62,77,23,73,61]\n",
    "final_list=list(filter(lambda x: (x%2!=0),li))\n",
    "print(final_list)"
   ]
  },
  {
   "cell_type": "code",
   "execution_count": 50,
   "metadata": {},
   "outputs": [
    {
     "name": "stdout",
     "output_type": "stream",
     "text": [
      "[10, 14, 44, 194, 108, 124, 154, 46, 146, 122]\n"
     ]
    }
   ],
   "source": [
    "li=[5,7,22,97,54,62,77,23,73,61]\n",
    "final_list=list(map(lambda x: x*2,li))\n",
    "print(final_list)"
   ]
  },
  {
   "cell_type": "code",
   "execution_count": 54,
   "metadata": {},
   "outputs": [
    {
     "name": "stdout",
     "output_type": "stream",
     "text": [
      "481\n"
     ]
    }
   ],
   "source": [
    "from functools import reduce\n",
    "li=[5,7,22,97,54,62,77,23,73,61]\n",
    "sum=reduce((lambda x,y: x+y),li)\n",
    "print(sum)"
   ]
  },
  {
   "cell_type": "code",
   "execution_count": 9,
   "metadata": {},
   "outputs": [
    {
     "name": "stdout",
     "output_type": "stream",
     "text": [
      "1\n",
      "1\n"
     ]
    }
   ],
   "source": [
    "n=int(input())   #decimal into binary\n",
    "l=''\n",
    "while n>=1:\n",
    "    q=n//2\n",
    "    rem=n%2\n",
    "    l=l+str(rem)\n",
    "    n=q\n",
    "print(l[::-1])"
   ]
  },
  {
   "cell_type": "code",
   "execution_count": 8,
   "metadata": {},
   "outputs": [
    {
     "name": "stdout",
     "output_type": "stream",
     "text": [
      "1\n",
      "1\n"
     ]
    }
   ],
   "source": [
    "n=int(input())   #decimal into octal\n",
    "l=''\n",
    "while n>=1:\n",
    "    q=n//8\n",
    "    rem=n%8\n",
    "    l+=str(rem)\n",
    "    n=q\n",
    "print(l[::-1])"
   ]
  },
  {
   "cell_type": "markdown",
   "metadata": {},
   "source": [
    "# Doubt Clear"
   ]
  },
  {
   "cell_type": "code",
   "execution_count": 7,
   "metadata": {},
   "outputs": [
    {
     "name": "stdout",
     "output_type": "stream",
     "text": [
      "1\n",
      "1\n"
     ]
    }
   ],
   "source": [
    "n=int(input())   #decimal into hexadecimal\n",
    "l=''\n",
    "while n>=1:\n",
    "    q=n//16\n",
    "    rem=n%16\n",
    "    if rem==10:\n",
    "        rem='A'\n",
    "    elif rem==11:\n",
    "        rem='B'\n",
    "    elif rem==12:\n",
    "        rem='C'\n",
    "    elif rem==13:\n",
    "        rem='D'\n",
    "    elif rem==14:\n",
    "        rem='E'\n",
    "    elif rem==15:\n",
    "        rem='F'\n",
    "    l+=str(rem)\n",
    "    n=q\n",
    "print(l[::-1],sep='')"
   ]
  },
  {
   "cell_type": "code",
   "execution_count": 19,
   "metadata": {},
   "outputs": [
    {
     "name": "stdout",
     "output_type": "stream",
     "text": [
      "[0, 1, 1, 1]\n"
     ]
    }
   ],
   "source": [
    "l=[1,1,1,0]\n",
    "print(l[::-1])"
   ]
  },
  {
   "cell_type": "code",
   "execution_count": 2,
   "metadata": {},
   "outputs": [
    {
     "name": "stdout",
     "output_type": "stream",
     "text": [
      "E\n"
     ]
    },
    {
     "data": {
      "text/plain": [
       "69"
      ]
     },
     "execution_count": 2,
     "metadata": {},
     "output_type": "execute_result"
    }
   ],
   "source": [
    "num=input() #ASCII values\n",
    "ord(num)"
   ]
  },
  {
   "cell_type": "code",
   "execution_count": 10,
   "metadata": {},
   "outputs": [
    {
     "name": "stdout",
     "output_type": "stream",
     "text": [
      "enter two numbers:  35 5\n",
      "5\n"
     ]
    }
   ],
   "source": [
    "n1,n2=map(int,input(\"enter two numbers:  \").split())    #HCF and GCD\n",
    "if n1>n2:\n",
    "    H=n1\n",
    "else:\n",
    "    H=n2\n",
    "i=H\n",
    "while i<=H:\n",
    "    if n1%i==0 and n2%i==0:\n",
    "        print(i)\n",
    "        break\n",
    "    i-=1"
   ]
  },
  {
   "cell_type": "code",
   "execution_count": 38,
   "metadata": {},
   "outputs": [
    {
     "name": "stdout",
     "output_type": "stream",
     "text": [
      "enter the two values:    6 17\n",
      "102\n"
     ]
    }
   ],
   "source": [
    "n1,n2=map(int,input(\"enter the two values:    \").split())   #LCM\n",
    "i=1\n",
    "l=1\n",
    "while i<=(n1*n2):\n",
    "    if  n1%n2==0:\n",
    "        l=n1\n",
    "        break\n",
    "    elif n2%n1==0:\n",
    "        l=n2\n",
    "        break\n",
    "    elif i%n1==0 and i%n2==0:\n",
    "        l*=i\n",
    "    i+=1\n",
    "print(l)"
   ]
  },
  {
   "cell_type": "code",
   "execution_count": 40,
   "metadata": {},
   "outputs": [
    {
     "name": "stdout",
     "output_type": "stream",
     "text": [
      "3 4\n",
      "addition is 7\n",
      "substration is -1\n",
      "multiplication is 12\n",
      "division is 3\n"
     ]
    }
   ],
   "source": [
    "n1,n2=map(int,input().split())  #calculater\n",
    "a=n1+n2\n",
    "s=n1-n2\n",
    "m=n1*n2\n",
    "d=n1%n2\n",
    "print(f\"addition is {a}\",f\"substration is {s}\",f\"multiplication is {m}\",f\"division is {d}\",sep='\\n')"
   ]
  },
  {
   "cell_type": "code",
   "execution_count": 1,
   "metadata": {},
   "outputs": [
    {
     "name": "stdout",
     "output_type": "stream",
     "text": [
      "pragati\n",
      "not palindrome\n"
     ]
    }
   ],
   "source": [
    "n=input()   # palindrome\n",
    "t=n[::-1]\n",
    "if n==t:\n",
    "    print(\"palindrome\")\n",
    "else:\n",
    "    print(\"not palindrome\")"
   ]
  },
  {
   "cell_type": "code",
   "execution_count": 1,
   "metadata": {},
   "outputs": [
    {
     "name": "stdout",
     "output_type": "stream",
     "text": [
      "enter the number:  34\n",
      "1\n",
      "2\n",
      "17\n",
      "34\n"
     ]
    }
   ],
   "source": [
    "n=int(input(\"enter the number:  \"))    #factors of number\n",
    "i=1\n",
    "while i<n+1:\n",
    "    if n%i==0:\n",
    "        print(i)\n",
    "    i+=1"
   ]
  },
  {
   "cell_type": "markdown",
   "metadata": {},
   "source": [
    "# Doubt"
   ]
  },
  {
   "cell_type": "code",
   "execution_count": 13,
   "metadata": {},
   "outputs": [
    {
     "ename": "FileNotFoundError",
     "evalue": "[Errno 2] No such file or directory: '25538.jpg'",
     "output_type": "error",
     "traceback": [
      "\u001b[1;31m---------------------------------------------------------------------------\u001b[0m",
      "\u001b[1;31mFileNotFoundError\u001b[0m                         Traceback (most recent call last)",
      "\u001b[1;32m<ipython-input-13-5d28571c6801>\u001b[0m in \u001b[0;36m<module>\u001b[1;34m()\u001b[0m\n\u001b[0;32m     22\u001b[0m    \u001b[0mprint\u001b[0m\u001b[1;33m(\u001b[0m\u001b[1;34m\"The resolution of the image is\"\u001b[0m\u001b[1;33m,\u001b[0m\u001b[0mwidth\u001b[0m\u001b[1;33m,\u001b[0m\u001b[1;34m\"x\"\u001b[0m\u001b[1;33m,\u001b[0m\u001b[0mheight\u001b[0m\u001b[1;33m)\u001b[0m\u001b[1;33m\u001b[0m\u001b[0m\n\u001b[0;32m     23\u001b[0m \u001b[1;33m\u001b[0m\u001b[0m\n\u001b[1;32m---> 24\u001b[1;33m \u001b[0mjpeg_res\u001b[0m\u001b[1;33m(\u001b[0m\u001b[1;34m\"25538.jpg\"\u001b[0m\u001b[1;33m)\u001b[0m\u001b[1;33m\u001b[0m\u001b[0m\n\u001b[0m",
      "\u001b[1;32m<ipython-input-13-5d28571c6801>\u001b[0m in \u001b[0;36mjpeg_res\u001b[1;34m(filename)\u001b[0m\n\u001b[0;32m      3\u001b[0m \u001b[1;33m\u001b[0m\u001b[0m\n\u001b[0;32m      4\u001b[0m    \u001b[1;31m# open image for reading in binary mode\u001b[0m\u001b[1;33m\u001b[0m\u001b[1;33m\u001b[0m\u001b[0m\n\u001b[1;32m----> 5\u001b[1;33m    \u001b[1;32mwith\u001b[0m \u001b[0mopen\u001b[0m\u001b[1;33m(\u001b[0m\u001b[0mfilename\u001b[0m\u001b[1;33m,\u001b[0m\u001b[1;34m'rb'\u001b[0m\u001b[1;33m)\u001b[0m \u001b[1;32mas\u001b[0m \u001b[0mimg_file\u001b[0m\u001b[1;33m:\u001b[0m\u001b[1;33m\u001b[0m\u001b[0m\n\u001b[0m\u001b[0;32m      6\u001b[0m \u001b[1;33m\u001b[0m\u001b[0m\n\u001b[0;32m      7\u001b[0m        \u001b[1;31m# height of image (in 2 bytes) is at 164th position\u001b[0m\u001b[1;33m\u001b[0m\u001b[1;33m\u001b[0m\u001b[0m\n",
      "\u001b[1;31mFileNotFoundError\u001b[0m: [Errno 2] No such file or directory: '25538.jpg'"
     ]
    }
   ],
   "source": [
    "def jpeg_res(filename):\n",
    "   \"\"\"\"This function prints the resolution of the jpeg image file passed into it\"\"\"\n",
    "\n",
    "   # open image for reading in binary mode\n",
    "   with open(filename,'rb') as img_file:\n",
    "\n",
    "       # height of image (in 2 bytes) is at 164th position\n",
    "       img_file.seek(163)\n",
    "    \n",
    "       # read the 2 bytes\n",
    "       a = img_file.read(2)\n",
    "\n",
    "       # calculate height\n",
    "       height = (a[0] << 8) + a[1]\n",
    "\n",
    "       # next 2 bytes is width\n",
    "       a = img_file.read(2)\n",
    "\n",
    "       # calculate width\n",
    "       width = (a[0] << 8) + a[1]\n",
    "\n",
    "   print(\"The resolution of the image is\",width,\"x\",height)\n",
    "\n",
    "jpeg_res(\"25538.jpg\")\n"
   ]
  },
  {
   "cell_type": "code",
   "execution_count": null,
   "metadata": {},
   "outputs": [],
   "source": [
    "file = open(\"hello.py\",\"rb\")\n",
    "file_copy = open(\"bye.py\",\"wb\")\n",
    "for line in file : \n",
    "    print(line)\n",
    "    file_copy.write(line)\n",
    "else : \n",
    "    file.close()\n",
    "    file_copy.close()"
   ]
  },
  {
   "cell_type": "markdown",
   "metadata": {},
   "source": [
    "# Doubts"
   ]
  },
  {
   "cell_type": "code",
   "execution_count": 16,
   "metadata": {},
   "outputs": [
    {
     "name": "stdout",
     "output_type": "stream",
     "text": [
      "7\n",
      "You got:\n",
      "9 of Spade\n",
      "7 of Diamond\n",
      "9 of Diamond\n",
      "1 of Spade\n",
      "5 of Diamond\n",
      "10 of Club\n",
      "1 of Diamond\n"
     ]
    }
   ],
   "source": [
    "# Python program to shuffle a deck of card using the module random and draw 5 cards\n",
    "\n",
    "# import modules\n",
    "import itertools, random\n",
    "\n",
    "# make a deck of cards\n",
    "deck = list(itertools.product(range(1,14),['Spade','Heart','Diamond','Club']))\n",
    "\n",
    "# shuffle the cards\n",
    "random.shuffle(deck)\n",
    "n=int(input())\n",
    "\n",
    "print(\"You got:\")\n",
    "for i in range(n):\n",
    "   print(deck[i][0], \"of\", deck[i][1])"
   ]
  },
  {
   "cell_type": "code",
   "execution_count": 2,
   "metadata": {},
   "outputs": [
    {
     "name": "stdout",
     "output_type": "stream",
     "text": [
      "[1, 2, 3, 4, 5, 6, 7, 8, 9, 10, 11, 12, 13, 14]\n"
     ]
    }
   ],
   "source": [
    "l=[]\n",
    "i=1\n",
    "while i<=14:\n",
    "    l.append(i)\n",
    "    i+=1\n",
    "print(l)"
   ]
  },
  {
   "cell_type": "code",
   "execution_count": 52,
   "metadata": {},
   "outputs": [
    {
     "name": "stdout",
     "output_type": "stream",
     "text": [
      "8\n",
      "0\n",
      "1\n",
      "1\n",
      "2\n",
      "3\n",
      "5\n",
      "8\n",
      "13\n"
     ]
    }
   ],
   "source": [
    "def f(n):        #fibonacci sequence using recursion\n",
    "    if n<=1:\n",
    "        return n\n",
    "    else:\n",
    "        return (f(n-1)+f(n-2))\n",
    "n=int(input())\n",
    "i=0\n",
    "while i<n:\n",
    "    print(f(i))\n",
    "    i+=1\n"
   ]
  },
  {
   "cell_type": "markdown",
   "metadata": {},
   "source": [
    "# most effiencient way"
   ]
  },
  {
   "cell_type": "code",
   "execution_count": 6,
   "metadata": {},
   "outputs": [
    {
     "name": "stdout",
     "output_type": "stream",
     "text": [
      "34\n"
     ]
    },
    {
     "data": {
      "text/plain": [
       "{1, 2, 17, 34}"
      ]
     },
     "execution_count": 6,
     "metadata": {},
     "output_type": "execute_result"
    }
   ],
   "source": [
    "from functools import reduce\n",
    "\n",
    "def factors(n):    \n",
    "    return set(reduce(list.__add__, \n",
    "                ([i, n//i] for i in range(1, int(n**0.5) + 1) if n % i == 0)))\n",
    "n=int(input())\n",
    "factors(n)"
   ]
  },
  {
   "cell_type": "code",
   "execution_count": 1,
   "metadata": {},
   "outputs": [
    {
     "name": "stdout",
     "output_type": "stream",
     "text": [
      "4\n",
      "8\n",
      "3\n",
      "17\n",
      "17\n"
     ]
    }
   ],
   "source": [
    "from random import randint\n",
    "n=int(input())\n",
    "i=0\n",
    "while i<n:\n",
    "    d=randint(1,23)\n",
    "    print(d)\n",
    "    i+=1"
   ]
  },
  {
   "cell_type": "markdown",
   "metadata": {},
   "source": [
    "# OS Error"
   ]
  },
  {
   "cell_type": "code",
   "execution_count": 2,
   "metadata": {},
   "outputs": [
    {
     "name": "stdout",
     "output_type": "stream",
     "text": [
      "#this is a python script\n",
      "import time\n",
      "print(\"Welcome at \",time.ctime())\n",
      "s = \"\"\"     Hello--world--how--are--you--?      \"\"\"\n",
      "print(\"before processing \",s)\n",
      "s = s.strip() # leading and traling spaces are trimmed \n",
      "print(\"After strip \",s)\n",
      "# \"Hello--world--how--are--you--?\"\n",
      "s = s.split(\"--\") # [ \"Hello\",\"world\",\"how\",\"are\",\"you\",\"?\"]\n",
      "print(\"After Split \",s)\n",
      "s = s[::-1] # [\"?\",\"you\",\"are\",\"how\",\"world\",\"Hello\"]\n",
      "print(\"After Reversing \",s)\n",
      "s = \" \".join(s)\n",
      "print(\"final outupt = \",s)\n"
     ]
    }
   ],
   "source": [
    "print(open(\"body.txt\").read())"
   ]
  },
  {
   "cell_type": "code",
   "execution_count": 1,
   "metadata": {},
   "outputs": [
    {
     "name": "stdout",
     "output_type": "stream",
     "text": [
      "#this is a python script\n",
      "import time\n",
      "print(\"Welcome at \",time.ctime())\n",
      "s = \"\"\"     Hello--world--how--are--you--?      \"\"\"\n",
      "print(\"before processing \",s)\n",
      "s = s.strip() # leading and traling spaces are trimmed \n",
      "print(\"After strip \",s)\n",
      "# \"Hello--world--how--are--you--?\"\n",
      "s = s.split(\"--\") # [ \"Hello\",\"world\",\"how\",\"are\",\"you\",\"?\"]\n",
      "print(\"After Split \",s)\n",
      "s = s[::-1] # [\"?\",\"you\",\"are\",\"how\",\"world\",\"Hello\"]\n",
      "print(\"After Reversing \",s)\n",
      "s = \" \".join(s)\n",
      "print(\"final outupt = \",s)\n"
     ]
    }
   ],
   "source": [
    "print(open(\"names.txt\").read())`"
   ]
  },
  {
   "cell_type": "markdown",
   "metadata": {},
   "source": [
    "# Doubt Clear"
   ]
  },
  {
   "cell_type": "code",
   "execution_count": 8,
   "metadata": {},
   "outputs": [],
   "source": [
    "with open(\"names.txt\",'r',encoding = 'utf-8') as names_file:\n",
    " \n",
    "   # open body.txt for reading\n",
    "    with open(\"body.txt\",'r',encoding = 'utf-8') as body_file:\n",
    "   \n",
    "       # read entire content of the body\n",
    "       body = body_file.read()\n",
    " \n",
    "       # iterate over names\n",
    "       for name in names_file:\n",
    "            mail = \"Hello \"+name+body\n",
    " \n",
    "           # write the mails to individual files\n",
    "            with open(name.strip()+\".txt\",'w',encoding = 'utf-8') as mail_file:\n",
    "               mail_file.write(mail)\n"
   ]
  },
  {
   "cell_type": "code",
   "execution_count": 18,
   "metadata": {},
   "outputs": [
    {
     "name": "stdout",
     "output_type": "stream",
     "text": [
      "Enter 'x' for exit.\n",
      "Enter first file name to merge: one.py\n",
      "Enter second file name to merge: two.py\n",
      "Create a new file to merge content of two file inside this file: pragati\n",
      "\n",
      "Merging the content of two file in pragati\n",
      "\n",
      "Content merged successfully.!\n",
      "Want to see ? (y/n): \n",
      "y\n",
      "\n",
      "#this is a python script\n",
      "import time\n",
      "print(\"Welcome at \",time.ctime())\n",
      "s = \"\"\"     Hello--world--how--are--you--?      \"\"\"\n",
      "print(\"before processing \",s)\n",
      "s = s.strip() # leading and traling spaces are trimmed \n",
      "print(\"After strip \",s)\n",
      "# \"Hello--world--how--are--you--?\"\n",
      "s = s.split(\"--\") # [ \"Hello\",\"world\",\"how\",\"are\",\"you\",\"?\"]\n",
      "print(\"After Split \",s)\n",
      "s = s[::-1] # [\"?\",\"you\",\"are\",\"how\",\"world\",\"Hello\"]\n",
      "print(\"After Reversing \",s)\n",
      "s = \" \".join(s)\n",
      "print(\"final outupt = \",s)#this is a python script\n",
      "import time\n",
      "print(\"Welcome at \",time.ctime())\n",
      "s = \"\"\"     Hello--world--how--are--you--?      \"\"\"\n",
      "print(\"before processing \",s)\n",
      "s = s.strip() # leading and traling spaces are trimmed \n",
      "print(\"After strip \",s)\n",
      "# \"Hello--world--how--are--you--?\"\n",
      "s = s.split(\"--\") # [ \"Hello\",\"world\",\"how\",\"are\",\"you\",\"?\"]\n",
      "print(\"After Split \",s)\n",
      "s = s[::-1] # [\"?\",\"you\",\"are\",\"how\",\"world\",\"Hello\"]\n",
      "print(\"After Reversing \",s)\n",
      "s = \" \".join(s)\n",
      "print(\"final outupt = \",s)\n"
     ]
    }
   ],
   "source": [
    "# Python Program - Merge Two Files\n",
    "\n",
    "import shutil;\n",
    "print(\"Enter 'x' for exit.\");\n",
    "filename1 = input(\"Enter first file name to merge: \");\n",
    "if filename1 == 'x':\n",
    "    exit();\n",
    "else:\n",
    "    filename2 = input(\"Enter second file name to merge: \");\n",
    "    filename3 = input(\"Create a new file to merge content of two file inside this file: \");\n",
    "    print();\n",
    "    print(\"Merging the content of two file in\",filename3);\n",
    "    with open(filename3, \"wb\") as wfd:\n",
    "        for f in [filename1, filename2]:\n",
    "            with open(f, \"rb\") as fd:\n",
    "                shutil.copyfileobj(fd, wfd, 1024*1024*10);\n",
    "    print(\"\\nContent merged successfully.!\");\n",
    "    print(\"Want to see ? (y/n): \");\n",
    "    check = input();\n",
    "    if check == 'n':\n",
    "        exit();\n",
    "    else:\n",
    "        print();\n",
    "        c = open(filename3, \"r\");\n",
    "        print(c.read());\n",
    "        c.close();"
   ]
  },
  {
   "cell_type": "code",
   "execution_count": 3,
   "metadata": {},
   "outputs": [
    {
     "name": "stdout",
     "output_type": "stream",
     "text": [
      "enter the value upto sum of natural number:  5\n",
      "1\n",
      "3\n",
      "6\n",
      "10\n",
      "15\n"
     ]
    }
   ],
   "source": [
    "def sum(n):     #sum of natural number using recursion\n",
    "    if n==0:\n",
    "        return n\n",
    "    return (n+sum(n-1))\n",
    "    \n",
    "n=int(input(\"enter the value upto sum of natural number:  \"))\n",
    "if n>0:\n",
    "    i=1\n",
    "    while i<=n:\n",
    "        print(sum(i)) \n",
    "        i+=1"
   ]
  },
  {
   "cell_type": "code",
   "execution_count": 7,
   "metadata": {},
   "outputs": [
    {
     "name": "stdout",
     "output_type": "stream",
     "text": [
      "Enter the value:   5\n",
      "1\n",
      "2\n",
      "6\n",
      "24\n",
      "120\n"
     ]
    }
   ],
   "source": [
    "def fact(n):      #factorial using recursion\n",
    "    if n==1:\n",
    "        return n\n",
    "    return (n*fact(n-1))\n",
    "\n",
    "n=int(input(\"Enter the value:   \"))\n",
    "i=1\n",
    "while i<=n:\n",
    "    print(fact(i))\n",
    "    i+=1"
   ]
  },
  {
   "cell_type": "markdown",
   "metadata": {},
   "source": [
    "# Doubt "
   ]
  },
  {
   "cell_type": "code",
   "execution_count": 11,
   "metadata": {
    "scrolled": true
   },
   "outputs": [
    {
     "name": "stdout",
     "output_type": "stream",
     "text": [
      "T\n",
      "Y\n",
      "T\n",
      "e\n",
      "t\n",
      "v\n",
      "\n",
      "['T', 'Y', 'T', 'e', 't', 'v']\n"
     ]
    }
   ],
   "source": [
    "l=list([])    # remove punctuation marks\n",
    "while True:\n",
    "    n=input()\n",
    "    if n=='':\n",
    "        break\n",
    "    elif n!='!':\n",
    "        l.append(n)\n",
    "print(str(l))     #Doubt"
   ]
  },
  {
   "cell_type": "code",
   "execution_count": 1,
   "metadata": {},
   "outputs": [
    {
     "name": "stdout",
     "output_type": "stream",
     "text": [
      "r\n",
      "T\n",
      "Y\n",
      "e\n",
      "S\n",
      "\n",
      "['S', 'T', 'Y', 'e', 'r']\n"
     ]
    }
   ],
   "source": [
    "l=list([])    # sort words in alphabetical order\n",
    "while True:\n",
    "    n=input()\n",
    "    if n==',':\n",
    "        break\n",
    "    l.append(n)\n",
    "l.sort()\n",
    "print(l)"
   ]
  },
  {
   "cell_type": "code",
   "execution_count": 3,
   "metadata": {},
   "outputs": [
    {
     "name": "stdout",
     "output_type": "stream",
     "text": [
      "E\n",
      "the no of e is 1 times\n",
      "T\n",
      "R\n",
      "U\n",
      "the no of u is 1 times\n",
      "w\n",
      "r\n",
      "t\n",
      "I\n",
      "the no of i is 1 times\n",
      "o\n",
      "the no of o is 1 times\n",
      "i\n",
      "the no of i is 2 times\n",
      "s\n",
      "o\n",
      "the no of o is 2 times\n",
      "a\n",
      "the no of a is 1 times\n",
      "a\n",
      "the no of a is 2 times\n",
      "a\n",
      "the no of a is 3 times\n",
      "I\n",
      "the no of i is 3 times\n",
      ",\n"
     ]
    }
   ],
   "source": [
    "a=e=i=o=u=0      #count the number of each vowel\n",
    "while True:\n",
    "    n=input().lower()\n",
    "    if n==',':\n",
    "        break\n",
    "    elif n=='a':\n",
    "        a+=1\n",
    "        print(f\"the no of a is {a} times\")\n",
    "    elif n=='e':\n",
    "        e+=1\n",
    "        print(f\"the no of e is {e} times\")\n",
    "    elif n=='i':\n",
    "        i+=1\n",
    "        print(f\"the no of i is {i} times\")\n",
    "    elif n=='o':\n",
    "        o+=1\n",
    "        print(f\"the no of o is {o} times\")\n",
    "    elif n=='u':\n",
    "        u+=1\n",
    "        print(f\"the no of u is {u} times\")"
   ]
  },
  {
   "cell_type": "code",
   "execution_count": null,
   "metadata": {},
   "outputs": [],
   "source": [
    "s = "
   ]
  },
  {
   "cell_type": "code",
   "execution_count": 4,
   "metadata": {},
   "outputs": [
    {
     "name": "stdout",
     "output_type": "stream",
     "text": [
      "['__and__', '__class__', '__contains__', '__delattr__', '__dir__', '__doc__', '__eq__', '__format__', '__ge__', '__getattribute__', '__gt__', '__hash__', '__iand__', '__init__', '__init_subclass__', '__ior__', '__isub__', '__iter__', '__ixor__', '__le__', '__len__', '__lt__', '__ne__', '__new__', '__or__', '__rand__', '__reduce__', '__reduce_ex__', '__repr__', '__ror__', '__rsub__', '__rxor__', '__setattr__', '__sizeof__', '__str__', '__sub__', '__subclasshook__', '__xor__', 'add', 'clear', 'copy', 'difference', 'difference_update', 'discard', 'intersection', 'intersection_update', 'isdisjoint', 'issubset', 'issuperset', 'pop', 'remove', 'symmetric_difference', 'symmetric_difference_update', 'union', 'update']\n"
     ]
    }
   ],
   "source": [
    "t=set()\n",
    "print(dir(t))"
   ]
  },
  {
   "cell_type": "markdown",
   "metadata": {},
   "source": [
    "# Doubt"
   ]
  },
  {
   "cell_type": "code",
   "execution_count": 10,
   "metadata": {},
   "outputs": [
    {
     "name": "stdout",
     "output_type": "stream",
     "text": [
      "t\n"
     ]
    },
    {
     "ename": "TypeError",
     "evalue": "descriptor 'update' requires a 'set' object but received a 'str'",
     "output_type": "error",
     "traceback": [
      "\u001b[1;31m---------------------------------------------------------------------------\u001b[0m",
      "\u001b[1;31mTypeError\u001b[0m                                 Traceback (most recent call last)",
      "\u001b[1;32m<ipython-input-10-ca92ae67c911>\u001b[0m in \u001b[0;36m<module>\u001b[1;34m()\u001b[0m\n\u001b[0;32m      4\u001b[0m     \u001b[1;32mif\u001b[0m \u001b[0mt\u001b[0m\u001b[1;33m==\u001b[0m\u001b[1;34m''\u001b[0m\u001b[1;33m:\u001b[0m\u001b[1;33m\u001b[0m\u001b[0m\n\u001b[0;32m      5\u001b[0m         \u001b[1;32mbreak\u001b[0m\u001b[1;33m\u001b[0m\u001b[0m\n\u001b[1;32m----> 6\u001b[1;33m     \u001b[0mset\u001b[0m\u001b[1;33m.\u001b[0m\u001b[0mupdate\u001b[0m\u001b[1;33m(\u001b[0m\u001b[0minput\u001b[0m\u001b[1;33m(\u001b[0m\u001b[1;33m)\u001b[0m\u001b[1;33m)\u001b[0m\u001b[1;33m\u001b[0m\u001b[0m\n\u001b[0m\u001b[0;32m      7\u001b[0m \u001b[0mprint\u001b[0m\u001b[1;33m(\u001b[0m\u001b[0mt\u001b[0m\u001b[1;33m)\u001b[0m\u001b[1;33m\u001b[0m\u001b[0m\n\u001b[0;32m      8\u001b[0m \u001b[1;32mwhile\u001b[0m \u001b[1;32mTrue\u001b[0m\u001b[1;33m:\u001b[0m\u001b[1;33m\u001b[0m\u001b[0m\n",
      "\u001b[1;31mTypeError\u001b[0m: descriptor 'update' requires a 'set' object but received a 'str'"
     ]
    }
   ],
   "source": [
    "t=set()\n",
    "s=set()\n",
    "while True:\n",
    "    if t=='':\n",
    "        break\n",
    "    set.update(input())\n",
    "print(t)\n",
    "while True:\n",
    "    if s=='':\n",
    "        break\n",
    "    s=input()\n",
    "    set.update(s)\n",
    "print(s)"
   ]
  },
  {
   "cell_type": "code",
   "execution_count": 13,
   "metadata": {},
   "outputs": [
    {
     "name": "stdout",
     "output_type": "stream",
     "text": [
      "2 2\n",
      "2 2\n",
      "enter the values for matrix 1:   \n",
      "1\n",
      "2\n",
      "3\n",
      "4\n",
      "[[1, 2], [3, 4]]\n",
      "enter the values for matrix 2:   \n",
      "1\n",
      "2\n",
      "3\n",
      "4\n",
      "[[1, 2], [3, 4]]\n",
      "[[7, 10], [15, 22]]\n"
     ]
    }
   ],
   "source": [
    "i,j=map(int,input().split())      # matrix multiplication\n",
    "m,n=map(int,input().split())\n",
    "if j==m:\n",
    "    a=0\n",
    "    l1=[]\n",
    "    l2=[]\n",
    "    print(\"enter the values for matrix 1:   \")\n",
    "    while a<i:\n",
    "        b=0\n",
    "        while b<j:\n",
    "            n1=int(input())\n",
    "            l1.append(n1)\n",
    "            b+=1\n",
    "        l2.append(l1)\n",
    "        l1=[]\n",
    "        a+=1\n",
    "    print(l2)\n",
    "    print(\"enter the values for matrix 2:   \")\n",
    "    a=0\n",
    "    m1=[]\n",
    "    m2=[]\n",
    "    while a<i:\n",
    "        b=0\n",
    "        while b<j:\n",
    "            n2=int(input())\n",
    "            m1.append(n2)\n",
    "            b+=1\n",
    "        m2.append(m1)\n",
    "        m1=[]\n",
    "        a+=1\n",
    "    print(m2)\n",
    "    a=0\n",
    "    while a<i:\n",
    "        b=0\n",
    "        while b<n:\n",
    "            c=0\n",
    "            t=0\n",
    "            while c<j:\n",
    "                t+=l2[a][c]*m2[c][b]\n",
    "                c+=1\n",
    "            l1.append(t)\n",
    "            b+=1\n",
    "        m1.append(l1)\n",
    "        l1=[]\n",
    "        a+=1\n",
    "    print(m1)     "
   ]
  },
  {
   "cell_type": "markdown",
   "metadata": {},
   "source": [
    "# most efficient way"
   ]
  },
  {
   "cell_type": "markdown",
   "metadata": {},
   "source": [
    "int find(int decimal_number) \n",
    "{ \n",
    "    if (decimal_number == 0)  \n",
    "        return 0;  \n",
    "    else\n",
    "        return (decimal_number % 2 + 10 *  \n",
    "                find(decimal_number / 2)); \n",
    "} \n",
    "  \n",
    "// Driver code  \n",
    "int main() \n",
    "{ \n",
    "    int decimal_number = 10; \n",
    "    printf(\"%d\", find(decimal_number)); \n",
    "    return 0; \n",
    "} \n"
   ]
  },
  {
   "cell_type": "code",
   "execution_count": 15,
   "metadata": {},
   "outputs": [
    {
     "name": "stdout",
     "output_type": "stream",
     "text": [
      "{'sha512', 'SHA224', 'SHA', 'MD5', 'RIPEMD160', 'md5', 'sha256', 'dsaWithSHA', 'DSA', 'whirlpool', 'ecdsa-with-SHA1', 'SHA512', 'sha1', 'sha', 'sha3_224', 'SHA384', 'SHA1', 'blake2s', 'sha3_512', 'ripemd160', 'SHA256', 'DSA-SHA', 'dsaEncryption', 'sha224', 'sha3_256', 'shake_256', 'blake2b', 'sha3_384', 'sha384', 'MD4', 'shake_128', 'md4'}\n",
      "{'md5', 'sha512', 'sha3_512', 'sha1', 'sha256', 'sha3_224', 'shake_128', 'sha224', 'sha3_256', 'shake_256', 'blake2b', 'sha3_384', 'sha384', 'blake2s'}\n"
     ]
    }
   ],
   "source": [
    "import hashlib\n",
    "print(hashlib.algorithms_available)\n",
    "print(hashlib.algorithms_guaranteed)"
   ]
  },
  {
   "cell_type": "markdown",
   "metadata": {},
   "source": [
    "# Assignment9"
   ]
  },
  {
   "cell_type": "code",
   "execution_count": 3,
   "metadata": {},
   "outputs": [
    {
     "name": "stdout",
     "output_type": "stream",
     "text": [
      "enter the number:  13\n",
      "the quotient is 1\n",
      "the remender is 3\n",
      "the quotient is 0\n",
      "the remender is 1\n"
     ]
    }
   ],
   "source": [
    "num=int(input(\"enter the number:  \"))  #to find quotient and remender\n",
    "while num>0:\n",
    "    rem=num%10\n",
    "    num//=10\n",
    "    print(f\"the quotient is {num}\")\n",
    "    print(f\"the remender is {rem}\")"
   ]
  },
  {
   "cell_type": "code",
   "execution_count": 6,
   "metadata": {},
   "outputs": [
    {
     "name": "stdout",
     "output_type": "stream",
     "text": [
      "enter the number:   1234\n",
      "10\n"
     ]
    }
   ],
   "source": [
    "num=int(input(\"enter the number:   \")) #sum of the number of digits\n",
    "s=0\n",
    "while num>0:\n",
    "    rem=num%10\n",
    "    s+=rem\n",
    "    num//=10\n",
    "print(s)"
   ]
  },
  {
   "cell_type": "code",
   "execution_count": 9,
   "metadata": {},
   "outputs": [
    {
     "name": "stdout",
     "output_type": "stream",
     "text": [
      "enter the number:   345\n",
      "60\n"
     ]
    }
   ],
   "source": [
    "num=int(input(\"enter the number:   \")) #product of the number of digits\n",
    "s=1\n",
    "while num>0:\n",
    "    rem=num%10\n",
    "    s*=rem\n",
    "    num//=10\n",
    "print(s)"
   ]
  },
  {
   "cell_type": "code",
   "execution_count": 11,
   "metadata": {},
   "outputs": [
    {
     "name": "stdout",
     "output_type": "stream",
     "text": [
      "how many number you want to enter:   5\n",
      "enter the numbers: \n",
      "23\n",
      "33\n",
      "44\n",
      "55\n",
      "12\n",
      "167\n"
     ]
    }
   ],
   "source": [
    "n=int(input(\"how many number you want to enter:   \"))  #sum of entered number\n",
    "print(\"enter the numbers: \")\n",
    "s=0\n",
    "while n>0:\n",
    "    num=int(input())\n",
    "    s+=num\n",
    "    n-=1\n",
    "print(s)"
   ]
  },
  {
   "cell_type": "code",
   "execution_count": 10,
   "metadata": {},
   "outputs": [
    {
     "name": "stdout",
     "output_type": "stream",
     "text": [
      "enter the binary number: 1100\n",
      "12\n"
     ]
    }
   ],
   "source": [
    "num=int(input(\"enter the binary number: \")) #binary into decimal\n",
    "s=k=0\n",
    "while num>0:\n",
    "    rem=num%10\n",
    "    s+=(2**k)*rem\n",
    "    k+=1\n",
    "    num//=10\n",
    "print(s)"
   ]
  },
  {
   "cell_type": "code",
   "execution_count": 5,
   "metadata": {},
   "outputs": [
    {
     "name": "stdout",
     "output_type": "stream",
     "text": [
      "8 9\n",
      "72\n"
     ]
    }
   ],
   "source": [
    "n1,n2=map(int,input().split())  #multiplication without using * operator\n",
    "if n1>n2 or n1==n2:\n",
    "    t=n1\n",
    "else :\n",
    "    t=n2\n",
    "m=0\n",
    "while t>0:\n",
    "    m+=n1\n",
    "    t-=1\n",
    "print(m)"
   ]
  },
  {
   "cell_type": "code",
   "execution_count": 3,
   "metadata": {},
   "outputs": [
    {
     "name": "stdout",
     "output_type": "stream",
     "text": [
      "6\n",
      "1\n",
      "3\n",
      "7\n",
      "14\n",
      "25\n",
      "41\n"
     ]
    }
   ],
   "source": [
    "def s(n):                      #program sum of series 1+2+4+7+11+........ upto n terms\n",
    "    if n==1:\n",
    "        return n\n",
    "    return ((n-1)+s(n-1))\n",
    "n=int(input())\n",
    "i=1\n",
    "t=0\n",
    "while i<=n:\n",
    "    t+=s(i)\n",
    "    print(t)\n",
    "    i+=1"
   ]
  },
  {
   "cell_type": "code",
   "execution_count": 2,
   "metadata": {},
   "outputs": [
    {
     "name": "stdout",
     "output_type": "stream",
     "text": [
      "3\n",
      "4\n",
      "5\n",
      "6\n",
      "7\n",
      "8\n",
      "9\n",
      "1\n",
      "2\n",
      "3\n",
      "48\n",
      "4.8\n"
     ]
    }
   ],
   "source": [
    "i=j=0   #add or substract two positive numbers\n",
    "while i<10:\n",
    "    n=int(input())\n",
    "    if n>0:\n",
    "        j+=n\n",
    "        i+=1\n",
    "    else:\n",
    "        break\n",
    "print(j)\n",
    "j/=10\n",
    "print(j)"
   ]
  },
  {
   "cell_type": "code",
   "execution_count": 2,
   "metadata": {},
   "outputs": [
    {
     "name": "stdout",
     "output_type": "stream",
     "text": [
      "13\n",
      "13\n",
      "1234\n",
      "invalid input of month\n"
     ]
    }
   ],
   "source": [
    "date=int(input())          #date is valid or not\n",
    "month=int(input())\n",
    "year=int(input())\n",
    "if date>0 and date<32:\n",
    "    if month>0 and month<13:\n",
    "        print(f\"{date}\",f\"{month}\",f\"{year}\",sep='/')\n",
    "    else:\n",
    "        print(\"invalid input of month\")\n",
    "else:\n",
    "    print(\"invalid input of date\")"
   ]
  },
  {
   "cell_type": "code",
   "execution_count": 3,
   "metadata": {},
   "outputs": [
    {
     "name": "stdout",
     "output_type": "stream",
     "text": [
      "123345\n",
      "17\n"
     ]
    }
   ],
   "source": [
    "n=int(input())\n",
    "rem=0\n",
    "while n>10:\n",
    "    rem+=n%10\n",
    "    n//=10\n",
    "print(rem)"
   ]
  },
  {
   "cell_type": "code",
   "execution_count": 9,
   "metadata": {},
   "outputs": [
    {
     "name": "stdout",
     "output_type": "stream",
     "text": [
      "1\t2\t3\t4\t5\t6\t7\t8\t\n",
      "9\t10\t11\t12\t13\t14\t15\t16\t\n",
      "17\t18\t19\t20\t21\t22\t23\t24\t\n",
      "25\t26\t27\t28\t29\t30\t31\t32\t\n",
      "33\t34\t35\t36\t37\t38\t39\t40\t\n",
      "41\t42\t43\t44\t45\t46\t47\t48\t\n",
      "49\t50\t51\t52\t53\t54\t55\t56\t\n",
      "57\t58\t59\t60\t61\t62\t63\t64\t\n",
      "65\t66\t67\t68\t69\t70\t71\t72\t\n",
      "73\t74\t75\t76\t77\t78\t79\t80\t\n"
     ]
    }
   ],
   "source": [
    "i=0        #program to print 1 to 80 upto 8 number in one line separated by tab\n",
    "n=1\n",
    "while i<10:\n",
    "    j=0\n",
    "    while j<8:\n",
    "        print(n,end='\\t')\n",
    "        n+=1\n",
    "        j+=1\n",
    "    print('')\n",
    "i=    i+=1"
   ]
  },
  {
   "cell_type": "code",
   "execution_count": null,
   "metadata": {},
   "outputs": [],
   "source": [
    "i=0\n",
    "l=[]\n",
    "while i<10:\n",
    "    n=int(input())\n",
    "    l.append(n)\n",
    "    "
   ]
  },
  {
   "cell_type": "code",
   "execution_count": 17,
   "metadata": {},
   "outputs": [
    {
     "name": "stdout",
     "output_type": "stream",
     "text": [
      "p\n",
      "p\ty\tt\th\to\tn\t\n",
      "y\n",
      "p\ty\tt\th\to\tn\t\n",
      "t\n",
      "p\ty\tt\th\to\tn\t\n",
      "h\n",
      "p\ty\tt\th\to\tn\t\n",
      "o\n",
      "p\ty\tt\th\to\tn\t\n",
      "n\n",
      "p\ty\tt\th\to\tn\t\n"
     ]
    }
   ],
   "source": [
    "str=\"python\"\n",
    "for i in str:\n",
    "    print(i,end='\\n')\n",
    "    for j in str:\n",
    "        print(j,end='\\t')\n",
    "    print('')"
   ]
  },
  {
   "cell_type": "code",
   "execution_count": null,
   "metadata": {},
   "outputs": [],
   "source": []
  }
 ],
 "metadata": {
  "kernelspec": {
   "display_name": "Python 3",
   "language": "python",
   "name": "python3"
  },
  "language_info": {
   "codemirror_mode": {
    "name": "ipython",
    "version": 3
   },
   "file_extension": ".py",
   "mimetype": "text/x-python",
   "name": "python",
   "nbconvert_exporter": "python",
   "pygments_lexer": "ipython3",
   "version": "3.6.5"
  }
 },
 "nbformat": 4,
 "nbformat_minor": 2
}
