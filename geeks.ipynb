{
 "cells": [
  {
   "cell_type": "code",
   "execution_count": 2,
   "metadata": {},
   "outputs": [
    {
     "name": "stdout",
     "output_type": "stream",
     "text": [
      "5\n",
      "1 2 4 5\n",
      "3\n"
     ]
    }
   ],
   "source": [
    "n=int(input())\n",
    "a=input().split()\n",
    "a1=list(map(int,a))\n",
    "sum=(n)*(n+1)//2\n",
    "for i in a1:\n",
    "    sum-=i\n",
    "print(sum)"
   ]
  },
  {
   "cell_type": "code",
   "execution_count": 6,
   "metadata": {},
   "outputs": [
    {
     "name": "stdout",
     "output_type": "stream",
     "text": [
      "6\n",
      "2 2 2 2 1 1\n",
      "2\n"
     ]
    }
   ],
   "source": [
    "n=int(input())\n",
    "a=list(map(int,input().split()))\n",
    "a.sort(reverse=True)\n",
    "c=0\n",
    "for i in a:\n",
    "    if i==a[0]:\n",
    "        c+=1\n",
    "if c>(n//2):\n",
    "    print(a[0])\n",
    "else:\n",
    "    print(\"-1\")"
   ]
  },
  {
   "cell_type": "code",
   "execution_count": 7,
   "metadata": {},
   "outputs": [],
   "source": [
    "def findCandidate(A): \n",
    "    maj_index = 0\n",
    "    count = 1\n",
    "    for i in range(len(A)): \n",
    "        if A[maj_index] == A[i]: \n",
    "            count += 1\n",
    "        else: \n",
    "            count -= 1\n",
    "        if count == 0: \n",
    "            maj_index = i \n",
    "            count = 1\n",
    "    return A[maj_index] \n",
    "  \n",
    "# Function to check if the candidate occurs more than n/2 times \n",
    "def isMajority(A, cand): \n",
    "    count = 0\n",
    "    for i in range(len(A)): \n",
    "        if A[i] == cand: \n",
    "            count += 1\n",
    "    if count > len(A)/2: \n",
    "        return True\n",
    "    else: \n",
    "        return False"
   ]
  },
  {
   "cell_type": "code",
   "execution_count": null,
   "metadata": {},
   "outputs": [
    {
     "name": "stdout",
     "output_type": "stream",
     "text": [
      "2 3 4 5 6\n"
     ]
    }
   ],
   "source": [
    "a=list(map(int,input().split()))\n",
    "s1=0\n",
    "s=int(input())\n",
    "for i in a:\n",
    "    if s!=s1:\n",
    "        s1+=i"
   ]
  },
  {
   "cell_type": "code",
   "execution_count": 4,
   "metadata": {},
   "outputs": [
    {
     "name": "stdout",
     "output_type": "stream",
     "text": [
      "1\n",
      "100 528\n",
      "26 144 125 24 173 62 182 4 33 106 194 126 32 93 143 23 87 65 101 188 161 14 175 71 171 36 34 112 161 97 68 86 151 141 95 96 25 20 126 177 95 59 103 172 67 79 194 52 85 19 65 120 153 1 88 61 127 11 158 171 116 177 28 44 159 165 110 83 87 166 88 178 75 26 28 30 129 24 121 103 163 124 197 138 62 196 126 65 61 3 117 31 127 12 172 12 148 154 121 191\n",
      "2 6\n"
     ]
    }
   ],
   "source": [
    "t=int(input())   #time complexitity is too high\n",
    "f=0\n",
    "for i in range(t):\n",
    "    i=0\n",
    "    n1,s1=map(int,input().split())\n",
    "    a=list(map(int,input().split()))\n",
    "    c2=[]\n",
    "    while i <(len(a)):\n",
    "        j=0\n",
    "        while j<(len(a)-i):\n",
    "            k=0\n",
    "            n=j\n",
    "            c1=[]\n",
    "            while k<=i:\n",
    "                c1.append(a[n])\n",
    "                n+=1\n",
    "                k+=1\n",
    "            c2.append(c1)    \n",
    "            j+=1\n",
    "        i+=1\n",
    "    for i in c2:\n",
    "        if s1==sum(i):\n",
    "            s2=i\n",
    "            t1=s2[0]\n",
    "            t2=s2[len(s2)-1]\n",
    "            for i in range(len(a)):\n",
    "                if a[i]==t1:\n",
    "                    print(i+1,end=' ')\n",
    "                elif a[i]==t2:\n",
    "                    print(i+1)\n",
    "                    f=0\n",
    "                    break\n",
    "            break\n",
    "        else:\n",
    "            f=1\n",
    "    if f==1:\n",
    "        print(-1)"
   ]
  },
  {
   "cell_type": "code",
   "execution_count": 27,
   "metadata": {},
   "outputs": [
    {
     "name": "stdout",
     "output_type": "stream",
     "text": [
      "1\n",
      "2 0\n",
      "1 4\n",
      "-1\n"
     ]
    }
   ],
   "source": [
    "t=int(input())        # time complexity for this soloution is also too high\n",
    "for i in range(t):\n",
    "    f=0\n",
    "    n1,sum=map(int,input().split())\n",
    "    arr=list(map(int,input().split()))\n",
    "    for i in range(len(arr)):\n",
    "        curr_sum = arr[i]  \n",
    "        j = i+1\n",
    "        while j <= len(arr):\n",
    "            if curr_sum == sum: \n",
    "                print(f\"{i+1} {j}\")\n",
    "                break\n",
    "            if curr_sum > sum or j == len(arr):\n",
    "                break\n",
    "            curr_sum = curr_sum + arr[j] \n",
    "            j += 1\n",
    "        if curr_sum==sum:\n",
    "            f=0\n",
    "            break\n",
    "        f=1\n",
    "    if f==1:\n",
    "        print(\"-1\")\n",
    "    "
   ]
  },
  {
   "cell_type": "code",
   "execution_count": null,
   "metadata": {},
   "outputs": [
    {
     "name": "stdout",
     "output_type": "stream",
     "text": [
      "1\n",
      "100 528\n"
     ]
    }
   ],
   "source": [
    "t=int(input())\n",
    "for i in range(t):\n",
    "    n,sum=map(int,input().split())\n",
    "    a=list(map(int,input().split()))\n",
    "    start=0\n",
    "    f=0\n",
    "    curr_sum=a[0]\n",
    "    j=1\n",
    "    while j <=n:\n",
    "        while curr_sum>sum and start<(j-1):\n",
    "            curr_sum-=a[start]\n",
    "            start+=1\n",
    "        if sum==curr_sum:\n",
    "            print(f\"{start+1} {j}\")\n",
    "            f=0\n",
    "            break\n",
    "        if j<n:\n",
    "            curr_sum+=a[j]\n",
    "        f=1\n",
    "        j+=1\n",
    "    if f==1:\n",
    "        print(\"-1\")\n",
    "        "
   ]
  },
  {
   "cell_type": "code",
   "execution_count": 3,
   "metadata": {},
   "outputs": [
    {
     "name": "stdout",
     "output_type": "stream",
     "text": [
      "1\n",
      "22\n",
      "333\n",
      "4444\n",
      "55555\n"
     ]
    }
   ],
   "source": [
    "# Python 3.x code to demonstrate star pattern \n",
    "\n",
    "# Function to demonstrate printing pattern \n",
    "def pypart(n): \n",
    "\tmyList = [] \n",
    "\tfor i in range(1,n+1): \n",
    "\t\tmyList.append(f\"{i}\"*i) \n",
    "\tprint(\"\\n\".join(myList)) \n",
    "\n",
    "# Driver Code \n",
    "n = 5\n",
    "pypart(n) "
   ]
  },
  {
   "cell_type": "code",
   "execution_count": null,
   "metadata": {},
   "outputs": [],
   "source": [
    "# Python3 program to print subarray with sum as given sum \n",
    "\n",
    "# Function to print subarray with sum as given sum \n",
    "def subArraySum(arr, n, Sum): \n",
    "\n",
    "\t# create an empty map \n",
    "\tMap = {} \n",
    "\t\n",
    "\t# Maintains sum of elements so far \n",
    "\tcurr_sum = 0\n",
    "\t\n",
    "\tfor i in range(0,n): \n",
    "\t\n",
    "\t\t# add current element to curr_sum \n",
    "\t\tcurr_sum = curr_sum + arr[i] \n",
    "\t\n",
    "\t\t# if curr_sum is equal to target sum \n",
    "\t\t# we found a subarray starting from index 0 \n",
    "\t\t# and ending at index i \n",
    "\t\tif curr_sum == Sum: \n",
    "\t\t\n",
    "\t\t\tprint(\"Sum found between indexes 0 to\", i) \n",
    "\t\t\treturn\n",
    "\t\t\n",
    "\t\n",
    "\t\t# If curr_sum - sum already exists in map \n",
    "\t\t# we have found a subarray with target sum \n",
    "\t\tif (curr_sum - Sum) in Map: \n",
    "\t\t\n",
    "\t\t\tprint(\"Sum found between indexes\",Map[curr_sum - Sum] + 2, \"to\", i+1) \n",
    "\t\t\t\n",
    "\t\t\treturn\n",
    "\t\n",
    "\t\tMap[curr_sum] = i \n",
    "\t\n",
    "\t# If we reach here, then no subarray exists \n",
    "\tprint(\"No subarray with given sum exists\") \n",
    "\n",
    "\t\n",
    "# Driver program to test above function \n",
    "if __name__ == \"__main__\": \n",
    "\n",
    "\n",
    "\tarr=list(map(int,input().split())) \n",
    "\tSum=int(input())\n",
    "\tn=len(arr)\n",
    "\tsubArraySum(arr, n, Sum) \n",
    "\t\n",
    "# This code is contributed by Rituraj Jain \n"
   ]
  },
  {
   "cell_type": "code",
   "execution_count": null,
   "metadata": {},
   "outputs": [],
   "source": []
  }
 ],
 "metadata": {
  "kernelspec": {
   "display_name": "Python 3",
   "language": "python",
   "name": "python3"
  },
  "language_info": {
   "codemirror_mode": {
    "name": "ipython",
    "version": 3
   },
   "file_extension": ".py",
   "mimetype": "text/x-python",
   "name": "python",
   "nbconvert_exporter": "python",
   "pygments_lexer": "ipython3",
   "version": "3.6.5"
  }
 },
 "nbformat": 4,
 "nbformat_minor": 2
}
