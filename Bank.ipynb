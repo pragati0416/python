{
 "cells": [
  {
   "cell_type": "code",
   "execution_count": 30,
   "metadata": {},
   "outputs": [
    {
     "name": "stdout",
     "output_type": "stream",
     "text": [
      "\t\tWelocme User!!!!\n",
      "1. Login \n",
      "2. Sign Up \n",
      "3. Exit\n",
      "Enter Your Choice:  2\n",
      "Enter your name:  p\n",
      "Enter your password: ········\n",
      "Enter your initial balance:  0\n",
      "Your account number is 14670\n",
      "\t\t Thank You for sign up\n",
      "{\n",
      "     \"14670\": {\n",
      "          \"name\": \"p\",\n",
      "          \"password\": \"123\",\n",
      "          \"balance\": 0\n",
      "     }\n",
      "}\n",
      "Enter the account number :14670\n",
      "Enter your password:  123\n",
      "1. Credit\n",
      "2. Debit\n",
      "3. Check_balance\n",
      "4. Log_out\n",
      "Enter your choice:   1\n",
      "Enter the amount: 2000\n",
      "Successfully Credited\n",
      "{\"14670\": {\"name\": \"p\", \"password\": \"123\", \"balance\": 2000}}\n",
      "1. Credit\n",
      "2. Debit\n",
      "3. Check_balance\n",
      "4. Log_out\n",
      "Enter your choice:   4\n",
      "\t\tWelocme User!!!!\n",
      "1. Login \n",
      "2. Sign Up \n",
      "3. Exit\n",
      "Enter Your Choice:  3\n"
     ]
    }
   ],
   "source": [
    "from getpass import getpass\n",
    "from random import randint\n",
    "import json\n",
    "d={}\n",
    "def bank():\n",
    "    print(\"\\t\\tWelocme User!!!!\",\"1. Login \",\"2. Sign Up \",\"3. Exit\",sep='\\n')\n",
    "    ch=int(input(\"Enter Your Choice:  \"))\n",
    "    if ch==1:\n",
    "        login()\n",
    "    elif ch==2:\n",
    "        sign_up()\n",
    "    elif ch==3:\n",
    "        pass\n",
    "    else:\n",
    "        print(\"wrong choice !!! Please Enter Valid Choice\")\n",
    "        bank()\n",
    "def login():\n",
    "    acc=int(input(\"Enter the account number :\"))\n",
    "    if acc in d.keys():\n",
    "        pw=input(\"Enter your password:  \")\n",
    "        if pw==d[acc]['password']:\n",
    "            func(acc)\n",
    "        else:\n",
    "            print(\"Wrong Password!!! Try again\")\n",
    "            bank()\n",
    "    else:\n",
    "        print(\"Invalid account number!!! Try again\")\n",
    "        bank()\n",
    "def sign_up():\n",
    "    f={}\n",
    "    n=input(\"Enter your name:  \")\n",
    "    p=getpass(\"Enter your password: \")\n",
    "    b=int(input(\"Enter your initial balance:  \"))\n",
    "    a=randint(10000,20000)\n",
    "    f.update(name=n,password=p,balance=b)\n",
    "    d[a]=f\n",
    "    print(f\"Your account number is {a}\",\"\\t\\t Thank You for sign up\",sep='\\n')\n",
    "    fp=open(\"C:\\\\Users\\\\user\\\\Desktop\\\\bank_data\",\"a\")\n",
    "    fp.write(json.dumps(d,indent=5))\n",
    "    fp.close()\n",
    "    print(json.dumps(d,indent=5))\n",
    "    login()\n",
    "def func(acc):\n",
    "    print(\"1. Credit\",\"2. Debit\",\"3. Check_balance\",\"4. Log_out\",sep='\\n')\n",
    "    f1=int(input(\"Enter your choice:   \"))\n",
    "    if f1==1:\n",
    "        amount1=int(input(\"Enter the amount: \"))\n",
    "        fp=open(\"C:\\\\Users\\\\user\\\\Desktop\\\\bank_data\",\"w\")\n",
    "        d[acc]['balance']+=amount1\n",
    "        fp.seek(d[acc]['balance'])\n",
    "        fp.write()\n",
    "        fp.close()\n",
    "        print(\"Successfully Credited\")\n",
    "        print(json.dumps(d))\n",
    "        func(acc)\n",
    "    elif f1==2:\n",
    "        amount2=int(input(\"Enter the amount: \"))\n",
    "        if d[acc]['balance']>amount2:\n",
    "            d[acc]['balance']-=amount2\n",
    "            print(\"Successfully Debited\")\n",
    "            print(json.dumps(d))\n",
    "            func(acc)\n",
    "        else:\n",
    "            print(\"Insufficient balance\")\n",
    "            func(acc)\n",
    "    elif f1==3:\n",
    "        print(f\"Your account balance is {d[acc]['balance']}\")\n",
    "        func(acc)\n",
    "    elif f1==4:\n",
    "        bank()\n",
    "    else:\n",
    "        print(\"Worng choice!! Please enter valid choice\")\n",
    "        func(acc)\n",
    "bank()"
   ]
  },
  {
   "cell_type": "code",
   "execution_count": 43,
   "metadata": {},
   "outputs": [
    {
     "data": {
      "text/plain": [
       "2000"
      ]
     },
     "execution_count": 43,
     "metadata": {},
     "output_type": "execute_result"
    }
   ],
   "source": [
    "fp.seek(d[14670]['balance'])\n"
   ]
  },
  {
   "cell_type": "code",
   "execution_count": 36,
   "metadata": {},
   "outputs": [
    {
     "name": "stdout",
     "output_type": "stream",
     "text": [
      "1001\n",
      "{'1001': {'name': 'pragati', 'password': '123', 'balance': '0'}}\n"
     ]
    }
   ],
   "source": [
    "d = {}\n",
    "keys = input() \n",
    "d[keys] = f\n",
    "print(d)"
   ]
  },
  {
   "cell_type": "code",
   "execution_count": 6,
   "metadata": {},
   "outputs": [
    {
     "name": "stdout",
     "output_type": "stream",
     "text": [
      "pragati\n",
      "123\n",
      "0\n",
      "{'name': 'pragati', 'password': '123', 'balance': '0'}\n"
     ]
    }
   ],
   "source": [
    "f={}\n",
    "f.update(name=input(),password=input(),balance=input())\n",
    "print(f)"
   ]
  },
  {
   "cell_type": "code",
   "execution_count": null,
   "metadata": {},
   "outputs": [],
   "source": []
  },
  {
   "cell_type": "code",
   "execution_count": null,
   "metadata": {},
   "outputs": [],
   "source": []
  }
 ],
 "metadata": {
  "kernelspec": {
   "display_name": "Python 3",
   "language": "python",
   "name": "python3"
  },
  "language_info": {
   "codemirror_mode": {
    "name": "ipython",
    "version": 3
   },
   "file_extension": ".py",
   "mimetype": "text/x-python",
   "name": "python",
   "nbconvert_exporter": "python",
   "pygments_lexer": "ipython3",
   "version": "3.6.5"
  }
 },
 "nbformat": 4,
 "nbformat_minor": 2
}
