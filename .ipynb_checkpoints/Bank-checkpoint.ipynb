{
 "cells": [
  {
   "cell_type": "code",
   "execution_count": null,
   "metadata": {},
   "outputs": [
    {
     "name": "stdout",
     "output_type": "stream",
     "text": [
      "\t\tWelocme User!!!!\n",
      "1. Login \n",
      "2. Sign Up \n",
      "3. Exit\n"
     ]
    }
   ],
   "source": [
    "from getpass import getpass\n",
    "from random import randint\n",
    "import json\n",
    "d=dict()\n",
    "def bank():\n",
    "    print(\"\\t\\tWelocme User!!!!\",\"1. Login \",\"2. Sign Up \",\"3. Exit\",sep='\\n')\n",
    "    ch=int(input(\"Enter Your Choice:  \"))\n",
    "    if ch==1:\n",
    "        login()\n",
    "    elif ch==2:\n",
    "        sign_up()\n",
    "    elif ch==3:\n",
    "        exit()\n",
    "    else:\n",
    "        print(\"wrong choice !!! Please Enter Valid Choice\")\n",
    "        bank()\n",
    "def login():\n",
    "    pass\n",
    "def sign_up():\n",
    "    n=input(\"Enter your name:  \")\n",
    "    p=getpass(\"Enter your password: \")\n",
    "    b=int(input(\"Enter your initial balance:  \"))\n",
    "    a=randint(10000,20000)\n",
    "    \n",
    "bank()"
   ]
  },
  {
   "cell_type": "code",
   "execution_count": 77,
   "metadata": {},
   "outputs": [],
   "source": [
    "from random import randint\n",
    "d=dict()\n",
    "a=randint(10,20)\n",
    "d.update(a=\"name\")"
   ]
  },
  {
   "cell_type": "code",
   "execution_count": null,
   "metadata": {},
   "outputs": [],
   "source": []
  }
 ],
 "metadata": {
  "kernelspec": {
   "display_name": "Python 3",
   "language": "python",
   "name": "python3"
  },
  "language_info": {
   "codemirror_mode": {
    "name": "ipython",
    "version": 3
   },
   "file_extension": ".py",
   "mimetype": "text/x-python",
   "name": "python",
   "nbconvert_exporter": "python",
   "pygments_lexer": "ipython3",
   "version": "3.6.5"
  }
 },
 "nbformat": 4,
 "nbformat_minor": 2
}
