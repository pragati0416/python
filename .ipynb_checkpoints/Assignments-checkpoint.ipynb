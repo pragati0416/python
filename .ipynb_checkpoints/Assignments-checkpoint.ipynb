{
 "cells": [
  {
   "cell_type": "markdown",
   "metadata": {},
   "source": [
    "# Assignment1"
   ]
  },
  {
   "cell_type": "code",
   "execution_count": 8,
   "metadata": {},
   "outputs": [
    {
     "name": "stdout",
     "output_type": "stream",
     "text": [
      "<class 'str'>\n",
      "<class 'float'>\n",
      "<class 'int'>\n",
      "<class 'str'>\n"
     ]
    }
   ],
   "source": [
    "print(type(\"hello\"))\n",
    "print(type(-45.66))\n",
    "print(type(4))\n",
    "print(type('spam'))"
   ]
  },
  {
   "cell_type": "code",
   "execution_count": 10,
   "metadata": {},
   "outputs": [
    {
     "name": "stdout",
     "output_type": "stream",
     "text": [
      "21\n"
     ]
    }
   ],
   "source": [
    "bacon=20\n",
    "bacon+=1\n",
    "print(bacon)"
   ]
  },
  {
   "cell_type": "code",
   "execution_count": 11,
   "metadata": {},
   "outputs": [
    {
     "name": "stdout",
     "output_type": "stream",
     "text": [
      "spamspamspam\n",
      "spamspamspam\n"
     ]
    }
   ],
   "source": [
    "print('spam'+'spamspam')\n",
    "print('spam'*3)"
   ]
  },
  {
   "cell_type": "markdown",
   "metadata": {},
   "source": [
    "# Assignment2"
   ]
  },
  {
   "cell_type": "code",
   "execution_count": 12,
   "metadata": {},
   "outputs": [
    {
     "name": "stdout",
     "output_type": "stream",
     "text": [
      "<class 'list'>\n"
     ]
    }
   ],
   "source": [
    "l=[]\n",
    "print(type(l))"
   ]
  },
  {
   "cell_type": "code",
   "execution_count": 13,
   "metadata": {},
   "outputs": [
    {
     "data": {
      "text/plain": [
       "[2, 4, 6, 'hello', 10]"
      ]
     },
     "execution_count": 13,
     "metadata": {},
     "output_type": "execute_result"
    }
   ],
   "source": [
    "spam=[2,4,6,8,10]\n",
    "spam[3]=\"hello\"\n",
    "spam"
   ]
  },
  {
   "cell_type": "code",
   "execution_count": 18,
   "metadata": {},
   "outputs": [
    {
     "data": {
      "text/plain": [
       "'d'"
      ]
     },
     "execution_count": 18,
     "metadata": {},
     "output_type": "execute_result"
    }
   ],
   "source": [
    "spam=['a','b','c','d']\n",
    "spam[int(int('3' * 2) // 11)] "
   ]
  },
  {
   "cell_type": "code",
   "execution_count": 19,
   "metadata": {},
   "outputs": [
    {
     "data": {
      "text/plain": [
       "'d'"
      ]
     },
     "execution_count": 19,
     "metadata": {},
     "output_type": "execute_result"
    }
   ],
   "source": [
    "spam[-1]"
   ]
  },
  {
   "cell_type": "code",
   "execution_count": 20,
   "metadata": {},
   "outputs": [
    {
     "data": {
      "text/plain": [
       "['a', 'b']"
      ]
     },
     "execution_count": 20,
     "metadata": {},
     "output_type": "execute_result"
    }
   ],
   "source": [
    "spam[:2]"
   ]
  },
  {
   "cell_type": "code",
   "execution_count": 26,
   "metadata": {},
   "outputs": [
    {
     "name": "stdout",
     "output_type": "stream",
     "text": [
      "1\n"
     ]
    },
    {
     "data": {
      "text/plain": [
       "[3.14, 'cat', 11, 'cat', True, 99]"
      ]
     },
     "execution_count": 26,
     "metadata": {},
     "output_type": "execute_result"
    }
   ],
   "source": [
    "bacon=[3.14, 'cat', 11, 'cat', True]\n",
    "print(bacon.index('cat'))\n",
    "bacon.append(99)\n",
    "bacon"
   ]
  },
  {
   "cell_type": "code",
   "execution_count": 28,
   "metadata": {},
   "outputs": [
    {
     "data": {
      "text/plain": [
       "[3.14, 11, True, 99]"
      ]
     },
     "execution_count": 28,
     "metadata": {},
     "output_type": "execute_result"
    }
   ],
   "source": [
    "bacon.remove('cat')\n",
    "bacon"
   ]
  },
  {
   "cell_type": "code",
   "execution_count": 33,
   "metadata": {},
   "outputs": [
    {
     "name": "stdout",
     "output_type": "stream",
     "text": [
      "<class 'tuple'>\n"
     ]
    }
   ],
   "source": [
    "t=tuple('42')\n",
    "print(type(t))"
   ]
  },
  {
   "cell_type": "code",
   "execution_count": 5,
   "metadata": {},
   "outputs": [
    {
     "name": "stdout",
     "output_type": "stream",
     "text": [
      "<class 'int'>\n"
     ]
    }
   ],
   "source": [
    "x=(42)  #expression y=x+(y+z*2)\n",
    "print(type(x))"
   ]
  },
  {
   "cell_type": "code",
   "execution_count": 6,
   "metadata": {},
   "outputs": [
    {
     "data": {
      "text/plain": [
       "2253"
      ]
     },
     "execution_count": 6,
     "metadata": {},
     "output_type": "execute_result"
    }
   ],
   "source": [
    "#type conversion\n",
    "int('2253')"
   ]
  },
  {
   "cell_type": "code",
   "execution_count": 7,
   "metadata": {},
   "outputs": [
    {
     "data": {
      "text/plain": [
       "4235.546"
      ]
     },
     "execution_count": 7,
     "metadata": {},
     "output_type": "execute_result"
    }
   ],
   "source": [
    "float(\"4235.546\") #only float value should pass"
   ]
  },
  {
   "cell_type": "code",
   "execution_count": null,
   "metadata": {},
   "outputs": [],
   "source": []
  },
  {
   "cell_type": "markdown",
   "metadata": {},
   "source": [
    "# Assignment3"
   ]
  },
  {
   "cell_type": "code",
   "execution_count": 34,
   "metadata": {},
   "outputs": [
    {
     "name": "stdout",
     "output_type": "stream",
     "text": [
      "<class 'dict'>\n"
     ]
    }
   ],
   "source": [
    "d={}\n",
    "print(type(d))"
   ]
  },
  {
   "cell_type": "code",
   "execution_count": 36,
   "metadata": {},
   "outputs": [
    {
     "data": {
      "text/plain": [
       "'42'"
      ]
     },
     "execution_count": 36,
     "metadata": {},
     "output_type": "execute_result"
    }
   ],
   "source": [
    "d={'foo':'42'}\n",
    "d['foo']"
   ]
  },
  {
   "cell_type": "code",
   "execution_count": 39,
   "metadata": {},
   "outputs": [
    {
     "ename": "KeyError",
     "evalue": "'foo'",
     "output_type": "error",
     "traceback": [
      "\u001b[1;31m---------------------------------------------------------------------------\u001b[0m",
      "\u001b[1;31mKeyError\u001b[0m                                  Traceback (most recent call last)",
      "\u001b[1;32m<ipython-input-39-587bec0a991e>\u001b[0m in \u001b[0;36m<module>\u001b[1;34m()\u001b[0m\n\u001b[0;32m      1\u001b[0m \u001b[0mspam\u001b[0m\u001b[1;33m=\u001b[0m\u001b[1;33m{\u001b[0m\u001b[1;34m'bar'\u001b[0m\u001b[1;33m:\u001b[0m\u001b[1;34m'100'\u001b[0m\u001b[1;33m}\u001b[0m\u001b[1;33m\u001b[0m\u001b[0m\n\u001b[1;32m----> 2\u001b[1;33m \u001b[0mspam\u001b[0m\u001b[1;33m[\u001b[0m\u001b[1;34m'foo'\u001b[0m\u001b[1;33m]\u001b[0m\u001b[1;33m\u001b[0m\u001b[0m\n\u001b[0m",
      "\u001b[1;31mKeyError\u001b[0m: 'foo'"
     ]
    }
   ],
   "source": [
    "spam={'bar':'100'}\n",
    "spam['foo']"
   ]
  },
  {
   "cell_type": "code",
   "execution_count": 40,
   "metadata": {},
   "outputs": [
    {
     "data": {
      "text/plain": [
       "dict_keys(['bar'])"
      ]
     },
     "execution_count": 40,
     "metadata": {},
     "output_type": "execute_result"
    }
   ],
   "source": [
    "spam.keys()"
   ]
  },
  {
   "cell_type": "code",
   "execution_count": 41,
   "metadata": {},
   "outputs": [
    {
     "data": {
      "text/plain": [
       "dict_values(['100'])"
      ]
     },
     "execution_count": 41,
     "metadata": {},
     "output_type": "execute_result"
    }
   ],
   "source": [
    "spam.values()"
   ]
  },
  {
   "cell_type": "code",
   "execution_count": 45,
   "metadata": {},
   "outputs": [],
   "source": [
    "if 'color' not in spam:\n",
    "    spam['color']='black'"
   ]
  },
  {
   "cell_type": "code",
   "execution_count": 46,
   "metadata": {},
   "outputs": [
    {
     "name": "stdout",
     "output_type": "stream",
     "text": [
      "['__class__', '__contains__', '__delattr__', '__delitem__', '__dir__', '__doc__', '__eq__', '__format__', '__ge__', '__getattribute__', '__getitem__', '__gt__', '__hash__', '__init__', '__init_subclass__', '__iter__', '__le__', '__len__', '__lt__', '__ne__', '__new__', '__reduce__', '__reduce_ex__', '__repr__', '__setattr__', '__setitem__', '__sizeof__', '__str__', '__subclasshook__', 'clear', 'copy', 'fromkeys', 'get', 'items', 'keys', 'pop', 'popitem', 'setdefault', 'update', 'values']\n"
     ]
    }
   ],
   "source": [
    "print(dir(spam))"
   ]
  },
  {
   "cell_type": "markdown",
   "metadata": {},
   "source": [
    "# Assignment4"
   ]
  },
  {
   "cell_type": "code",
   "execution_count": 55,
   "metadata": {},
   "outputs": [
    {
     "name": "stdout",
     "output_type": "stream",
     "text": [
      "this is \\ backshlash\n"
     ]
    }
   ],
   "source": [
    "print(\"this is \\\\ backshlash\")"
   ]
  },
  {
   "cell_type": "code",
   "execution_count": 56,
   "metadata": {},
   "outputs": [
    {
     "name": "stdout",
     "output_type": "stream",
     "text": [
      "Howl's Moving Castle\n"
     ]
    }
   ],
   "source": [
    "print(\"Howl's Moving Castle\")"
   ]
  },
  {
   "cell_type": "code",
   "execution_count": 58,
   "metadata": {},
   "outputs": [
    {
     "name": "stdout",
     "output_type": "stream",
     "text": [
      " Howl's isn’t escaped\n"
     ]
    }
   ],
   "source": [
    "print(\" Howl's isn’t escaped\")"
   ]
  },
  {
   "cell_type": "code",
   "execution_count": 59,
   "metadata": {},
   "outputs": [
    {
     "name": "stdout",
     "output_type": "stream",
     "text": [
      "hello \\n world \n",
      "pragati\n"
     ]
    }
   ],
   "source": [
    "print(\"hello \\\\n world \",\"pragati\",sep='\\n')"
   ]
  },
  {
   "cell_type": "code",
   "execution_count": 60,
   "metadata": {},
   "outputs": [
    {
     "data": {
      "text/plain": [
       "'e'"
      ]
     },
     "execution_count": 60,
     "metadata": {},
     "output_type": "execute_result"
    }
   ],
   "source": [
    "'Hello world!'[1]"
   ]
  },
  {
   "cell_type": "code",
   "execution_count": 61,
   "metadata": {},
   "outputs": [
    {
     "data": {
      "text/plain": [
       "'Hello'"
      ]
     },
     "execution_count": 61,
     "metadata": {},
     "output_type": "execute_result"
    }
   ],
   "source": [
    "'Hello world!'[0:5]"
   ]
  },
  {
   "cell_type": "code",
   "execution_count": 62,
   "metadata": {},
   "outputs": [
    {
     "data": {
      "text/plain": [
       "'Hello'"
      ]
     },
     "execution_count": 62,
     "metadata": {},
     "output_type": "execute_result"
    }
   ],
   "source": [
    "'Hello world!'[:5]"
   ]
  },
  {
   "cell_type": "code",
   "execution_count": 63,
   "metadata": {},
   "outputs": [
    {
     "data": {
      "text/plain": [
       "'lo world!'"
      ]
     },
     "execution_count": 63,
     "metadata": {},
     "output_type": "execute_result"
    }
   ],
   "source": [
    "'Hello world!'[3:]"
   ]
  },
  {
   "cell_type": "code",
   "execution_count": 64,
   "metadata": {},
   "outputs": [
    {
     "data": {
      "text/plain": [
       "'HELLO'"
      ]
     },
     "execution_count": 64,
     "metadata": {},
     "output_type": "execute_result"
    }
   ],
   "source": [
    "'Hello'.upper()"
   ]
  },
  {
   "cell_type": "code",
   "execution_count": 65,
   "metadata": {},
   "outputs": [
    {
     "data": {
      "text/plain": [
       "True"
      ]
     },
     "execution_count": 65,
     "metadata": {},
     "output_type": "execute_result"
    }
   ],
   "source": [
    "'Hello'.upper().isupper()"
   ]
  },
  {
   "cell_type": "code",
   "execution_count": 66,
   "metadata": {},
   "outputs": [
    {
     "data": {
      "text/plain": [
       "'hello'"
      ]
     },
     "execution_count": 66,
     "metadata": {},
     "output_type": "execute_result"
    }
   ],
   "source": [
    "'Hello'.upper().lower()"
   ]
  },
  {
   "cell_type": "code",
   "execution_count": 67,
   "metadata": {},
   "outputs": [
    {
     "data": {
      "text/plain": [
       "['Remember,', 'remember,', 'the', 'fifth', 'of', 'November.']"
      ]
     },
     "execution_count": 67,
     "metadata": {},
     "output_type": "execute_result"
    }
   ],
   "source": [
    "'Remember, remember, the fifth of November.'.split()"
   ]
  },
  {
   "cell_type": "code",
   "execution_count": 68,
   "metadata": {},
   "outputs": [
    {
     "data": {
      "text/plain": [
       "'There-can-be-only-one.'"
      ]
     },
     "execution_count": 68,
     "metadata": {},
     "output_type": "execute_result"
    }
   ],
   "source": [
    "'-'.join('There can be only one.'.split())"
   ]
  },
  {
   "cell_type": "code",
   "execution_count": 70,
   "metadata": {},
   "outputs": [
    {
     "data": {
      "text/plain": [
       "'hello'"
      ]
     },
     "execution_count": 70,
     "metadata": {},
     "output_type": "execute_result"
    }
   ],
   "source": [
    "'       hello           '.strip()"
   ]
  },
  {
   "cell_type": "markdown",
   "metadata": {},
   "source": [
    "# Assignment5"
   ]
  },
  {
   "cell_type": "code",
   "execution_count": 71,
   "metadata": {},
   "outputs": [
    {
     "data": {
      "text/plain": [
       "False"
      ]
     },
     "execution_count": 71,
     "metadata": {},
     "output_type": "execute_result"
    }
   ],
   "source": [
    "(5 > 4) and (3 == 5)"
   ]
  },
  {
   "cell_type": "code",
   "execution_count": 72,
   "metadata": {},
   "outputs": [
    {
     "data": {
      "text/plain": [
       "False"
      ]
     },
     "execution_count": 72,
     "metadata": {},
     "output_type": "execute_result"
    }
   ],
   "source": [
    "not (5 > 4)"
   ]
  },
  {
   "cell_type": "code",
   "execution_count": 73,
   "metadata": {},
   "outputs": [
    {
     "data": {
      "text/plain": [
       "True"
      ]
     },
     "execution_count": 73,
     "metadata": {},
     "output_type": "execute_result"
    }
   ],
   "source": [
    "(5 > 4) or (3 == 5)"
   ]
  },
  {
   "cell_type": "code",
   "execution_count": 74,
   "metadata": {},
   "outputs": [
    {
     "data": {
      "text/plain": [
       "False"
      ]
     },
     "execution_count": 74,
     "metadata": {},
     "output_type": "execute_result"
    }
   ],
   "source": [
    "not ((5 > 4) or (3 == 5))"
   ]
  },
  {
   "cell_type": "code",
   "execution_count": 75,
   "metadata": {},
   "outputs": [
    {
     "data": {
      "text/plain": [
       "False"
      ]
     },
     "execution_count": 75,
     "metadata": {},
     "output_type": "execute_result"
    }
   ],
   "source": [
    "(True and True) and (True == False)"
   ]
  },
  {
   "cell_type": "code",
   "execution_count": 79,
   "metadata": {},
   "outputs": [
    {
     "data": {
      "text/plain": [
       "True"
      ]
     },
     "execution_count": 79,
     "metadata": {},
     "output_type": "execute_result"
    }
   ],
   "source": [
    "(not False) or (not True)"
   ]
  },
  {
   "cell_type": "markdown",
   "metadata": {},
   "source": [
    "# Assignment6"
   ]
  },
  {
   "cell_type": "code",
   "execution_count": 77,
   "metadata": {},
   "outputs": [
    {
     "name": "stdout",
     "output_type": "stream",
     "text": [
      "list1 = [10, 'a']\n",
      "list2 = [123]\n",
      "list3 = [10, 'a']\n"
     ]
    }
   ],
   "source": [
    "def extendList(val, list=[]):\n",
    "    list.append(val)\n",
    "    return list\n",
    "\n",
    "list1 = extendList(10)\n",
    "list2 = extendList(123,[])\n",
    "list3 = extendList('a')\n",
    "\n",
    "print(\"list1 = %s\" % list1)\n",
    "print(\"list2 = %s\" % list2)\n",
    "print(\"list3 = %s\" % list3)\n"
   ]
  },
  {
   "cell_type": "code",
   "execution_count": 78,
   "metadata": {},
   "outputs": [
    {
     "name": "stdout",
     "output_type": "stream",
     "text": [
      "[6, 6, 6, 6]\n"
     ]
    }
   ],
   "source": [
    "def multipliers():\n",
    "  return [lambda x : i * x for i in range(4)]\n",
    "    \n",
    "print([m(2) for m in multipliers()])\n"
   ]
  },
  {
   "cell_type": "code",
   "execution_count": 80,
   "metadata": {},
   "outputs": [
    {
     "ename": "SyntaxError",
     "evalue": "Missing parentheses in call to 'print'. Did you mean print(Parent.x, Child1.x, Child2.x)? (<ipython-input-80-40c223afecd6>, line 10)",
     "output_type": "error",
     "traceback": [
      "\u001b[1;36m  File \u001b[1;32m\"<ipython-input-80-40c223afecd6>\"\u001b[1;36m, line \u001b[1;32m10\u001b[0m\n\u001b[1;33m    print Parent.x, Child1.x, Child2.x\u001b[0m\n\u001b[1;37m               ^\u001b[0m\n\u001b[1;31mSyntaxError\u001b[0m\u001b[1;31m:\u001b[0m Missing parentheses in call to 'print'. Did you mean print(Parent.x, Child1.x, Child2.x)?\n"
     ]
    }
   ],
   "source": [
    "class Parent(object):\n",
    "    x = 1\n",
    "\n",
    "class Child1(Parent):\n",
    "    pass\n",
    "\n",
    "class Child2(Parent):\n",
    "    pass\n",
    "\n",
    "print Parent.x, Child1.x, Child2.x\n",
    "Child1.x = 2\n",
    "print Parent.x, Child1.x, Child2.x\n",
    "Parent.x = 3\n",
    "print Parent.x, Child1.x, Child2.x\n"
   ]
  },
  {
   "cell_type": "code",
   "execution_count": 81,
   "metadata": {},
   "outputs": [
    {
     "ename": "SyntaxError",
     "evalue": "invalid syntax (<ipython-input-81-6885ef45b802>, line 2)",
     "output_type": "error",
     "traceback": [
      "\u001b[1;36m  File \u001b[1;32m\"<ipython-input-81-6885ef45b802>\"\u001b[1;36m, line \u001b[1;32m2\u001b[0m\n\u001b[1;33m    print \"%s/%s = %s\" % (x, y, x/y)\u001b[0m\n\u001b[1;37m                     ^\u001b[0m\n\u001b[1;31mSyntaxError\u001b[0m\u001b[1;31m:\u001b[0m invalid syntax\n"
     ]
    }
   ],
   "source": [
    "def div1(x,y):\n",
    "    print \"%s/%s = %s\" % (x, y, x/y)\n",
    "    \n",
    "def div2(x,y):\n",
    "    print \"%s//%s = %s\" % (x, y, x//y)\n",
    "\n",
    "div1(5,2)\n",
    "div1(5.,2)\n",
    "div2(5,2)\n",
    "div2(5.,2.)\n"
   ]
  },
  {
   "cell_type": "code",
   "execution_count": 83,
   "metadata": {},
   "outputs": [
    {
     "data": {
      "text/plain": [
       "[[], [], [], [], []]"
      ]
     },
     "execution_count": 83,
     "metadata": {},
     "output_type": "execute_result"
    }
   ],
   "source": [
    "list = [ [ ] ] * 5\n",
    "list"
   ]
  },
  {
   "cell_type": "code",
   "execution_count": 85,
   "metadata": {},
   "outputs": [
    {
     "data": {
      "text/plain": [
       "[[10], [10], [10], [10], [10]]"
      ]
     },
     "execution_count": 85,
     "metadata": {},
     "output_type": "execute_result"
    }
   ],
   "source": [
    "list[0].append(10)\n",
    "list"
   ]
  },
  {
   "cell_type": "code",
   "execution_count": 87,
   "metadata": {},
   "outputs": [
    {
     "data": {
      "text/plain": [
       "[[10, 20, 20], [10, 20, 20], [10, 20, 20], [10, 20, 20], [10, 20, 20]]"
      ]
     },
     "execution_count": 87,
     "metadata": {},
     "output_type": "execute_result"
    }
   ],
   "source": [
    "list[1].append(20)\n",
    "list"
   ]
  },
  {
   "cell_type": "code",
   "execution_count": 89,
   "metadata": {},
   "outputs": [
    {
     "data": {
      "text/plain": [
       "[[10, 20, 20], [10, 20, 20], [10, 20, 20], [10, 20, 20], [10, 20, 20], 30, 30]"
      ]
     },
     "execution_count": 89,
     "metadata": {},
     "output_type": "execute_result"
    }
   ],
   "source": [
    "list.append(30)\n",
    "list"
   ]
  },
  {
   "cell_type": "code",
   "execution_count": 3,
   "metadata": {},
   "outputs": [
    {
     "name": "stdout",
     "output_type": "stream",
     "text": [
      "enter the m x n array1 values: 3 4\n",
      "enter the m x n array1 values: 3 4\n",
      "for row 0 Enter the values: \n",
      "for colomn 0 Enter the values: \n",
      "4\n"
     ]
    },
    {
     "ename": "TypeError",
     "evalue": "append() takes exactly one argument (2 given)",
     "output_type": "error",
     "traceback": [
      "\u001b[1;31m---------------------------------------------------------------------------\u001b[0m",
      "\u001b[1;31mTypeError\u001b[0m                                 Traceback (most recent call last)",
      "\u001b[1;32m<ipython-input-3-a0c0482a445e>\u001b[0m in \u001b[0;36m<module>\u001b[1;34m()\u001b[0m\n\u001b[0;32m     10\u001b[0m         \u001b[1;32mwhile\u001b[0m \u001b[0mb\u001b[0m\u001b[1;33m<\u001b[0m\u001b[0mj\u001b[0m\u001b[1;33m:\u001b[0m\u001b[1;33m\u001b[0m\u001b[0m\n\u001b[0;32m     11\u001b[0m             \u001b[0mprint\u001b[0m\u001b[1;33m(\u001b[0m\u001b[1;34mf\"for colomn {b} Enter the values: \"\u001b[0m\u001b[1;33m)\u001b[0m\u001b[1;33m\u001b[0m\u001b[0m\n\u001b[1;32m---> 12\u001b[1;33m             \u001b[0ml1\u001b[0m\u001b[1;33m.\u001b[0m\u001b[0mappend\u001b[0m\u001b[1;33m(\u001b[0m\u001b[0mint\u001b[0m\u001b[1;33m,\u001b[0m\u001b[0minput\u001b[0m\u001b[1;33m(\u001b[0m\u001b[1;33m)\u001b[0m\u001b[1;33m)\u001b[0m\u001b[1;33m\u001b[0m\u001b[0m\n\u001b[0m\u001b[0;32m     13\u001b[0m             \u001b[0mb\u001b[0m\u001b[1;33m+=\u001b[0m\u001b[1;36m1\u001b[0m\u001b[1;33m\u001b[0m\u001b[0m\n\u001b[0;32m     14\u001b[0m         \u001b[0ml2\u001b[0m\u001b[1;33m.\u001b[0m\u001b[0mappend\u001b[0m\u001b[1;33m(\u001b[0m\u001b[0ml1\u001b[0m\u001b[1;33m)\u001b[0m\u001b[1;33m\u001b[0m\u001b[0m\n",
      "\u001b[1;31mTypeError\u001b[0m: append() takes exactly one argument (2 given)"
     ]
    }
   ],
   "source": [
    "i,j=map(int,(input(\"enter the m x n array1 values: \").split()))   #doubts\n",
    "m,n=map(int,(input(\"enter the m x n array1 values: \").split()))\n",
    "if i==m and j==n:\n",
    "    a=0\n",
    "    l1=[]\n",
    "    l2=[]\n",
    "    while a<i:\n",
    "        print(f\"for row {a} Enter the values: \")\n",
    "        b=0\n",
    "        while b<j:\n",
    "            print(f\"for colomn {b} Enter the values: \")\n",
    "            l1.append(int(input())\n",
    "            b+=1\n",
    "        l2.append(l1)\n",
    "        a+=1\n",
    "print(l1)\n",
    "print(l2)\n",
    "   \n",
    "    "
   ]
  },
  {
   "cell_type": "code",
   "execution_count": 24,
   "metadata": {},
   "outputs": [
    {
     "name": "stdout",
     "output_type": "stream",
     "text": [
      "<class 'int'>\n"
     ]
    }
   ],
   "source": [
    "l=[]\n",
    "l.append(2)\n",
    "print(type(l[0]))"
   ]
  },
  {
   "cell_type": "code",
   "execution_count": 1,
   "metadata": {},
   "outputs": [
    {
     "name": "stdout",
     "output_type": "stream",
     "text": [
      "enter two values: \n",
      "3\n",
      "4\n",
      "3\n"
     ]
    },
    {
     "data": {
      "text/plain": [
       "[[...], [...], [...], '3', '4', '3']"
      ]
     },
     "execution_count": 1,
     "metadata": {},
     "output_type": "execute_result"
    }
   ],
   "source": [
    "l=[]\n",
    "k=0\n",
    "print(\"enter two values: \")\n",
    "while k<3:\n",
    "    l.append(input())\n",
    "    l.insert(k,l)\n",
    "    k+=1\n",
    "l"
   ]
  },
  {
   "cell_type": "code",
   "execution_count": 3,
   "metadata": {},
   "outputs": [
    {
     "name": "stdout",
     "output_type": "stream",
     "text": [
      "['hello', 'welcome', 'to', 'python', 'test', 'your', 'knowledge']\n"
     ]
    }
   ],
   "source": [
    "list1,list2,list3=['hello','welcome','to','python'],['test','your','knowledge'],[\"let's\",'see','how','far','you','can','think']\n",
    "print(list1+list2)"
   ]
  },
  {
   "cell_type": "markdown",
   "metadata": {},
   "source": [
    "# Assignment7"
   ]
  },
  {
   "cell_type": "code",
   "execution_count": 8,
   "metadata": {},
   "outputs": [
    {
     "name": "stdout",
     "output_type": "stream",
     "text": [
      "4 3\n",
      "4 is gratest number\n"
     ]
    }
   ],
   "source": [
    "num1,num2=map(int,input().split()) #program to find max between two numbers\n",
    "if num1>num2:\n",
    "    f=num1\n",
    "else:\n",
    "    f=num2\n",
    "print(f\"{f} is gratest number\")"
   ]
  },
  {
   "cell_type": "code",
   "execution_count": 12,
   "metadata": {},
   "outputs": [
    {
     "name": "stdout",
     "output_type": "stream",
     "text": [
      "2 4 3\n",
      "4 is the greatest number\n"
     ]
    }
   ],
   "source": [
    "num1,num2,num3=map(int,input().split()) #prgram to find max between three numbers\n",
    "if num1>num2 and num1>num3:\n",
    "    f=num1\n",
    "elif num2>num3:\n",
    "    f=num2\n",
    "else:\n",
    "    f=num3\n",
    "print(f\"{f} is the greatest number\")"
   ]
  },
  {
   "cell_type": "code",
   "execution_count": 14,
   "metadata": {},
   "outputs": [
    {
     "name": "stdout",
     "output_type": "stream",
     "text": [
      "3\n"
     ]
    },
    {
     "ename": "TypeError",
     "evalue": "'>' not supported between instances of 'map' and 'int'",
     "output_type": "error",
     "traceback": [
      "\u001b[1;31m---------------------------------------------------------------------------\u001b[0m",
      "\u001b[1;31mTypeError\u001b[0m                                 Traceback (most recent call last)",
      "\u001b[1;32m<ipython-input-14-b1f4437adbcc>\u001b[0m in \u001b[0;36m<module>\u001b[1;34m()\u001b[0m\n\u001b[0;32m      1\u001b[0m \u001b[0mnum\u001b[0m\u001b[1;33m=\u001b[0m\u001b[0mmap\u001b[0m\u001b[1;33m(\u001b[0m\u001b[0mint\u001b[0m\u001b[1;33m(\u001b[0m\u001b[1;33m)\u001b[0m\u001b[1;33m,\u001b[0m\u001b[0minput\u001b[0m\u001b[1;33m(\u001b[0m\u001b[1;33m)\u001b[0m\u001b[1;33m)\u001b[0m\u001b[1;33m\u001b[0m\u001b[0m\n\u001b[1;32m----> 2\u001b[1;33m \u001b[1;32mif\u001b[0m \u001b[0mnum\u001b[0m \u001b[1;33m>\u001b[0m \u001b[1;36m0\u001b[0m\u001b[1;33m:\u001b[0m\u001b[1;33m\u001b[0m\u001b[0m\n\u001b[0m\u001b[0;32m      3\u001b[0m     \u001b[0mprint\u001b[0m\u001b[1;33m(\u001b[0m\u001b[1;34m\"positive\"\u001b[0m\u001b[1;33m)\u001b[0m\u001b[1;33m\u001b[0m\u001b[0m\n\u001b[0;32m      4\u001b[0m \u001b[1;32melif\u001b[0m \u001b[0mnum\u001b[0m \u001b[1;33m<\u001b[0m \u001b[1;36m0\u001b[0m\u001b[1;33m:\u001b[0m\u001b[1;33m\u001b[0m\u001b[0m\n\u001b[0;32m      5\u001b[0m     \u001b[0mprint\u001b[0m\u001b[1;33m(\u001b[0m\u001b[1;34m\"negative\"\u001b[0m\u001b[1;33m)\u001b[0m\u001b[1;33m\u001b[0m\u001b[0m\n",
      "\u001b[1;31mTypeError\u001b[0m: '>' not supported between instances of 'map' and 'int'"
     ]
    }
   ],
   "source": [
    "num=map(int(),input()) #doubt\n",
    "if num > 0:\n",
    "    print(\"positive\")\n",
    "elif num < 0:\n",
    "    print(\"negative\")\n",
    "else:\n",
    "    print(\"zero\")"
   ]
  },
  {
   "cell_type": "code",
   "execution_count": 17,
   "metadata": {},
   "outputs": [
    {
     "name": "stdout",
     "output_type": "stream",
     "text": [
      "0\n",
      "zero\n"
     ]
    }
   ],
   "source": [
    "num=int(input()) #number is positive,negative or zero \n",
    "if num > 0:\n",
    "    print(\"positive\")\n",
    "elif num < 0:\n",
    "    print(\"negative\")\n",
    "else:\n",
    "    print(\"zero\")"
   ]
  },
  {
   "cell_type": "code",
   "execution_count": 19,
   "metadata": {},
   "outputs": [
    {
     "name": "stdout",
     "output_type": "stream",
     "text": [
      "34\n",
      "34 is not divisible by 5 and 11\n"
     ]
    }
   ],
   "source": [
    "num=int(input())   #program to find number divisible by 5 and 11 or not\n",
    "if num%5==0 and num%11==0:\n",
    "    print(f\"{num} is divisible by 5 and 11\")\n",
    "else:\n",
    "    print(f\"{num} is not divisible by 5 and 11\")"
   ]
  },
  {
   "cell_type": "code",
   "execution_count": 22,
   "metadata": {},
   "outputs": [
    {
     "name": "stdout",
     "output_type": "stream",
     "text": [
      "45\n",
      "odd\n"
     ]
    }
   ],
   "source": [
    "num=int(input()) #odd or even number\n",
    "if num%2:\n",
    "    print(\"odd\")\n",
    "else:\n",
    "    print(\"even\")"
   ]
  },
  {
   "cell_type": "code",
   "execution_count": 43,
   "metadata": {},
   "outputs": [
    {
     "name": "stdout",
     "output_type": "stream",
     "text": [
      "200\n",
      "not leap year\n"
     ]
    }
   ],
   "source": [
    "year=int(input()) #leap year or not\n",
    "if year%4==0:\n",
    "    if year%400==0:\n",
    "        print(\"leap year\")\n",
    "    elif year%100==0:\n",
    "        print(\"not leap year\")\n",
    "    else:\n",
    "        print(\"leap year\")\n",
    "else:\n",
    "    print(\"not leap year\")"
   ]
  },
  {
   "cell_type": "code",
   "execution_count": 50,
   "metadata": {},
   "outputs": [
    {
     "name": "stdout",
     "output_type": "stream",
     "text": [
      "K\n",
      "alphabet\n"
     ]
    }
   ],
   "source": [
    "n=input().lower() #program is alphabet or not\n",
    "if n>'a' and n<'z':\n",
    "    print(\"alphabet\")\n",
    "else:\n",
    "    print(\"not alphabet\")"
   ]
  },
  {
   "cell_type": "code",
   "execution_count": 54,
   "metadata": {},
   "outputs": [
    {
     "name": "stdout",
     "output_type": "stream",
     "text": [
      "o\n",
      "vowel\n"
     ]
    }
   ],
   "source": [
    "n=input().lower() #vowel or consonent\n",
    "if n>'a' and n<'z':\n",
    "    if n=='a'or n=='e'or n=='i'or n=='o'or n=='u':\n",
    "        print(\"vowel\")\n",
    "    else:\n",
    "        print(\"consonent\")\n",
    "else:\n",
    "    print(\"not alphabet\")"
   ]
  },
  {
   "cell_type": "code",
   "execution_count": 57,
   "metadata": {},
   "outputs": [
    {
     "name": "stdout",
     "output_type": "stream",
     "text": [
      "U\n",
      "alphabet\n"
     ]
    }
   ],
   "source": [
    "n=input().lower()   #alphabet ,digit or special character \n",
    "if n>'a'and n<'z':\n",
    "    print(\"alphabet\")\n",
    "elif n>'0' and n<'9':\n",
    "    print(\"digit\")\n",
    "else:\n",
    "    print(\"special character\")"
   ]
  },
  {
   "cell_type": "code",
   "execution_count": 60,
   "metadata": {},
   "outputs": [
    {
     "name": "stdout",
     "output_type": "stream",
     "text": [
      "f\n",
      "lower case letter\n"
     ]
    }
   ],
   "source": [
    "n=input()       #lower case and upper case \n",
    "if n>'A'and n<'Z':\n",
    "    print(\"upper case letter\")\n",
    "elif n>'a'and n<'z':\n",
    "    print(\"lower case letter\")\n",
    "else:\n",
    "    print(\"not alphabet\")"
   ]
  },
  {
   "cell_type": "code",
   "execution_count": 64,
   "metadata": {},
   "outputs": [
    {
     "name": "stdout",
     "output_type": "stream",
     "text": [
      "0\n",
      "!!!!!warning!!!!  not correct number\n"
     ]
    }
   ],
   "source": [
    "n=int(input())  #day if day number is given\n",
    "if n==1:\n",
    "    print(\"monday\")\n",
    "elif n==2:\n",
    "    print(\"tuesday\")\n",
    "elif n==3:\n",
    "    print(\"wednesday\")\n",
    "elif n==4:\n",
    "    print(\"thursday\")\n",
    "elif n==5:\n",
    "    print(\"friday\")\n",
    "elif n==6:\n",
    "    print(\"saturday\")\n",
    "elif n==7:\n",
    "    print(\"sunday\")\n",
    "else:\n",
    "    print(\"!!!!!warning!!!!  not correct number\")"
   ]
  },
  {
   "cell_type": "code",
   "execution_count": 69,
   "metadata": {},
   "outputs": [
    {
     "name": "stdout",
     "output_type": "stream",
     "text": [
      "enter the number !!!  1-12   10\n",
      "number of days are 31\n"
     ]
    }
   ],
   "source": [
    "n=int(input(\"enter the number !!!  1-12   \")) # number of days in a month according to month number\n",
    "if n==1 or n==3 or n==5 or n==7 or n==8 or n==10 or n==12:\n",
    "    print(\"number of days are 31\")\n",
    "elif n==4 or n==6 or n==9 or n==11:\n",
    "    print(\"number of days are 30\")\n",
    "else:\n",
    "    print(\"number of days are either 28 or 29\")"
   ]
  },
  {
   "cell_type": "code",
   "execution_count": 72,
   "metadata": {},
   "outputs": [
    {
     "name": "stdout",
     "output_type": "stream",
     "text": [
      "enter the three angles of triangle:  60 60 60\n",
      "valid\n"
     ]
    }
   ],
   "source": [
    "a,b,c=map(int,input(\"enter the three angles of triangle:  \").split()) #validity of triangle on the basis of angles\n",
    "if (a+b+c)==180:\n",
    "    print(\"valid\")\n",
    "else:\n",
    "    print(\"invalid\")"
   ]
  },
  {
   "cell_type": "code",
   "execution_count": 8,
   "metadata": {},
   "outputs": [
    {
     "name": "stdout",
     "output_type": "stream",
     "text": [
      "enter the three sides of triangle:  45 56 1\n",
      "valid\n"
     ]
    }
   ],
   "source": [
    "a,b,c=map(int,input(\"enter the three sides of triangle:  \").split()) #validity of triangle on the basis of side length\n",
    "if (a+b)>c or (b+c)>a or (a+c)>b:\n",
    "    print(\"valid\")\n",
    "else:\n",
    "    print(\"invalid\")"
   ]
  },
  {
   "cell_type": "code",
   "execution_count": 7,
   "metadata": {},
   "outputs": [
    {
     "name": "stdout",
     "output_type": "stream",
     "text": [
      "enter the three angles of triangle:  60 60 60\n",
      "equilateral\n"
     ]
    }
   ],
   "source": [
    "a,b,c=map(int,input(\"enter the three angles of triangle:  \").split()) #triangle type\n",
    "if (a+b+c)>180:\n",
    "    print(\"isosceles triangle\")\n",
    "elif (a+b+c)<180:\n",
    "    print(\"scalene triangle\")\n",
    "else:\n",
    "    print(\"equilateral\")"
   ]
  },
  {
   "cell_type": "code",
   "execution_count": 86,
   "metadata": {},
   "outputs": [
    {
     "name": "stdout",
     "output_type": "stream",
     "text": [
      "enter the value of a,b,c :  1 4 4\n",
      "2.0\n",
      "2.0\n"
     ]
    }
   ],
   "source": [
    "a,b,c=map(int,input(\"enter the value of a,b,c :  \").split()) #quardatic equation\n",
    "s=(b*b)-(4*a*c)\n",
    "t=0.5\n",
    "print((s**t)/(2*a)+b/(2*a))\n",
    "print(b/(2*a)-(s**t)/(2*a))"
   ]
  },
  {
   "cell_type": "code",
   "execution_count": 17,
   "metadata": {},
   "outputs": [
    {
     "name": "stdout",
     "output_type": "stream",
     "text": [
      "enter two numbers:  400 400\n",
      "no profit no loss\n"
     ]
    }
   ],
   "source": [
    "m,n=map(int,input(\"enter two numbers:  \").split()) #profit and loss\n",
    "if (m-n)>0:\n",
    "    print(\"profit\")\n",
    "elif (m-n)<0:\n",
    "    print(\"loss\")\n",
    "else:\n",
    "    print(\"no profit no loss\")"
   ]
  },
  {
   "cell_type": "code",
   "execution_count": 1,
   "metadata": {},
   "outputs": [
    {
     "name": "stdout",
     "output_type": "stream",
     "text": [
      "maximum marks of each subject is 100: \n",
      "\n",
      "enter the marks of five subjects:  100 100 100 90 100\n",
      "grade A\n"
     ]
    }
   ],
   "source": [
    "print(\"maximum marks of each subject is 100: \\n\")  #grades according to marks\n",
    "m1,m2,m3,m4,m5=map(int,input(\"enter the marks of five subjects:  \").split())\n",
    "if m1<=100 and m2<=100 and m3<=100 and m4<=100 and m5<=100:\n",
    "    if ((m1+m2+m3+m4+m5)/500*100) >=90:\n",
    "        print(\"grade A\")\n",
    "    elif ((m1+m2+m3+m4+m5)/500*100) >=80:\n",
    "        print(\"grade B\")\n",
    "    elif ((m1+m2+m3+m4+m5)/500*100) >=70:\n",
    "        print(\"grade C\")\n",
    "    elif ((m1+m2+m3+m4+m5)/500*100) >=60:\n",
    "        print(\"grade D\")\n",
    "    elif ((m1+m2+m3+m4+m5)/500*100) >=40:\n",
    "        print(\"grade E\")\n",
    "    else:\n",
    "        print(\"grade F\")\n",
    "else:\n",
    "    print(\"invalid input,please enter valid input \")"
   ]
  },
  {
   "cell_type": "code",
   "execution_count": 2,
   "metadata": {},
   "outputs": [
    {
     "name": "stdout",
     "output_type": "stream",
     "text": [
      "enter the basic salary of employee:  30000\n",
      "67500.0\n"
     ]
    }
   ],
   "source": [
    "basic_salary=int(input(\"enter the basic salary of employee:  \")) #salary of employee\n",
    "if basic_salary<=10000:\n",
    "    hra=basic_salary * .2\n",
    "    da=basic_salary * .8\n",
    "    print(basic_salary+hra+da)\n",
    "elif basic_salary<=20000:\n",
    "    hra=basic_salary * .25\n",
    "    da=basic_salary * .9\n",
    "    print(basic_salary+hra+da)\n",
    "else:\n",
    "    hra=basic_salary * .3\n",
    "    da=basic_salary * .95\n",
    "    print(basic_salary+hra+da)\n",
    "    "
   ]
  },
  {
   "cell_type": "code",
   "execution_count": 2,
   "metadata": {},
   "outputs": [
    {
     "name": "stdout",
     "output_type": "stream",
     "text": [
      "enter the eletricity unit:   275\n",
      "467.5\n"
     ]
    }
   ],
   "source": [
    "unit=int(input(\"enter the eletricity unit:   \")) #calculate electricity bill\n",
    "if unit<=50:\n",
    "    print(unit*.50)\n",
    "elif unit<=100:\n",
    "    print(unit*.75)\n",
    "elif unit<=200:\n",
    "    print(unit*1.20)\n",
    "else:\n",
    "    print((unit*1.5)+(unit*.2))"
   ]
  },
  {
   "cell_type": "code",
   "execution_count": 13,
   "metadata": {},
   "outputs": [
    {
     "name": "stdout",
     "output_type": "stream",
     "text": [
      "enter the amount in indian currency: 30000\n",
      "no of notes of 10 in 30000 is 3000\n",
      "no of notes of 20 in 30000 is 1500\n",
      "no of notes of 50 in 30000 is 600\n",
      "no of notes of 100 in 30000 is 300\n",
      "no of notes of 200 in 30000 is 150\n",
      "no of notes of 500 in 30000 is 60\n",
      "no of notes of 2000 in 30000 is 15\n"
     ]
    }
   ],
   "source": [
    "n=int(input(\"enter the amount in indian currency: \")) #program to calculate no. of notes in amount\n",
    "if n>=10:\n",
    "    print(f\"no of notes of 10 in {n} is {n//10}\")\n",
    "    if n>=20:\n",
    "        print(f\"no of notes of 20 in {n} is {n//20}\")\n",
    "        if n>=50:\n",
    "            print(f\"no of notes of 50 in {n} is {n//50}\")\n",
    "            if n>=100:\n",
    "                print(f\"no of notes of 100 in {n} is {n//100}\")\n",
    "                if n>=200:\n",
    "                    print(f\"no of notes of 200 in {n} is {n//200}\")\n",
    "                    if n>=500:\n",
    "                        print(f\"no of notes of 500 in {n} is {n//500}\")\n",
    "                        if n>=2000:\n",
    "                            print(f\"no of notes of 2000 in {n} is {n//2000}\")\n",
    "else:\n",
    "    print(\"no notes are available\")"
   ]
  },
  {
   "cell_type": "markdown",
   "metadata": {},
   "source": [
    "# Assignment8"
   ]
  },
  {
   "cell_type": "code",
   "execution_count": 3,
   "metadata": {},
   "outputs": [
    {
     "name": "stdout",
     "output_type": "stream",
     "text": [
      "Hello World!\n"
     ]
    }
   ],
   "source": [
    "print(\"Hello World!\")"
   ]
  },
  {
   "cell_type": "code",
   "execution_count": 5,
   "metadata": {},
   "outputs": [
    {
     "name": "stdout",
     "output_type": "stream",
     "text": [
      "enter two numbers:   2 3\n",
      "5\n"
     ]
    }
   ],
   "source": [
    "n1,n2=map(int,input(\"enter two numbers:   \").split())#additon of two numbers\n",
    "print(n1+n2)"
   ]
  },
  {
   "cell_type": "code",
   "execution_count": 14,
   "metadata": {},
   "outputs": [
    {
     "name": "stdout",
     "output_type": "stream",
     "text": [
      "enter the base and height of triangle:  2 3\n",
      "3.0\n"
     ]
    }
   ],
   "source": [
    "b,h=map(int,input(\"enter the base and height of triangle:  \").split())#calculate area of triangle\n",
    "print(0.5*b*h)"
   ]
  },
  {
   "cell_type": "code",
   "execution_count": 19,
   "metadata": {},
   "outputs": [
    {
     "name": "stdout",
     "output_type": "stream",
     "text": [
      "enter the number: 36\n",
      "6.0\n"
     ]
    }
   ],
   "source": [
    "n=int(input(\"enter the number: \")) #square root of given number\n",
    "print(n**0.5)"
   ]
  },
  {
   "cell_type": "code",
   "execution_count": 20,
   "metadata": {},
   "outputs": [
    {
     "name": "stdout",
     "output_type": "stream",
     "text": [
      "enter two numbers:  3 4\n",
      "number are after swapping 4 and 3\n"
     ]
    }
   ],
   "source": [
    "n1,n2=map(int,input(\"enter two numbers:  \").split()) #swapping by using third variable\n",
    "t=n1\n",
    "n1=n2\n",
    "n2=t\n",
    "print(f\"numbers are after swapping {n1} and {n2}\")"
   ]
  },
  {
   "cell_type": "code",
   "execution_count": 21,
   "metadata": {},
   "outputs": [
    {
     "name": "stdout",
     "output_type": "stream",
     "text": [
      "enter two numbers:  3 4\n",
      "numbers are after swapping 4 and 3\n"
     ]
    }
   ],
   "source": [
    "n1,n2=map(int,input(\"enter two numbers:  \").split()) #swapping without using third variable\n",
    "n1=n1+n2\n",
    "n2=n1-n2\n",
    "n1=n1-n2\n",
    "print(f\"numbers are after swapping {n1} and {n2}\")"
   ]
  },
  {
   "cell_type": "code",
   "execution_count": 26,
   "metadata": {},
   "outputs": [
    {
     "name": "stdout",
     "output_type": "stream",
     "text": [
      "generate random no between 1 to 50: 30\n"
     ]
    }
   ],
   "source": [
    "from random import randint     #generation of random number\n",
    "p1=randint(1,50)\n",
    "print(f\"generate random no between 1 to 50: {p1}\")"
   ]
  },
  {
   "cell_type": "code",
   "execution_count": 28,
   "metadata": {},
   "outputs": [
    {
     "name": "stdout",
     "output_type": "stream",
     "text": [
      "enter the number in kilometers: 2\n",
      "2 kilometer into miles are 1.242742\n"
     ]
    }
   ],
   "source": [
    "num=int(input(\"enter the number in kilometers: \")) #kilometer into miles \n",
    "print(f\"{num} kilometer into miles are {num*0.621371}\")"
   ]
  },
  {
   "cell_type": "code",
   "execution_count": 30,
   "metadata": {},
   "outputs": [
    {
     "name": "stdout",
     "output_type": "stream",
     "text": [
      "enter the temperature in celcius:   1\n",
      "33.8\n"
     ]
    }
   ],
   "source": [
    "temp=int(input(\"enter the temperature in celcius:   \"))  #celcius into fahrenheit\n",
    "f=(9/5*temp)+32\n",
    "print(f)"
   ]
  },
  {
   "cell_type": "code",
   "execution_count": 13,
   "metadata": {},
   "outputs": [
    {
     "name": "stdout",
     "output_type": "stream",
     "text": [
      "enter the number:  17\n",
      "prime\n"
     ]
    }
   ],
   "source": [
    "n=int(input(\"enter the number:  \"))   #calculate no is prime or not \n",
    "k=2\n",
    "while k<=(n**.5)//2:\n",
    "    if n%k==0:\n",
    "        f=0\n",
    "        break\n",
    "    else:\n",
    "        f=1\n",
    "    k+=1\n",
    "if f==1:\n",
    "    print(\"prime\")\n",
    "else:\n",
    "    print(\" not prime\")"
   ]
  },
  {
   "cell_type": "code",
   "execution_count": 2,
   "metadata": {},
   "outputs": [
    {
     "name": "stdout",
     "output_type": "stream",
     "text": [
      "enter the interval:  1 50\n",
      "the no. is neither composite or prime\n",
      "the prime number is 17\n",
      "the prime number is 19\n",
      "the prime number is 21\n",
      "the prime number is 23\n",
      "the prime number is 25\n",
      "the prime number is 27\n",
      "the prime number is 29\n",
      "the prime number is 31\n",
      "the prime number is 33\n",
      "the prime number is 35\n",
      "the prime number is 37\n",
      "the prime number is 41\n",
      "the prime number is 43\n",
      "the prime number is 47\n",
      "the prime number is 49\n"
     ]
    }
   ],
   "source": [
    "n1,n2=map(int,input(\"enter the interval:  \").split())    #doubts\n",
    "f  = 0\n",
    "while n1<n2:\n",
    "    k=2\n",
    "    if n1==1:\n",
    "        print(f\"the no. is neither composite or prime\")\n",
    "    while k<=(n1**.5)//2:\n",
    "        if n1%k==0:\n",
    "            f=0\n",
    "            break\n",
    "        else:\n",
    "            f=1\n",
    "        k+=1\n",
    "    if f==1:\n",
    "        print(f\"the prime number is {n1}\")\n",
    "    n1+=1"
   ]
  },
  {
   "cell_type": "code",
   "execution_count": 23,
   "metadata": {},
   "outputs": [
    {
     "name": "stdout",
     "output_type": "stream",
     "text": [
      "enter the number: 5\n",
      "120\n"
     ]
    }
   ],
   "source": [
    "num=int(input(\"enter the number: \"))  #factorial of number\n",
    "f=1\n",
    "while num>0:\n",
    "    f*=num\n",
    "    num-=1\n",
    "print(f)    "
   ]
  },
  {
   "cell_type": "code",
   "execution_count": 25,
   "metadata": {},
   "outputs": [
    {
     "name": "stdout",
     "output_type": "stream",
     "text": [
      "enter the number:  4\n",
      "4 x 1 = 4\n",
      "4 x 2 = 8\n",
      "4 x 3 = 12\n",
      "4 x 4 = 16\n",
      "4 x 5 = 20\n",
      "4 x 6 = 24\n",
      "4 x 7 = 28\n",
      "4 x 8 = 32\n",
      "4 x 9 = 36\n",
      "4 x 10 = 40\n"
     ]
    }
   ],
   "source": [
    "num=int(input(\"enter the number:  \"))\n",
    "f=1\n",
    "while f<=10:\n",
    "    print(f\"{num} x {f} = {num*f}\")\n",
    "    f+=1"
   ]
  },
  {
   "cell_type": "code",
   "execution_count": 20,
   "metadata": {},
   "outputs": [
    {
     "name": "stdout",
     "output_type": "stream",
     "text": [
      "enter the num at which you want to print series:   9\n",
      "0\n",
      "1\n",
      "1\n",
      "2\n",
      "3\n",
      "5\n",
      "8\n",
      "13\n",
      "21\n"
     ]
    }
   ],
   "source": [
    "num=int(input(\"enter the num at which you want to print series:   \"))    #fabonacci sequence\n",
    "k=0\n",
    "while k<num:\n",
    "    if k==0:\n",
    "        print(k)\n",
    "        s=k\n",
    "    elif k==1:\n",
    "        print(k)\n",
    "        t=k\n",
    "    else:\n",
    "        l=s+t\n",
    "        print(l)\n",
    "        s=t\n",
    "        t=l\n",
    "    k+=1"
   ]
  },
  {
   "cell_type": "code",
   "execution_count": 26,
   "metadata": {},
   "outputs": [
    {
     "name": "stdout",
     "output_type": "stream",
     "text": [
      "enter the number:  2\n",
      "the sum of natural number n is 3\n"
     ]
    }
   ],
   "source": [
    "n=int(input(\"enter the number:  \"))   #sum of natural number\n",
    "if n > 0:\n",
    "    s=0\n",
    "    while n>0:\n",
    "        s+=n\n",
    "        n-=1\n",
    "    print(f\"the sum of natural number n is {s}\")"
   ]
  },
  {
   "cell_type": "code",
   "execution_count": 9,
   "metadata": {},
   "outputs": [
    {
     "name": "stdout",
     "output_type": "stream",
     "text": [
      "enter the number:  153\n",
      "27\n",
      "152\n",
      "153\n",
      "armstrong number\n"
     ]
    }
   ],
   "source": [
    "num=int(input(\"enter the number:  \")) #armstrong number\n",
    "t=num\n",
    "s=0\n",
    "while num>0:\n",
    "    rem=num%10\n",
    "    num//=10\n",
    "    s+=1\n",
    "num=t\n",
    "n=0\n",
    "while t>0:\n",
    "    rem=t%10\n",
    "    n+=(rem**s)\n",
    "    print(n)\n",
    "    if n==num:\n",
    "        f=1\n",
    "    t//=10\n",
    "if f==1:\n",
    "    print(\"armstrong number\")\n",
    "else:\n",
    "    print(\"not armstrong number\")"
   ]
  },
  {
   "cell_type": "code",
   "execution_count": 11,
   "metadata": {},
   "outputs": [
    {
     "name": "stdout",
     "output_type": "stream",
     "text": [
      "enter the interval:  1 11\n",
      "the value of num1 is 1\n",
      "the value of n is 1\n",
      "1 is armstrong number\n",
      "the value of num1 is 2\n",
      "the value of n is 2\n",
      "2 is armstrong number\n",
      "the value of num1 is 3\n",
      "the value of n is 3\n",
      "3 is armstrong number\n",
      "the value of num1 is 4\n",
      "the value of n is 4\n",
      "4 is armstrong number\n",
      "the value of num1 is 5\n",
      "the value of n is 5\n",
      "5 is armstrong number\n",
      "the value of num1 is 6\n",
      "the value of n is 6\n",
      "6 is armstrong number\n",
      "the value of num1 is 7\n",
      "the value of n is 7\n",
      "7 is armstrong number\n",
      "the value of num1 is 8\n",
      "the value of n is 8\n",
      "8 is armstrong number\n",
      "the value of num1 is 9\n",
      "the value of n is 9\n",
      "9 is armstrong number\n",
      "the value of num1 is 10\n",
      "the value of n is 0\n",
      "the value of n is 1\n",
      "10 is armstrong number\n"
     ]
    }
   ],
   "source": [
    "num1,num2=map(int,input(\"enter the interval:  \").split())   #armstrong in interval \n",
    "while num1<num2:                                            # doubts\n",
    "    l=num1\n",
    "    s=0\n",
    "    while num1>0:\n",
    "        rem=num1%10\n",
    "        num1//=10\n",
    "        s+=1\n",
    "    num1=l\n",
    "    print(f\"the value of num1 is {num1}\")\n",
    "    n=0\n",
    "    while l>0:\n",
    "        rem=l%10\n",
    "        n+=(rem**s)\n",
    "        print(f\"the value of n is {n}\")\n",
    "        if n == num1 :\n",
    "            f=1\n",
    "        l//=10\n",
    "    if f==1:\n",
    "        print(f\"{num1} is armstrong number\")\n",
    "    else:\n",
    "        print(f\"{num1} is not armstrong number\")\n",
    "    num1+=1"
   ]
  },
  {
   "cell_type": "code",
   "execution_count": 3,
   "metadata": {},
   "outputs": [
    {
     "name": "stdout",
     "output_type": "stream",
     "text": [
      "enter the numbers:  12 6\n",
      "number divisible by another number\n"
     ]
    }
   ],
   "source": [
    "n1,n2=map(int,input(\"enter the numbers:  \").split()) # number divisible by another number or not\n",
    "if n1%n2==0:\n",
    "    print(\"number divisible by another number\")\n",
    "else :\n",
    "    print(\"number not divisible by another number\")"
   ]
  },
  {
   "cell_type": "code",
   "execution_count": null,
   "metadata": {},
   "outputs": [],
   "source": []
  },
  {
   "cell_type": "markdown",
   "metadata": {},
   "source": [
    "# Assignment9"
   ]
  },
  {
   "cell_type": "code",
   "execution_count": 3,
   "metadata": {},
   "outputs": [
    {
     "name": "stdout",
     "output_type": "stream",
     "text": [
      "enter the number:  13\n",
      "the quotient is 1\n",
      "the remender is 3\n",
      "the quotient is 0\n",
      "the remender is 1\n"
     ]
    }
   ],
   "source": [
    "num=int(input(\"enter the number:  \"))  #to find quotient and remender\n",
    "while num>0:\n",
    "    rem=num%10\n",
    "    num//=10\n",
    "    print(f\"the quotient is {num}\")\n",
    "    print(f\"the remender is {rem}\")"
   ]
  },
  {
   "cell_type": "code",
   "execution_count": 6,
   "metadata": {},
   "outputs": [
    {
     "name": "stdout",
     "output_type": "stream",
     "text": [
      "enter the number:   1234\n",
      "10\n"
     ]
    }
   ],
   "source": [
    "num=int(input(\"enter the number:   \")) #sum of the number of digits\n",
    "s=0\n",
    "while num>0:\n",
    "    rem=num%10\n",
    "    s+=rem\n",
    "    num//=10\n",
    "print(s)"
   ]
  },
  {
   "cell_type": "code",
   "execution_count": 9,
   "metadata": {},
   "outputs": [
    {
     "name": "stdout",
     "output_type": "stream",
     "text": [
      "enter the number:   345\n",
      "60\n"
     ]
    }
   ],
   "source": [
    "num=int(input(\"enter the number:   \")) #product of the number of digits\n",
    "s=1\n",
    "while num>0:\n",
    "    rem=num%10\n",
    "    s*=rem\n",
    "    num//=10\n",
    "print(s)"
   ]
  },
  {
   "cell_type": "code",
   "execution_count": 11,
   "metadata": {},
   "outputs": [
    {
     "name": "stdout",
     "output_type": "stream",
     "text": [
      "how many number you want to enter:   5\n",
      "enter the numbers: \n",
      "23\n",
      "33\n",
      "44\n",
      "55\n",
      "12\n",
      "167\n"
     ]
    }
   ],
   "source": [
    "n=int(input(\"how many number you want to enter:   \"))  #sum of entered number\n",
    "print(\"enter the numbers: \")\n",
    "s=0\n",
    "while n>0:\n",
    "    num=int(input())\n",
    "    s+=num\n",
    "    n-=1\n",
    "print(s)"
   ]
  },
  {
   "cell_type": "code",
   "execution_count": 10,
   "metadata": {},
   "outputs": [
    {
     "name": "stdout",
     "output_type": "stream",
     "text": [
      "enter the binary number: 1100\n",
      "12\n"
     ]
    }
   ],
   "source": [
    "num=int(input(\"enter the binary number: \")) #binary into decimal\n",
    "s=k=0\n",
    "while num>0:\n",
    "    rem=num%10\n",
    "    s+=(2**k)*rem\n",
    "    k+=1\n",
    "    num//=10\n",
    "print(s)"
   ]
  },
  {
   "cell_type": "code",
   "execution_count": null,
   "metadata": {},
   "outputs": [],
   "source": [
    "n1,n2=map(int,(input(\"enter the value:  \").split())\n"
   ]
  }
 ],
 "metadata": {
  "kernelspec": {
   "display_name": "Python 3",
   "language": "python",
   "name": "python3"
  },
  "language_info": {
   "codemirror_mode": {
    "name": "ipython",
    "version": 3
   },
   "file_extension": ".py",
   "mimetype": "text/x-python",
   "name": "python",
   "nbconvert_exporter": "python",
   "pygments_lexer": "ipython3",
   "version": "3.6.5"
  }
 },
 "nbformat": 4,
 "nbformat_minor": 2
}
