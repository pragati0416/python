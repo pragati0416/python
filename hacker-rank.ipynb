{
 "cells": [
  {
   "cell_type": "code",
   "execution_count": 138,
   "metadata": {},
   "outputs": [
    {
     "name": "stdout",
     "output_type": "stream",
     "text": [
      "1\n"
     ]
    }
   ],
   "source": [
    "s='abcdcdc'\n",
    "t='cdc'\n",
    "print(s.count(t))"
   ]
  },
  {
   "cell_type": "code",
   "execution_count": 15,
   "metadata": {},
   "outputs": [
    {
     "data": {
      "text/plain": [
       "[1, 2, 3, 4, 8, 5, 6, 2]"
      ]
     },
     "execution_count": 15,
     "metadata": {},
     "output_type": "execute_result"
    }
   ],
   "source": [
    "l=[1,2,3,4,5,6,2]\n",
    "l.insert(4,8)\n",
    "l"
   ]
  },
  {
   "cell_type": "code",
   "execution_count": 16,
   "metadata": {},
   "outputs": [],
   "source": [
    "l.remove(2)"
   ]
  },
  {
   "cell_type": "code",
   "execution_count": 17,
   "metadata": {},
   "outputs": [
    {
     "data": {
      "text/plain": [
       "[1, 3, 4, 8, 5, 6, 2]"
      ]
     },
     "execution_count": 17,
     "metadata": {},
     "output_type": "execute_result"
    }
   ],
   "source": [
    "l"
   ]
  },
  {
   "cell_type": "code",
   "execution_count": 18,
   "metadata": {},
   "outputs": [
    {
     "name": "stdout",
     "output_type": "stream",
     "text": [
      "5\n",
      "4\n",
      "5\n",
      "6\n",
      "7\n",
      "64\n"
     ]
    }
   ],
   "source": [
    "l=[]\n",
    "t=int(input())\n",
    "for i in range(t):\n",
    "    if (input())"
   ]
  },
  {
   "cell_type": "code",
   "execution_count": 2,
   "metadata": {},
   "outputs": [
    {
     "name": "stdout",
     "output_type": "stream",
     "text": [
      "pop 45\n"
     ]
    },
    {
     "data": {
      "text/plain": [
       "['pop', '45']"
      ]
     },
     "execution_count": 2,
     "metadata": {},
     "output_type": "execute_result"
    }
   ],
   "source": [
    "a=input().split()\n",
    "a"
   ]
  },
  {
   "cell_type": "code",
   "execution_count": 3,
   "metadata": {},
   "outputs": [
    {
     "name": "stdout",
     "output_type": "stream",
     "text": [
      "12\n",
      "insert 0 5\n",
      "insert 1 10\n",
      "insert 0 6\n",
      "print\n",
      "[6, 5, 10]\n",
      "remove 6\n",
      "append 9\n",
      "append 1\n",
      "print\n",
      "[5, 10, 9, 1]\n",
      "sort\n",
      "pop\n",
      "reverse\n",
      "print\n",
      "[9, 5, 1]\n"
     ]
    }
   ],
   "source": [
    "l=[]\n",
    "t=int(input())\n",
    "for i in range(t):\n",
    "    n=input().split()\n",
    "    if n[0]=='pop':\n",
    "        l.pop()\n",
    "    elif n[0]=='reverse':\n",
    "        l.reverse()\n",
    "    elif n[0]=='remove':\n",
    "        l.remove(int(n[1]))\n",
    "    elif n[0]=='append':\n",
    "        l.append(int(n[1]))\n",
    "    elif n[0]=='sort':\n",
    "        l.sort()\n",
    "    elif n[0]=='insert':\n",
    "        l.insert(int(n[1]),int(n[2]))\n",
    "    elif n[0]=='print':\n",
    "        print(l)\n",
    "    "
   ]
  },
  {
   "cell_type": "code",
   "execution_count": 2,
   "metadata": {},
   "outputs": [
    {
     "name": "stdout",
     "output_type": "stream",
     "text": [
      "5 \n",
      "1 2 3 4 5 \n",
      "{1, 2, 3, 4, 5}\n",
      "<class 'set'>\n"
     ]
    }
   ],
   "source": [
    "s=set()\n",
    "t=int(input())\n",
    "m=map(int,input().split())\n",
    "s.update(m)\n",
    "print(s)\n",
    "print(type(s))"
   ]
  },
  {
   "cell_type": "code",
   "execution_count": 5,
   "metadata": {},
   "outputs": [
    {
     "name": "stdout",
     "output_type": "stream",
     "text": [
      "5\n",
      "1 2 4 5 6\n",
      "<class 'set'>\n",
      "6\n",
      "1 2 3 7 8 9\n",
      "9\n"
     ]
    }
   ],
   "source": [
    "s=set()\n",
    "t=set()\n",
    "m=int(input())\n",
    "n=list(map(int,input().split()))\n",
    "s.update(n)\n",
    "print(type(s))\n",
    "u=int(input())\n",
    "v=list(map(int,input().split()))\n",
    "t.update(v)\n",
    "print(len(t.union(s)))\n",
    "    "
   ]
  },
  {
   "cell_type": "code",
   "execution_count": 4,
   "metadata": {},
   "outputs": [
    {
     "name": "stdout",
     "output_type": "stream",
     "text": [
      "5\n"
     ]
    }
   ],
   "source": [
    "s={1,2,3,4,5}\n",
    "print(len(s))"
   ]
  },
  {
   "cell_type": "code",
   "execution_count": 9,
   "metadata": {},
   "outputs": [
    {
     "name": "stdout",
     "output_type": "stream",
     "text": [
      "16\n",
      "1 2 3 4 5 6 7 8 9 10 11 12 13 14 24 52\n",
      "4\n",
      "intersection_update 10\n",
      "2 3 5 6 8 9 1 4 7 11\n",
      "{1, 2, 3, 4, 5, 6, 7, 8, 9, 11}\n",
      "update 2\n",
      "55 66\n",
      "{1, 2, 3, 4, 5, 6, 7, 8, 9, 66, 11, 55}\n",
      "symmetric_difference_update 5\n",
      "22 7 35 62 58\n",
      "{1, 2, 3, 4, 5, 6, 8, 9, 66, 11, 35, 22, 55, 58, 62}\n",
      "difference_update 7\n",
      "11 22 35 55 58 62 66\n",
      "{1, 2, 3, 4, 5, 6, 8, 9}\n",
      "38\n"
     ]
    }
   ],
   "source": [
    "##### Enter your code here. Read input from STDIN. Print output to STDOUT\n",
    "s=set()\n",
    "m=int(input())\n",
    "n=list(map(int,input().split()))\n",
    "s.update(n)\n",
    "t=int(input())\n",
    "for i in range(t):\n",
    "    l=input().split()\n",
    "    if l[0]=='intersection_update':\n",
    "        j=set()\n",
    "        k=list(map(int,input().split()))\n",
    "        j.update(k)\n",
    "        s.intersection_update(j)\n",
    "        print(s)\n",
    "    elif l[0]=='update':\n",
    "        j=set()\n",
    "        k=list(map(int,input().split()))\n",
    "        j.update(k)\n",
    "        s.update(j)\n",
    "        print(s)\n",
    "    elif l[0]=='symmetric_difference_update':\n",
    "        j=set()\n",
    "        k=list(map(int,input().split()))\n",
    "        j.update(k)\n",
    "        s.symmetric_difference_update(j)\n",
    "        print(s)\n",
    "    elif l[0]=='difference_update':\n",
    "        j=set()\n",
    "        k=list(map(int,input().split()))\n",
    "        j.update(k)\n",
    "        s.difference_update(j)\n",
    "        print(s)\n",
    "z=0\n",
    "for i in s:\n",
    "    z+=i\n",
    "print(z)"
   ]
  },
  {
   "cell_type": "code",
   "execution_count": 1,
   "metadata": {},
   "outputs": [
    {
     "name": "stdout",
     "output_type": "stream",
     "text": [
      "{1, 2, 3, 4, 5}\n"
     ]
    }
   ],
   "source": [
    "s={1,2,3,4}\n",
    "t={1,2,5}\n",
    "print(s.union(t))"
   ]
  },
  {
   "cell_type": "code",
   "execution_count": 13,
   "metadata": {},
   "outputs": [
    {
     "name": "stdout",
     "output_type": "stream",
     "text": [
      "10\n",
      "161 182 161 154 176 170 167 171 170 174\n",
      "169.375\n"
     ]
    }
   ],
   "source": [
    "s=set()\n",
    "m=int(input())\n",
    "n=list(map(int,input().split()))\n",
    "s.update(n)\n",
    "l=0\n",
    "for i in s:\n",
    "    l+=i\n",
    "print(l/len(s))"
   ]
  },
  {
   "cell_type": "code",
   "execution_count": 17,
   "metadata": {},
   "outputs": [
    {
     "data": {
      "text/plain": [
       "[161, 167, 170, 171, 174, 176, 182, 154]"
      ]
     },
     "execution_count": 17,
     "metadata": {},
     "output_type": "execute_result"
    }
   ],
   "source": [
    "m=list(map(int,s))\n",
    "m"
   ]
  },
  {
   "cell_type": "code",
   "execution_count": 23,
   "metadata": {},
   "outputs": [
    {
     "name": "stdout",
     "output_type": "stream",
     "text": [
      "5\n",
      "1 2 3 4 5\n",
      "[1, 2, 3, 4, 5]\n",
      "5 6 7 8 9\n",
      "[5, 6, 7, 8, 9]\n"
     ]
    }
   ],
   "source": [
    "n=int(input())\n",
    "n=list(map(int,input().split()))\n",
    "print(n)\n",
    "n=list(map(int,input().split()))\n",
    "print(n)"
   ]
  },
  {
   "cell_type": "code",
   "execution_count": 20,
   "metadata": {},
   "outputs": [
    {
     "name": "stdout",
     "output_type": "stream",
     "text": [
      "3 4 5 6 7\n"
     ]
    }
   ],
   "source": [
    "n=list(map(int,input().split()))"
   ]
  },
  {
   "cell_type": "code",
   "execution_count": 21,
   "metadata": {},
   "outputs": [
    {
     "data": {
      "text/plain": [
       "[3, 4, 5, 6, 7]"
      ]
     },
     "execution_count": 21,
     "metadata": {},
     "output_type": "execute_result"
    }
   ],
   "source": [
    "n"
   ]
  },
  {
   "cell_type": "code",
   "execution_count": 27,
   "metadata": {},
   "outputs": [
    {
     "name": "stdout",
     "output_type": "stream",
     "text": [
      "[1, 2, 3]\n",
      "<class 'list'>\n"
     ]
    }
   ],
   "source": [
    "s={1,2,3}\n",
    "s=list(map(int,s))\n",
    "print(s)\n",
    "print(type(s))"
   ]
  },
  {
   "cell_type": "code",
   "execution_count": null,
   "metadata": {},
   "outputs": [],
   "source": [
    "n,m=map(int,input().split())     #timeout problem\n",
    "n=list(map(int,input().split()))\n",
    "s=set()\n",
    "l=set()\n",
    "p=list(map(int,input().split()))\n",
    "s.update(p)\n",
    "q=list(map(int,input().split()))\n",
    "l.update(q)\n",
    "s=list(map(int,s))\n",
    "l=list(map(int,l))\n",
    "a=b=0\n",
    "for i in n:\n",
    "    for j in s:\n",
    "        if i==j:\n",
    "            a+=1\n",
    "    for k in l:\n",
    "        if i==k:\n",
    "            b+=1\n",
    "print(a-b)"
   ]
  },
  {
   "cell_type": "code",
   "execution_count": null,
   "metadata": {},
   "outputs": [
    {
     "name": "stdout",
     "output_type": "stream",
     "text": [
      "3\n",
      "1 1 "
     ]
    }
   ],
   "source": [
    "number=int(input())\n",
    "for i in range(1,number+1):\n",
    "    print(i,end=' ')\n",
    "    p=i\n",
    "    l=''\n",
    "    while p>=1:\n",
    "        q=p//8\n",
    "        rem=p%8\n",
    "        l+=str(rem)\n",
    "        p=q\n",
    "    print(l[::-1],end=' ')\n",
    "    n=i\n",
    "    l=''\n",
    "    while n>=1:\n",
    "        q=n//16\n",
    "        rem=n%16\n",
    "        if rem==10:\n",
    "            rem='A'\n",
    "        elif rem==11:\n",
    "            rem='B'\n",
    "        elif rem==12:\n",
    "            rem='C'\n",
    "        elif rem==13:\n",
    "            rem='D'\n",
    "        elif rem==14:\n",
    "            rem='E'\n",
    "        elif rem==15:\n",
    "            rem='F'\n",
    "            l+=str(rem)\n",
    "            n=q\n",
    "    print(l[::-1])\n"
   ]
  },
  {
   "cell_type": "code",
   "execution_count": 1,
   "metadata": {},
   "outputs": [
    {
     "data": {
      "text/plain": [
       "'0b10'"
      ]
     },
     "execution_count": 1,
     "metadata": {},
     "output_type": "execute_result"
    }
   ],
   "source": [
    "p=bin(2)\n",
    "print()"
   ]
  },
  {
   "cell_type": "markdown",
   "metadata": {},
   "source": [
    "# Doubts"
   ]
  },
  {
   "cell_type": "code",
   "execution_count": 5,
   "metadata": {},
   "outputs": [
    {
     "name": "stdout",
     "output_type": "stream",
     "text": [
      "3\n",
      " 1  1  1  1\n",
      " 2  2  2 10\n",
      " 3  3  3 11\n"
     ]
    }
   ],
   "source": [
    "n = int(input())\n",
    "width = len(\"{0:b}\".format(n))\n",
    "for i in range(1,n+1):\n",
    "    print(\"{0:{width}d} {0:{width}o} {0:{width}X} {0:{width}b}\".format(i, width=width))"
   ]
  },
  {
   "cell_type": "code",
   "execution_count": 1,
   "metadata": {},
   "outputs": [
    {
     "name": "stdout",
     "output_type": "stream",
     "text": [
      "4\n",
      "herry\n",
      "34.56\n",
      "berry\n",
      "56.78\n",
      "ram\n",
      "56.90\n",
      "shyam\n",
      "78.9\n",
      "berry\n"
     ]
    }
   ],
   "source": [
    "l=[]\n",
    "n=int(input())\n",
    "for i in range(n):\n",
    "    name=input()\n",
    "    score=float(input())\n",
    "    l.append([name,score])\n",
    "l.sort(key=lambda item:item[1],reverse=False)\n",
    "for i in l:\n",
    "    if l[1][1]==i[1]:\n",
    "        print(i[0])\n"
   ]
  },
  {
   "cell_type": "code",
   "execution_count": 4,
   "metadata": {},
   "outputs": [
    {
     "data": {
      "text/plain": [
       "45.67"
      ]
     },
     "execution_count": 4,
     "metadata": {},
     "output_type": "execute_result"
    }
   ],
   "source": [
    "l[1][1]"
   ]
  },
  {
   "cell_type": "code",
   "execution_count": 50,
   "metadata": {},
   "outputs": [],
   "source": [
    "l=[9,2,3,9,1,9,7]"
   ]
  },
  {
   "cell_type": "code",
   "execution_count": 51,
   "metadata": {},
   "outputs": [
    {
     "data": {
      "text/plain": [
       "[9, 9, 9, 7, 3, 2, 1]"
      ]
     },
     "execution_count": 51,
     "metadata": {},
     "output_type": "execute_result"
    }
   ],
   "source": [
    "l.sort(reverse=True)\n",
    "l"
   ]
  },
  {
   "cell_type": "code",
   "execution_count": 52,
   "metadata": {},
   "outputs": [
    {
     "name": "stdout",
     "output_type": "stream",
     "text": [
      "7\n"
     ]
    }
   ],
   "source": [
    "max=l[0]\n",
    "for i in l:\n",
    "    if i<l[0]:\n",
    "        t=i\n",
    "        l[0]=i\n",
    "        i=t\n",
    "        print(l[0])\n",
    "        break"
   ]
  },
  {
   "cell_type": "code",
   "execution_count": 71,
   "metadata": {},
   "outputs": [
    {
     "name": "stdout",
     "output_type": "stream",
     "text": [
      "    H    \n",
      "   HHH   \n",
      "  HHHHH  \n",
      " HHHHHHH \n",
      "HHHHHHHHH\n"
     ]
    }
   ],
   "source": [
    "thickness=5\n",
    "c='H'\n",
    "for i in range(thickness):\n",
    "    print((c*i).rjust(thickness-1)+c+(c*i).ljust(thickness-1))"
   ]
  },
  {
   "cell_type": "code",
   "execution_count": 94,
   "metadata": {},
   "outputs": [
    {
     "name": "stdout",
     "output_type": "stream",
     "text": [
      "  HHHHH               HHHHH             \n",
      "  HHHHH               HHHHH             \n",
      "  HHHHH               HHHHH             \n",
      "  HHHHH               HHHHH             \n",
      "  HHHHH               HHHHH             \n",
      "  HHHHH               HHHHH             \n"
     ]
    }
   ],
   "source": [
    "for i in range(thickness+1):\n",
    "    print((c*thickness).center(thickness*2)+(c*thickness).center(thickness*6))"
   ]
  },
  {
   "cell_type": "code",
   "execution_count": 78,
   "metadata": {},
   "outputs": [
    {
     "name": "stdout",
     "output_type": "stream",
     "text": [
      "  HHHHHHHHHHHHHHHHHHHHHHHHH   \n",
      "  HHHHHHHHHHHHHHHHHHHHHHHHH   \n",
      "  HHHHHHHHHHHHHHHHHHHHHHHHH   \n"
     ]
    }
   ],
   "source": [
    "thickness=5\n",
    "for i in range((thickness+1)//2):\n",
    "    print((c*thickness*5).center(thickness*6))    "
   ]
  },
  {
   "cell_type": "code",
   "execution_count": 91,
   "metadata": {},
   "outputs": [
    {
     "name": "stdout",
     "output_type": "stream",
     "text": [
      "  HHHHH               HHHHH             \n",
      "  HHHHH               HHHHH             \n",
      "  HHHHH               HHHHH             \n",
      "  HHHHH               HHHHH             \n",
      "  HHHHH               HHHHH             \n",
      "  HHHHH               HHHHH             \n"
     ]
    }
   ],
   "source": [
    "for i in range(thickness+1):\n",
    "    print((c*thickness).center(thickness*2)+(c*thickness).center(thickness*6))    "
   ]
  },
  {
   "cell_type": "code",
   "execution_count": 102,
   "metadata": {},
   "outputs": [
    {
     "name": "stdout",
     "output_type": "stream",
     "text": [
      "                    HHHHHHHHH \n",
      "                     HHHHHHH  \n",
      "                      HHHHH   \n",
      "                       HHH    \n",
      "                        H     \n"
     ]
    }
   ],
   "source": [
    "for i in range(thickness):\n",
    "    print(((c*(thickness-i-1)).rjust(thickness)+c+(c*(thickness-i-1)).ljust(thickness)).rjust(thickness*6))"
   ]
  },
  {
   "cell_type": "code",
   "execution_count": 104,
   "metadata": {},
   "outputs": [],
   "source": [
    "import textwrap"
   ]
  },
  {
   "cell_type": "code",
   "execution_count": 106,
   "metadata": {},
   "outputs": [
    {
     "name": "stdout",
     "output_type": "stream",
     "text": [
      "abcdefghijklmnopqrstuvwxyz\n",
      "4\n",
      "abcd\n",
      "efgh\n",
      "ijkl\n",
      "mnop\n",
      "qrst\n",
      "uvwx\n",
      "yz\n"
     ]
    }
   ],
   "source": [
    "s=input()\n",
    "w=int(input())\n",
    "print(textwrap.fill(s,w))"
   ]
  },
  {
   "cell_type": "code",
   "execution_count": 120,
   "metadata": {},
   "outputs": [
    {
     "name": "stdout",
     "output_type": "stream",
     "text": [
      "0\n",
      "nnnnnnnnnnn|nnnnnnnnn\n",
      "1\n",
      "nnnnnnnnnnn|nnnnnnnnn\n",
      "2\n",
      "nnnnnnnnnnn|nnnnnnnnn\n",
      "3\n",
      "$$$$$$$$$$$$$$$$$$$$$\n"
     ]
    }
   ],
   "source": [
    "n=7\n",
    "m=21\n",
    "for i in range(n//2+1):\n",
    "    print(i)\n",
    "    for j in range(m):\n",
    "        if i==(n//2):\n",
    "            print(\"$\",end='')\n",
    "        elif j==(m//2+1):\n",
    "            print('|',end='')\n",
    "        else:\n",
    "            print(\"n\",end='')\n",
    "    print('')\n",
    "            \n",
    "            "
   ]
  },
  {
   "cell_type": "code",
   "execution_count": 137,
   "metadata": {},
   "outputs": [],
   "source": [
    "l=[['herry',-50],['berry',-50],['ram',-50],['shyam',51],['hari',4]]"
   ]
  },
  {
   "cell_type": "code",
   "execution_count": 138,
   "metadata": {},
   "outputs": [],
   "source": [
    "l.sort(key=lambda item:item[1],reverse=True )"
   ]
  },
  {
   "cell_type": "code",
   "execution_count": 139,
   "metadata": {},
   "outputs": [
    {
     "data": {
      "text/plain": [
       "['shyam', 51]"
      ]
     },
     "execution_count": 139,
     "metadata": {},
     "output_type": "execute_result"
    }
   ],
   "source": [
    "l[0]"
   ]
  },
  {
   "cell_type": "code",
   "execution_count": 140,
   "metadata": {},
   "outputs": [
    {
     "name": "stdout",
     "output_type": "stream",
     "text": [
      "4\n"
     ]
    }
   ],
   "source": [
    "max=l[0][1]\n",
    "for i in l:\n",
    "    if i[1]<l[0][1]:\n",
    "        t=i[1]\n",
    "        l[0][1]=i[1]\n",
    "        i[1]=t\n",
    "        print(i[1])\n",
    "        break"
   ]
  },
  {
   "cell_type": "code",
   "execution_count": 6,
   "metadata": {},
   "outputs": [
    {
     "name": "stdout",
     "output_type": "stream",
     "text": [
      "5\n",
      "herry\n",
      "37.21\n",
      "berry\n",
      "37.21\n",
      "tina\n",
      "37.2\n",
      "akriti\n",
      "41\n",
      "harsh\n",
      "39\n",
      "berry\n",
      "herry\n"
     ]
    }
   ],
   "source": [
    "l=[]\n",
    "m=[]\n",
    "for i in range(int(input())):\n",
    "    name=input() \n",
    "    score=float(input())\n",
    "    l.append([name,score])\n",
    "l.sort(key=lambda item:item[1],reverse=False)\n",
    "min=l[0][1]\n",
    "for i in l:\n",
    "    if i[1]>l[0][1]:\n",
    "        s=i[1]\n",
    "        break\n",
    "for i in l:\n",
    "    if i[1]==s:\n",
    "        m.append(i[0])\n",
    "m.sort()\n",
    "for i in m:\n",
    "    print(i)"
   ]
  },
  {
   "cell_type": "code",
   "execution_count": 1,
   "metadata": {},
   "outputs": [
    {
     "name": "stdout",
     "output_type": "stream",
     "text": [
      "Hwrga 4gdsfhsa\n",
      "Hwrga 4gdsfhsa "
     ]
    }
   ],
   "source": [
    "s=input().split()\n",
    "for i in s:\n",
    "    if str(i).isalpha():\n",
    "        print(str(i).title(),end=' ')\n",
    "    else:\n",
    "        print(str(i),end=' ') \n",
    "        "
   ]
  },
  {
   "cell_type": "code",
   "execution_count": 36,
   "metadata": {},
   "outputs": [
    {
     "name": "stdout",
     "output_type": "stream",
     "text": [
      "a\n",
      "b\n",
      "c\n",
      "ab\n",
      "bc\n",
      "abc\n"
     ]
    }
   ],
   "source": [
    "Str='abc'\n",
    "n=len(Str)\n",
    "for Len in range(1,n +1):\n",
    "    for i in range(n - Len + 1):\n",
    "        j = i + Len - 1\n",
    "        for k in range(i,j + 1):\n",
    "            print(Str[k],end=\"\") \n",
    "        print()   "
   ]
  },
  {
   "cell_type": "code",
   "execution_count": 31,
   "metadata": {},
   "outputs": [
    {
     "name": "stdout",
     "output_type": "stream",
     "text": [
      "Return the number of items in a container.\n"
     ]
    }
   ],
   "source": [
    "print(len.__doc__)"
   ]
  },
  {
   "cell_type": "code",
   "execution_count": 1,
   "metadata": {},
   "outputs": [],
   "source": [
    "s=set()"
   ]
  },
  {
   "cell_type": "code",
   "execution_count": 2,
   "metadata": {},
   "outputs": [
    {
     "name": "stdout",
     "output_type": "stream",
     "text": [
      "['__and__', '__class__', '__contains__', '__delattr__', '__dir__', '__doc__', '__eq__', '__format__', '__ge__', '__getattribute__', '__gt__', '__hash__', '__iand__', '__init__', '__init_subclass__', '__ior__', '__isub__', '__iter__', '__ixor__', '__le__', '__len__', '__lt__', '__ne__', '__new__', '__or__', '__rand__', '__reduce__', '__reduce_ex__', '__repr__', '__ror__', '__rsub__', '__rxor__', '__setattr__', '__sizeof__', '__str__', '__sub__', '__subclasshook__', '__xor__', 'add', 'clear', 'copy', 'difference', 'difference_update', 'discard', 'intersection', 'intersection_update', 'isdisjoint', 'issubset', 'issuperset', 'pop', 'remove', 'symmetric_difference', 'symmetric_difference_update', 'union', 'update']\n"
     ]
    }
   ],
   "source": [
    "print(dir(s))"
   ]
  },
  {
   "cell_type": "code",
   "execution_count": 3,
   "metadata": {},
   "outputs": [],
   "source": [
    "l=list()"
   ]
  },
  {
   "cell_type": "code",
   "execution_count": 4,
   "metadata": {},
   "outputs": [
    {
     "name": "stdout",
     "output_type": "stream",
     "text": [
      "['__add__', '__class__', '__contains__', '__delattr__', '__delitem__', '__dir__', '__doc__', '__eq__', '__format__', '__ge__', '__getattribute__', '__getitem__', '__gt__', '__hash__', '__iadd__', '__imul__', '__init__', '__init_subclass__', '__iter__', '__le__', '__len__', '__lt__', '__mul__', '__ne__', '__new__', '__reduce__', '__reduce_ex__', '__repr__', '__reversed__', '__rmul__', '__setattr__', '__setitem__', '__sizeof__', '__str__', '__subclasshook__', 'append', 'clear', 'copy', 'count', 'extend', 'index', 'insert', 'pop', 'remove', 'reverse', 'sort']\n"
     ]
    }
   ],
   "source": [
    "print(dir(l))"
   ]
  },
  {
   "cell_type": "code",
   "execution_count": 5,
   "metadata": {},
   "outputs": [],
   "source": [
    "t=tuple()"
   ]
  },
  {
   "cell_type": "code",
   "execution_count": 6,
   "metadata": {},
   "outputs": [
    {
     "name": "stdout",
     "output_type": "stream",
     "text": [
      "['__add__', '__class__', '__contains__', '__delattr__', '__dir__', '__doc__', '__eq__', '__format__', '__ge__', '__getattribute__', '__getitem__', '__getnewargs__', '__gt__', '__hash__', '__init__', '__init_subclass__', '__iter__', '__le__', '__len__', '__lt__', '__mul__', '__ne__', '__new__', '__reduce__', '__reduce_ex__', '__repr__', '__rmul__', '__setattr__', '__sizeof__', '__str__', '__subclasshook__', 'count', 'index']\n"
     ]
    }
   ],
   "source": [
    "print(dir(t))"
   ]
  },
  {
   "cell_type": "code",
   "execution_count": 33,
   "metadata": {},
   "outputs": [
    {
     "name": "stdout",
     "output_type": "stream",
     "text": [
      "1 2 3 4 5 6 7 12 23 2 13 4 5 6 \n"
     ]
    }
   ],
   "source": [
    "s=input().split()"
   ]
  },
  {
   "cell_type": "code",
   "execution_count": 109,
   "metadata": {},
   "outputs": [
    {
     "name": "stdout",
     "output_type": "stream",
     "text": [
      "{'13', '23', '3', '6', '7', '4', '1', '5', '12', '2'}\n"
     ]
    }
   ],
   "source": [
    "t=set(s)\n",
    "print(t)"
   ]
  },
  {
   "cell_type": "code",
   "execution_count": 110,
   "metadata": {},
   "outputs": [],
   "source": [
    "s1=set([2,3,4])"
   ]
  },
  {
   "cell_type": "code",
   "execution_count": 96,
   "metadata": {},
   "outputs": [],
   "source": [
    "p={1,2,3,4,5,6,1,2,3}"
   ]
  },
  {
   "cell_type": "code",
   "execution_count": 97,
   "metadata": {},
   "outputs": [
    {
     "data": {
      "text/plain": [
       "{1, 2, 3, 4, 5, 6}"
      ]
     },
     "execution_count": 97,
     "metadata": {},
     "output_type": "execute_result"
    }
   ],
   "source": [
    "p"
   ]
  },
  {
   "cell_type": "code",
   "execution_count": 98,
   "metadata": {},
   "outputs": [],
   "source": [
    "q={1,2,3}"
   ]
  },
  {
   "cell_type": "code",
   "execution_count": 99,
   "metadata": {},
   "outputs": [
    {
     "data": {
      "text/plain": [
       "True"
      ]
     },
     "execution_count": 99,
     "metadata": {},
     "output_type": "execute_result"
    }
   ],
   "source": [
    "q.issubset(p)"
   ]
  },
  {
   "cell_type": "code",
   "execution_count": 100,
   "metadata": {},
   "outputs": [
    {
     "name": "stdout",
     "output_type": "stream",
     "text": [
      "<class 'set'>\n",
      "<class 'set'>\n"
     ]
    }
   ],
   "source": [
    "print(type(q))\n",
    "print(type(p))"
   ]
  },
  {
   "cell_type": "code",
   "execution_count": 106,
   "metadata": {},
   "outputs": [
    {
     "data": {
      "text/plain": [
       "False"
      ]
     },
     "execution_count": 106,
     "metadata": {},
     "output_type": "execute_result"
    }
   ],
   "source": [
    "s1.issubset(t) "
   ]
  },
  {
   "cell_type": "code",
   "execution_count": 130,
   "metadata": {},
   "outputs": [
    {
     "name": "stdout",
     "output_type": "stream",
     "text": [
      "2.\n"
     ]
    }
   ],
   "source": [
    "f=eval(input())"
   ]
  },
  {
   "cell_type": "code",
   "execution_count": 134,
   "metadata": {},
   "outputs": [
    {
     "data": {
      "text/plain": [
       "float"
      ]
     },
     "execution_count": 134,
     "metadata": {},
     "output_type": "execute_result"
    }
   ],
   "source": [
    "type(f)"
   ]
  },
  {
   "cell_type": "code",
   "execution_count": 139,
   "metadata": {},
   "outputs": [],
   "source": [
    "l=[1,2,3,4,5,3,2,1]"
   ]
  },
  {
   "cell_type": "code",
   "execution_count": 142,
   "metadata": {},
   "outputs": [],
   "source": [
    "l.sort(reverse=True)"
   ]
  },
  {
   "cell_type": "code",
   "execution_count": 143,
   "metadata": {},
   "outputs": [
    {
     "data": {
      "text/plain": [
       "[5, 4, 3, 3, 2, 2, 1, 1]"
      ]
     },
     "execution_count": 143,
     "metadata": {},
     "output_type": "execute_result"
    }
   ],
   "source": [
    "l"
   ]
  },
  {
   "cell_type": "code",
   "execution_count": 6,
   "metadata": {},
   "outputs": [
    {
     "name": "stdout",
     "output_type": "stream",
     "text": [
      "i\n",
      "I \n"
     ]
    }
   ],
   "source": [
    "s=input()\n",
    "t=s.split()\n",
    "m=''\n",
    "for i in t:\n",
    "    if i.isalpha():\n",
    "        m=m+i.title()+' '\n",
    "    else:\n",
    "        m=m+i+' '\n",
    "print(m)"
   ]
  },
  {
   "cell_type": "code",
   "execution_count": 5,
   "metadata": {},
   "outputs": [
    {
     "name": "stdout",
     "output_type": "stream",
     "text": [
      "abcdcdc\n",
      "cdc\n",
      "2\n"
     ]
    }
   ],
   "source": [
    "string=input()\n",
    "sub_string=input()\n",
    "count=0\n",
    "for i in range(len(string)):\n",
    "    if string[i]==sub_string[0]:\n",
    "        m=''\n",
    "        k=i\n",
    "        for j in range(len(sub_string)):\n",
    "            if k<len(string):\n",
    "                m+=string[k]\n",
    "            k+=1\n",
    "        if m==sub_string:\n",
    "            count+=1\n",
    "            \n",
    "print(count)    "
   ]
  },
  {
   "cell_type": "code",
   "execution_count": 1,
   "metadata": {},
   "outputs": [
    {
     "name": "stdout",
     "output_type": "stream",
     "text": [
      "100\n",
      "2318\n"
     ]
    }
   ],
   "source": [
    "n=int(input().strip())\n",
    "s=(n-1)//5\n",
    "sum1=sum2=0\n",
    "for i in range(s+1):\n",
    "    if (i*5)%3==0:\n",
    "        pass\n",
    "    else:\n",
    "        sum1+=(i*5)\n",
    "t=(n-1)//3\n",
    "for j in range(t+1):\n",
    "    sum2+=(j*3)\n",
    "print(sum1+sum2)"
   ]
  },
  {
   "cell_type": "code",
   "execution_count": 29,
   "metadata": {},
   "outputs": [
    {
     "name": "stdout",
     "output_type": "stream",
     "text": [
      "2318\n"
     ]
    }
   ],
   "source": [
    "sum=0\n",
    "for i in range(100):\n",
    "    if i%5 ==0 or i%3==0:\n",
    "        sum+=i\n",
    "print(sum)"
   ]
  },
  {
   "cell_type": "code",
   "execution_count": 6,
   "metadata": {},
   "outputs": [
    {
     "name": "stdout",
     "output_type": "stream",
     "text": [
      "10\n",
      "10\n"
     ]
    }
   ],
   "source": [
    "n=int(input().strip())\n",
    "sum=sum1=0\n",
    "t=1\n",
    "s=2\n",
    "while sum<n:\n",
    "    sum=t+s\n",
    "    t=s\n",
    "    s=sum\n",
    "    if sum%2==0 and sum<n:\n",
    "        sum1+=sum\n",
    "print(sum1+2)"
   ]
  },
  {
   "cell_type": "code",
   "execution_count": 23,
   "metadata": {},
   "outputs": [
    {
     "name": "stdout",
     "output_type": "stream",
     "text": [
      "13195\n",
      "[5, 7, 13, 29, 35, 65, 91, 145, 203, 377, 455, 1015, 1885, 2639, 13195]\n"
     ]
    }
   ],
   "source": [
    "import math\n",
    "n=int(input().strip())\n",
    "l=[]\n",
    "for i in range(2,n+1):\n",
    "    if n%i==0:\n",
    "        l.append(i)\n",
    "print(l)"
   ]
  },
  {
   "cell_type": "code",
   "execution_count": 24,
   "metadata": {},
   "outputs": [],
   "source": [
    "from math import sqrt,ceil\n",
    "prime = lambda num,check=2 : True if check == ceil(sqrt(num)) or num == 2 else False if num % check == 0 else prime(num,check+1)"
   ]
  },
  {
   "cell_type": "code",
   "execution_count": 27,
   "metadata": {},
   "outputs": [
    {
     "name": "stdout",
     "output_type": "stream",
     "text": [
      "29\n"
     ]
    }
   ],
   "source": [
    "l1=[]\n",
    "for i in l:\n",
    "    s=prime(i)\n",
    "    if s==True:\n",
    "        l1.append(i)\n",
    "l1.sort(reverse=True)\n",
    "print(l1[0])"
   ]
  },
  {
   "cell_type": "code",
   "execution_count": 10,
   "metadata": {},
   "outputs": [
    {
     "name": "stdout",
     "output_type": "stream",
     "text": [
      "BANANANAAAS\n",
      "Draw\n"
     ]
    }
   ],
   "source": [
    "a=input()\n",
    "c2=[]\n",
    "i1=0\n",
    "count1=count2=0\n",
    "while i1 <len(a):\n",
    "    j=0\n",
    "    while j<(len(a)-i1):\n",
    "        k=0\n",
    "        n=j\n",
    "        c1=[]\n",
    "        while k<=i1:\n",
    "            c1.append(a[n])\n",
    "            n+=1\n",
    "            k+=1\n",
    "        c2.append(c1)    \n",
    "        j+=1\n",
    "    i1+=1\n",
    "for i in c2:\n",
    "    if i[0]=='A'or i[0]=='E'or i[0]=='O'or i[0]=='U'or i[0]=='I':\n",
    "        count1+=1\n",
    "    else:\n",
    "        count2+=1\n",
    "if count1>count2:\n",
    "    print(f\"Kevin {count1}\")\n",
    "elif count1==count2:\n",
    "    print(\"Draw\")\n",
    "else:\n",
    "    print(f\"Stuart {count2}\")"
   ]
  },
  {
   "cell_type": "code",
   "execution_count": 15,
   "metadata": {},
   "outputs": [
    {
     "name": "stdout",
     "output_type": "stream",
     "text": [
      "5\n",
      "1\n",
      "22\n",
      "333\n",
      "4444\n"
     ]
    }
   ],
   "source": [
    "for i in range(1,int(input())):\n",
    "    print(f\"{i}\"*i)\n"
   ]
  },
  {
   "cell_type": "code",
   "execution_count": null,
   "metadata": {},
   "outputs": [],
   "source": []
  }
 ],
 "metadata": {
  "kernelspec": {
   "display_name": "Python 3",
   "language": "python",
   "name": "python3"
  },
  "language_info": {
   "codemirror_mode": {
    "name": "ipython",
    "version": 3
   },
   "file_extension": ".py",
   "mimetype": "text/x-python",
   "name": "python",
   "nbconvert_exporter": "python",
   "pygments_lexer": "ipython3",
   "version": "3.6.5"
  }
 },
 "nbformat": 4,
 "nbformat_minor": 2
}
