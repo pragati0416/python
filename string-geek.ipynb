{
 "cells": [
  {
   "cell_type": "code",
   "execution_count": 46,
   "metadata": {},
   "outputs": [
    {
     "name": "stdout",
     "output_type": "stream",
     "text": [
      "p\n",
      "py\n",
      "pyt\n",
      "pyth\n",
      "pytho\n",
      "python\n"
     ]
    }
   ],
   "source": [
    "s=\"python\"\n",
    "t=\"\"\n",
    "for i in s:\n",
    "    for j in s:\n",
    "        print(j,end='')\n",
    "        if i==j:\n",
    "            break\n",
    "    print('')"
   ]
  },
  {
   "cell_type": "code",
   "execution_count": 48,
   "metadata": {},
   "outputs": [
    {
     "name": "stdout",
     "output_type": "stream",
     "text": [
      "b\n",
      "ba\n",
      "ban\n",
      "ba\n",
      "ban\n",
      "ba\n"
     ]
    }
   ],
   "source": [
    "c1=c2=0\n",
    "s='banana'\n",
    "for i in s:\n",
    "    if i=='a'or i=='e' or i=='i'or i=='o'or i=='u':\n",
    "        for j in s:\n",
    "            print(j,end='')\n",
    "            if i==j:\n",
    "                break\n",
    "        print('')\n",
    "    else:\n",
    "        for j in s:\n",
    "            print(j,end='')\n",
    "            if i==j:\n",
    "                break\n",
    "        print('')\n"
   ]
  },
  {
   "cell_type": "code",
   "execution_count": 50,
   "metadata": {},
   "outputs": [
    {
     "name": "stdout",
     "output_type": "stream",
     "text": [
      "sgeher      676\n",
      "sgeher\n",
      "676\n"
     ]
    }
   ],
   "source": [
    "n,m=input().split()\n",
    "print(n)\n",
    "print(m)"
   ]
  },
  {
   "cell_type": "code",
   "execution_count": null,
   "metadata": {},
   "outputs": [],
   "source": []
  }
 ],
 "metadata": {
  "kernelspec": {
   "display_name": "Python 3",
   "language": "python",
   "name": "python3"
  },
  "language_info": {
   "codemirror_mode": {
    "name": "ipython",
    "version": 3
   },
   "file_extension": ".py",
   "mimetype": "text/x-python",
   "name": "python",
   "nbconvert_exporter": "python",
   "pygments_lexer": "ipython3",
   "version": "3.6.5"
  }
 },
 "nbformat": 4,
 "nbformat_minor": 2
}
